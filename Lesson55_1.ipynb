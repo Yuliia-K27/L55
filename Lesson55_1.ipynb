{
 "cells": [
  {
   "cell_type": "code",
   "execution_count": 1,
   "id": "4acf7a12",
   "metadata": {},
   "outputs": [],
   "source": [
    "import tensorflow as tf\n",
    "import numpy as np\n",
    "from tensorflow.keras.layers import Input, BatchNormalization, LeakyReLU, Reshape\n",
    "from tensorflow.keras.layers import Conv2D, Conv2DTranspose, Activation, Concatenate\n",
    "from tensorflow.keras.layers import Dense, Flatten, Dropout\n",
    "from tensorflow.keras.models import Model\n",
    "from tensorflow.keras.utils import to_categorical\n",
    "from tqdm.notebook import tqdm\n",
    "# Бібліотека для роботи з GIF\n",
    "import imageio\n",
    "from IPython.display import Image\n",
    "#\n",
    "import matplotlib.pyplot as plt\n",
    "import os\n",
    "import ipywidgets"
   ]
  },
  {
   "cell_type": "code",
   "execution_count": 4,
   "id": "10c4a206",
   "metadata": {},
   "outputs": [
    {
     "name": "stdout",
     "output_type": "stream",
     "text": [
      "Downloading data from https://storage.googleapis.com/tensorflow/tf-keras-datasets/mnist.npz\n",
      "11490434/11490434 [==============================] - 1s 0us/step\n"
     ]
    }
   ],
   "source": [
    "DEPTH = 10\n",
    "(train_images, train_labels), (_, _) = tf.keras.datasets.mnist.load_data()\n",
    "train_images = train_images.reshape(train_images.shape[0], 28, 28, 1).astype('float32')\n",
    "train_images = train_images / 255 # нормалізуємо в [0, 1]\n",
    "train_labels = np.array(to_categorical(train_labels, DEPTH))"
   ]
  },
  {
   "cell_type": "code",
   "execution_count": 5,
   "id": "2391018c",
   "metadata": {},
   "outputs": [],
   "source": [
    "RANDOM_DIM = 100\n",
    "\n",
    "class DataGenerator():\n",
    "    def __init__(self, train_images, train_labels, batches_per_epoch, batch_size):\n",
    "        self.train_images = train_images\n",
    "        self.train_labels = train_labels\n",
    "        self.batches_per_epoch = batches_per_epoch\n",
    "        self.batch_size = batch_size\n",
    "    \n",
    "    @staticmethod\n",
    "    def rand_norm(npoints=1, ndim=RANDOM_DIM):\n",
    "        rand_vec = np.random.normal(0, 1, size=[npoints, ndim])\n",
    "        # проекция на поверхю сфери\n",
    "        # rand_vec = rand_vec / np.sqrt(np.sum(np.square(rand_vec), axis=1))[:, np.newaxis]\n",
    "        return rand_vec\n",
    "\n",
    "    def __len__(self):\n",
    "        return self.batches_per_epoch\n",
    "    \n",
    "    def batch(self):\n",
    "        rand_images_indexes = np.random.randint(0, train_images.shape[0], size=self.batch_size)\n",
    "        image_batch = train_images[rand_images_indexes]\n",
    "        labels_batch = train_labels[rand_images_indexes]\n",
    "        return image_batch, labels_batch\n",
    "    \n",
    "    def __iter__(self):\n",
    "        for b in tqdm(range(self.batches_per_epoch), leave=False):\n",
    "            yield self.batch()\n",
    "            \n",
    "    def rand_batch(self):\n",
    "        rand_vec = self.rand_norm(self.batch_size)\n",
    "        rand_labels = np.random.randint(0, 10, size=[self.batch_size])\n",
    "        rand_labels = np.array(to_categorical(rand_labels, DEPTH))\n",
    "        return [rand_vec, rand_labels]\n",
    "\n",
    "np.random.seed(42)\n",
    "images_indexes = np.random.randint(0, len(train_images), size=16)\n",
    "PICS_FROM_DATASET = [train_images[images_indexes], train_labels[images_indexes]]\n",
    "FIXED_NOISE = [DataGenerator.rand_norm(16), train_labels[images_indexes]]"
   ]
  },
  {
   "cell_type": "code",
   "execution_count": 6,
   "id": "d87f5fd4",
   "metadata": {},
   "outputs": [
    {
     "name": "stdout",
     "output_type": "stream",
     "text": [
      "Model: \"generator\"\n",
      "__________________________________________________________________________________________________\n",
      " Layer (type)                   Output Shape         Param #     Connected to                     \n",
      "==================================================================================================\n",
      " input_1 (InputLayer)           [(None, 100)]        0           []                               \n",
      "                                                                                                  \n",
      " input_2 (InputLayer)           [(None, 10)]         0           []                               \n",
      "                                                                                                  \n",
      " concatenate (Concatenate)      (None, 110)          0           ['input_1[0][0]',                \n",
      "                                                                  'input_2[0][0]']                \n",
      "                                                                                                  \n",
      " dense (Dense)                  (None, 1960)         217560      ['concatenate[0][0]']            \n",
      "                                                                                                  \n",
      " batch_normalization (BatchNorm  (None, 1960)        7840        ['dense[0][0]']                  \n",
      " alization)                                                                                       \n",
      "                                                                                                  \n",
      " leaky_re_lu (LeakyReLU)        (None, 1960)         0           ['batch_normalization[0][0]']    \n",
      "                                                                                                  \n",
      " reshape (Reshape)              (None, 7, 7, 40)     0           ['leaky_re_lu[0][0]']            \n",
      "                                                                                                  \n",
      " conv2d_transpose (Conv2DTransp  (None, 14, 14, 80)  80080       ['reshape[0][0]']                \n",
      " ose)                                                                                             \n",
      "                                                                                                  \n",
      " batch_normalization_1 (BatchNo  (None, 14, 14, 80)  320         ['conv2d_transpose[0][0]']       \n",
      " rmalization)                                                                                     \n",
      "                                                                                                  \n",
      " leaky_re_lu_1 (LeakyReLU)      (None, 14, 14, 80)   0           ['batch_normalization_1[0][0]']  \n",
      "                                                                                                  \n",
      " conv2d_transpose_1 (Conv2DTran  (None, 14, 14, 80)  160080      ['leaky_re_lu_1[0][0]']          \n",
      " spose)                                                                                           \n",
      "                                                                                                  \n",
      " batch_normalization_2 (BatchNo  (None, 14, 14, 80)  320         ['conv2d_transpose_1[0][0]']     \n",
      " rmalization)                                                                                     \n",
      "                                                                                                  \n",
      " leaky_re_lu_2 (LeakyReLU)      (None, 14, 14, 80)   0           ['batch_normalization_2[0][0]']  \n",
      "                                                                                                  \n",
      " conv2d_transpose_2 (Conv2DTran  (None, 14, 14, 80)  160080      ['leaky_re_lu_2[0][0]']          \n",
      " spose)                                                                                           \n",
      "                                                                                                  \n",
      " batch_normalization_3 (BatchNo  (None, 14, 14, 80)  320         ['conv2d_transpose_2[0][0]']     \n",
      " rmalization)                                                                                     \n",
      "                                                                                                  \n",
      " leaky_re_lu_3 (LeakyReLU)      (None, 14, 14, 80)   0           ['batch_normalization_3[0][0]']  \n",
      "                                                                                                  \n",
      " conv2d_transpose_3 (Conv2DTran  (None, 14, 14, 80)  160080      ['leaky_re_lu_3[0][0]']          \n",
      " spose)                                                                                           \n",
      "                                                                                                  \n",
      " batch_normalization_4 (BatchNo  (None, 14, 14, 80)  320         ['conv2d_transpose_3[0][0]']     \n",
      " rmalization)                                                                                     \n",
      "                                                                                                  \n",
      " leaky_re_lu_4 (LeakyReLU)      (None, 14, 14, 80)   0           ['batch_normalization_4[0][0]']  \n",
      "                                                                                                  \n",
      " conv2d_transpose_4 (Conv2DTran  (None, 28, 28, 1)   2001        ['leaky_re_lu_4[0][0]']          \n",
      " spose)                                                                                           \n",
      "                                                                                                  \n",
      " activation (Activation)        (None, 28, 28, 1)    0           ['conv2d_transpose_4[0][0]']     \n",
      "                                                                                                  \n",
      "==================================================================================================\n",
      "Total params: 789,001\n",
      "Trainable params: 784,441\n",
      "Non-trainable params: 4,560\n",
      "__________________________________________________________________________________________________\n"
     ]
    }
   ],
   "source": [
    "def make_generator():\n",
    "    complexity = 80\n",
    "    alpha = 0.2\n",
    "    \n",
    "    random_vector = Input(shape=[RANDOM_DIM])\n",
    "    labels = Input(shape=[DEPTH])\n",
    "    \n",
    "    X = Concatenate()([random_vector, labels])\n",
    "    # 1 шар\n",
    "    X = Dense(7 * 7 * int(complexity/2),\n",
    "                          input_dim=RANDOM_DIM,\n",
    "                          kernel_initializer=tf.keras.initializers.RandomNormal(stddev=0.02))(X)\n",
    "    X = BatchNormalization()(X)\n",
    "    X = LeakyReLU(alpha)(X)\n",
    "    \n",
    "    X = Reshape((7, 7, int(complexity/2)))(X)\n",
    "    \n",
    "    # 2 шар\n",
    "    X = Conv2DTranspose(int(complexity), \n",
    "                        kernel_size=(5, 5),\n",
    "                        strides=(2, 2),\n",
    "                        padding='same')(X)\n",
    "    X = BatchNormalization()(X)\n",
    "    X = LeakyReLU(alpha)(X)\n",
    "\n",
    "    # 3 шар\n",
    "    X = Conv2DTranspose(int(complexity),\n",
    "                        kernel_size=(5, 5),\n",
    "                        strides=(1, 1),\n",
    "                        padding='same')(X)\n",
    "    X = BatchNormalization()(X)\n",
    "    X = LeakyReLU(alpha)(X)\n",
    "    \n",
    "    # 4 шар\n",
    "    X = Conv2DTranspose(int(complexity),\n",
    "                        kernel_size=(5, 5),\n",
    "                        strides=(1, 1),\n",
    "                        padding='same')(X)\n",
    "    X = BatchNormalization()(X)\n",
    "    X = LeakyReLU(alpha)(X)\n",
    "    \n",
    "    # 5 шар\n",
    "    X = Conv2DTranspose(int(complexity),\n",
    "                        kernel_size=(5, 5),\n",
    "                        strides=(1, 1),\n",
    "                        padding='same')(X)\n",
    "    X = BatchNormalization()(X)\n",
    "    X = LeakyReLU(alpha)(X)\n",
    "    \n",
    "    # 6 шар\n",
    "    X = Conv2DTranspose(1,\n",
    "                        kernel_size=(5, 5),\n",
    "                        strides=(2, 2),\n",
    "                        padding='same')(X)\n",
    "    X = Activation('sigmoid')(X)\n",
    "    \n",
    "    model = Model(inputs=[random_vector, labels], outputs=X, name='generator')\n",
    "    model.compile(loss='binary_crossentropy',\n",
    "                  metrics=['acc'],\n",
    "                  optimizer='sgd')\n",
    "    model.summary()\n",
    "    return model\n",
    "generator = make_generator()"
   ]
  },
  {
   "cell_type": "code",
   "execution_count": 7,
   "id": "7e444c00",
   "metadata": {},
   "outputs": [
    {
     "name": "stdout",
     "output_type": "stream",
     "text": [
      "1/1 [==============================] - 0s 238ms/step\n"
     ]
    },
    {
     "data": {
      "image/png": "[encoded data removed]",
      "text/plain": [
       "<Figure size 800x400 with 32 Axes>"
      ]
     },
     "metadata": {},
     "output_type": "display_data"
    }
   ],
   "source": [
    "def mkdir_p(path):\n",
    "    try:\n",
    "        os.makedirs(path)\n",
    "    except OSError:\n",
    "        print('Folder already exists')\n",
    "\n",
    "def plot_and_save_images(generated_images, folder_name, title, cols, rows, figsize, show=False, subtitles=False):\n",
    "    fig, axs = plt.subplots(rows, cols, constrained_layout=True)\n",
    "    fig.set_figheight(figsize[0])\n",
    "    fig.set_figwidth(figsize[1])\n",
    "    for i in range(rows):\n",
    "        for j in range(cols):\n",
    "            axs[i][j].imshow(generated_images[i][j], interpolation='nearest', cmap='gray_r')\n",
    "            axs[i][j].axis('off')\n",
    "            if not subtitles is None:\n",
    "                if i == 0 and j == 0:\n",
    "                    axs[i][j].set_title(subtitles[0], fontsize=10)\n",
    "                if i == int(rows/2) and j == 0:\n",
    "                    axs[i][j].set_title(subtitles[1], fontsize=10)\n",
    "    \n",
    "    fig.suptitle(title, fontsize=12)\n",
    "    plt.savefig(os.path.join(folder_name, title + '.png'))\n",
    "    if show:\n",
    "        plt.show()\n",
    "    plt.close()\n",
    "\n",
    "\n",
    "def plot_generated_images(noise, folder_name, title, cols=8, rows=4, figsize=(4, 8), show=False, subtitles=('generated', 'dataset')):\n",
    "    generated_images = generator.predict(noise)\n",
    "    images = np.concatenate([generated_images, PICS_FROM_DATASET[0]])\n",
    "    images = images.reshape(rows, cols, 28, 28)\n",
    "    plot_and_save_images(images, folder_name, title, cols, rows, figsize, show, subtitles)\n",
    "    \n",
    "\n",
    "folder_name = 'GAN_pics_for_gif'\n",
    "mkdir_p(os.path.join(folder_name))\n",
    "\n",
    "title = f\"DCGAN training process {0} epochs\"\n",
    "plot_generated_images(FIXED_NOISE, folder_name, title, show=True)"
   ]
  },
  {
   "cell_type": "code",
   "execution_count": 8,
   "id": "b811f9c7",
   "metadata": {},
   "outputs": [],
   "source": [
    "def optimizer():\n",
    "    return tf.keras.optimizers.Adam(lr=0.0002, beta_1=0.5)"
   ]
  },
  {
   "cell_type": "code",
   "execution_count": 9,
   "id": "ad8aed63",
   "metadata": {},
   "outputs": [
    {
     "name": "stderr",
     "output_type": "stream",
     "text": [
      "WARNING:absl:`lr` is deprecated, please use `learning_rate` instead, or use the legacy optimizer, e.g.,tf.keras.optimizers.legacy.Adam.\n"
     ]
    },
    {
     "name": "stdout",
     "output_type": "stream",
     "text": [
      "Model: \"discriminator\"\n",
      "__________________________________________________________________________________________________\n",
      " Layer (type)                   Output Shape         Param #     Connected to                     \n",
      "==================================================================================================\n",
      " input_3 (InputLayer)           [(None, 28, 28, 1)]  0           []                               \n",
      "                                                                                                  \n",
      " conv2d (Conv2D)                (None, 14, 14, 17)   442         ['input_3[0][0]']                \n",
      "                                                                                                  \n",
      " leaky_re_lu_5 (LeakyReLU)      (None, 14, 14, 17)   0           ['conv2d[0][0]']                 \n",
      "                                                                                                  \n",
      " dropout (Dropout)              (None, 14, 14, 17)   0           ['leaky_re_lu_5[0][0]']          \n",
      "                                                                                                  \n",
      " conv2d_1 (Conv2D)              (None, 7, 7, 35)     14910       ['dropout[0][0]']                \n",
      "                                                                                                  \n",
      " leaky_re_lu_6 (LeakyReLU)      (None, 7, 7, 35)     0           ['conv2d_1[0][0]']               \n",
      "                                                                                                  \n",
      " dropout_1 (Dropout)            (None, 7, 7, 35)     0           ['leaky_re_lu_6[0][0]']          \n",
      "                                                                                                  \n",
      " conv2d_2 (Conv2D)              (None, 4, 4, 70)     61320       ['dropout_1[0][0]']              \n",
      "                                                                                                  \n",
      " leaky_re_lu_7 (LeakyReLU)      (None, 4, 4, 70)     0           ['conv2d_2[0][0]']               \n",
      "                                                                                                  \n",
      " dropout_2 (Dropout)            (None, 4, 4, 70)     0           ['leaky_re_lu_7[0][0]']          \n",
      "                                                                                                  \n",
      " conv2d_3 (Conv2D)              (None, 4, 4, 140)    245140      ['dropout_2[0][0]']              \n",
      "                                                                                                  \n",
      " leaky_re_lu_8 (LeakyReLU)      (None, 4, 4, 140)    0           ['conv2d_3[0][0]']               \n",
      "                                                                                                  \n",
      " dropout_3 (Dropout)            (None, 4, 4, 140)    0           ['leaky_re_lu_8[0][0]']          \n",
      "                                                                                                  \n",
      " conv2d_4 (Conv2D)              (None, 4, 4, 70)     245070      ['dropout_3[0][0]']              \n",
      "                                                                                                  \n",
      " leaky_re_lu_9 (LeakyReLU)      (None, 4, 4, 70)     0           ['conv2d_4[0][0]']               \n",
      "                                                                                                  \n",
      " dropout_4 (Dropout)            (None, 4, 4, 70)     0           ['leaky_re_lu_9[0][0]']          \n",
      "                                                                                                  \n",
      " flatten (Flatten)              (None, 1120)         0           ['dropout_4[0][0]']              \n",
      "                                                                                                  \n",
      " real_fake (Dense)              (None, 1)            1121        ['flatten[0][0]']                \n",
      "                                                                                                  \n",
      " labels (Dense)                 (None, 10)           11210       ['flatten[0][0]']                \n",
      "                                                                                                  \n",
      "==================================================================================================\n",
      "Total params: 579,213\n",
      "Trainable params: 579,213\n",
      "Non-trainable params: 0\n",
      "__________________________________________________________________________________________________\n"
     ]
    }
   ],
   "source": [
    "def make_discriminator():\n",
    "    complexity = 70\n",
    "    drop_rate = 0.2\n",
    "    alpha = 0.2\n",
    "    \n",
    "    inp = Input(shape=(28, 28, 1))\n",
    "    X = inp\n",
    "    # 1 шар\n",
    "    X = Conv2D(int(complexity/4),\n",
    "               kernel_size=(5, 5),\n",
    "               strides=(2, 2),\n",
    "               kernel_initializer=tf.keras.initializers.RandomNormal(stddev=0.02),\n",
    "               padding='same')(X)\n",
    "    X = LeakyReLU(alpha)(X)\n",
    "    X = Dropout(drop_rate)(X)\n",
    "    \n",
    "    # 2 шар\n",
    "    X = Conv2D(int(complexity/2),\n",
    "               kernel_size=(5, 5),\n",
    "               strides=(2, 2),\n",
    "               #kernel_initializer=tf.keras.initializers.RandomNormal(stddev=0.02),\n",
    "               padding='same')(X)\n",
    "    X = LeakyReLU(alpha)(X)\n",
    "    X = Dropout(drop_rate)(X)\n",
    "    \n",
    "    # 3 шар\n",
    "    X = Conv2D(int(complexity),\n",
    "               kernel_size=(5, 5),\n",
    "               strides=(2, 2),\n",
    "               #kernel_initializer=tf.keras.initializers.RandomNormal(stddev=0.02),\n",
    "               padding='same')(X)\n",
    "    X = LeakyReLU(alpha)(X)\n",
    "    X = Dropout(drop_rate)(X)\n",
    "    \n",
    "    # 4 шар\n",
    "    X = Conv2D(int(2*complexity),\n",
    "               kernel_size=(5, 5),\n",
    "               strides=(1, 1),\n",
    "               #kernel_initializer=tf.keras.initializers.RandomNormal(stddev=0.02),\n",
    "            padding='same')(X)\n",
    "    X = LeakyReLU(alpha)(X)\n",
    "    X = Dropout(drop_rate)(X)\n",
    "    \n",
    "    # 5 шар\n",
    "    X = Conv2D(int(complexity),\n",
    "               kernel_size=(5, 5),\n",
    "               strides=(1, 1),\n",
    "               #kernel_initializer=tf.keras.initializers.RandomNormal(stddev=0.02),\n",
    "               padding='same')(X)\n",
    "    X = LeakyReLU(alpha)(X)\n",
    "    X = Dropout(drop_rate)(X)\n",
    "\n",
    "    # 6 шар\n",
    "    X = Flatten()(X)\n",
    "    X_real_fake = Dense(1, activation='sigmoid', name='real_fake')(X)\n",
    "    X_labels = Dense(DEPTH, activation='softmax', name='labels')(X)\n",
    "    \n",
    "    model = Model(inputs=inp, outputs=[X_real_fake, X_labels], name='discriminator')\n",
    "    model.compile(loss={'real_fake': 'binary_crossentropy',\n",
    "                        'labels': 'categorical_crossentropy'},\n",
    "                  loss_weights={'real_fake':1,\n",
    "                                'labels': 1},\n",
    "                  optimizer=optimizer(),\n",
    "                  metrics={'real_fake':'acc'})\n",
    "    \n",
    "    model.summary()\n",
    "    return model\n",
    "discriminator = make_discriminator()"
   ]
  },
  {
   "cell_type": "code",
   "execution_count": 10,
   "id": "7bda5677",
   "metadata": {},
   "outputs": [
    {
     "name": "stdout",
     "output_type": "stream",
     "text": [
      "1/1 [==============================] - 0s 53ms/step\n",
      "1/1 [==============================] - 0s 78ms/step\n"
     ]
    },
    {
     "data": {
      "text/plain": [
       "[array([[0.49808538],\n",
       "        [0.49808887],\n",
       "        [0.4980894 ],\n",
       "        [0.49809223],\n",
       "        [0.49809107],\n",
       "        [0.4980917 ],\n",
       "        [0.49809217],\n",
       "        [0.49809253],\n",
       "        [0.4980894 ],\n",
       "        [0.49809253],\n",
       "        [0.49809018],\n",
       "        [0.49808905],\n",
       "        [0.4980914 ],\n",
       "        [0.4980932 ],\n",
       "        [0.49808905],\n",
       "        [0.4980852 ]], dtype=float32),\n",
       " array([[0.10030654, 0.09959585, 0.10038324, 0.09990591, 0.10019304,\n",
       "         0.10015843, 0.09966584, 0.10012312, 0.09967213, 0.09999583],\n",
       "        [0.10030595, 0.09959611, 0.10038286, 0.09990591, 0.1001916 ,\n",
       "         0.10015991, 0.09966543, 0.10012227, 0.099672  , 0.09999799],\n",
       "        [0.10030556, 0.09959546, 0.1003835 , 0.09990563, 0.1001894 ,\n",
       "         0.10015853, 0.09966614, 0.10012345, 0.09967417, 0.09999808],\n",
       "        [0.10030499, 0.09959532, 0.1003831 , 0.09990688, 0.10019137,\n",
       "         0.10015921, 0.09966604, 0.10012313, 0.09967331, 0.0999966 ],\n",
       "        [0.10030468, 0.09959553, 0.1003825 , 0.0999063 , 0.10019168,\n",
       "         0.10016043, 0.09966388, 0.10012442, 0.09967399, 0.09999658],\n",
       "        [0.10030551, 0.09959444, 0.10038266, 0.09990686, 0.10019252,\n",
       "         0.10015859, 0.09966461, 0.100123  , 0.09967368, 0.09999814],\n",
       "        [0.10030657, 0.09959609, 0.10038203, 0.09990765, 0.10019301,\n",
       "         0.10015845, 0.09966414, 0.10012195, 0.09967472, 0.09999546],\n",
       "        [0.10030683, 0.09959449, 0.10038261, 0.09990692, 0.10019302,\n",
       "         0.1001595 , 0.09966436, 0.10012274, 0.09967237, 0.09999713],\n",
       "        [0.10030547, 0.09959853, 0.10038242, 0.09990694, 0.1001917 ,\n",
       "         0.10015848, 0.09966608, 0.10012308, 0.09967214, 0.09999514],\n",
       "        [0.10030643, 0.09959514, 0.1003827 , 0.09990621, 0.10019384,\n",
       "         0.10015877, 0.0996656 , 0.10012192, 0.09967288, 0.09999648],\n",
       "        [0.1003049 , 0.09959628, 0.10038231, 0.09990668, 0.10019253,\n",
       "         0.10015971, 0.09966579, 0.10012207, 0.09967425, 0.09999549],\n",
       "        [0.10030644, 0.09959462, 0.10038265, 0.09990628, 0.10019255,\n",
       "         0.10015952, 0.09966515, 0.10012281, 0.09967213, 0.09999779],\n",
       "        [0.10030456, 0.09959664, 0.10038207, 0.09990741, 0.10019279,\n",
       "         0.10016088, 0.09966429, 0.10012219, 0.09967276, 0.09999637],\n",
       "        [0.10030791, 0.09959659, 0.10038172, 0.09990622, 0.10019213,\n",
       "         0.1001574 , 0.09966452, 0.10012437, 0.09967311, 0.09999606],\n",
       "        [0.10030658, 0.0995954 , 0.10038253, 0.09990553, 0.10019094,\n",
       "         0.10015976, 0.09966569, 0.10012197, 0.09967433, 0.09999733],\n",
       "        [0.10030313, 0.09959681, 0.10038304, 0.09990671, 0.10019391,\n",
       "         0.10015881, 0.09966653, 0.10012235, 0.09967431, 0.09999435]],\n",
       "       dtype=float32)]"
      ]
     },
     "execution_count": 10,
     "metadata": {},
     "output_type": "execute_result"
    }
   ],
   "source": [
    "discriminator.predict(generator.predict(FIXED_NOISE))\n"
   ]
  },
  {
   "cell_type": "code",
   "execution_count": 11,
   "id": "1bc1edf8",
   "metadata": {},
   "outputs": [
    {
     "name": "stderr",
     "output_type": "stream",
     "text": [
      "WARNING:absl:`lr` is deprecated, please use `learning_rate` instead, or use the legacy optimizer, e.g.,tf.keras.optimizers.legacy.Adam.\n"
     ]
    },
    {
     "name": "stdout",
     "output_type": "stream",
     "text": [
      "Model: \"model\"\n",
      "__________________________________________________________________________________________________\n",
      " Layer (type)                   Output Shape         Param #     Connected to                     \n",
      "==================================================================================================\n",
      " input_1 (InputLayer)           [(None, 100)]        0           []                               \n",
      "                                                                                                  \n",
      " input_2 (InputLayer)           [(None, 10)]         0           []                               \n",
      "                                                                                                  \n",
      " generator (Functional)         (None, 28, 28, 1)    789001      ['input_1[0][0]',                \n",
      "                                                                  'input_2[0][0]']                \n",
      "                                                                                                  \n",
      " discriminator (Functional)     [(None, 1),          579213      ['generator[0][0]']              \n",
      "                                 (None, 10)]                                                      \n",
      "                                                                                                  \n",
      "==================================================================================================\n",
      "Total params: 1,368,214\n",
      "Trainable params: 1,363,654\n",
      "Non-trainable params: 4,560\n",
      "__________________________________________________________________________________________________\n"
     ]
    }
   ],
   "source": [
    "def make_gan(discriminator, generator):   \n",
    "    noise = generator.inputs\n",
    "    image = generator(noise)\n",
    "    real_vs_fake_and_label = discriminator(image)\n",
    "    gan = Model(inputs=noise, outputs=real_vs_fake_and_label)\n",
    "    discriminator.trainable = False  \n",
    "    gan.compile(loss={'discriminator':'binary_crossentropy',\n",
    "                      'discriminator_1':'categorical_crossentropy'},\n",
    "                \n",
    "                optimizer=optimizer(),\n",
    "                metrics={'discriminator':'acc'})\n",
    "    discriminator.trainable = True\n",
    "    gan.summary()\n",
    "    return gan\n",
    "gan = make_gan(discriminator, generator)"
   ]
  },
  {
   "cell_type": "code",
   "execution_count": null,
   "id": "c86b847e",
   "metadata": {},
   "outputs": [
    {
     "data": {
      "application/vnd.jupyter.widget-view+json": {
       "model_id": "f04596eb91274f01878ffbfcda6988e7",
       "version_major": 2,
       "version_minor": 0
      },
      "text/plain": [
       "  0%|          | 0/500 [00:00<?, ?it/s]"
      ]
     },
     "metadata": {},
     "output_type": "display_data"
    },
    {
     "data": {
      "application/vnd.jupyter.widget-view+json": {
       "model_id": "",
       "version_major": 2,
       "version_minor": 0
      },
      "text/plain": [
       "  0%|          | 0/40 [00:00<?, ?it/s]"
      ]
     },
     "metadata": {},
     "output_type": "display_data"
    },
    {
     "name": "stdout",
     "output_type": "stream",
     "text": [
      "4/4 [==============================] - 0s 57ms/step\n",
      "4/4 [==============================] - 0s 58ms/step\n",
      "4/4 [==============================] - 0s 59ms/step\n",
      "4/4 [==============================] - 0s 56ms/step\n",
      "4/4 [==============================] - 0s 58ms/step\n",
      "4/4 [==============================] - 0s 58ms/step\n",
      "4/4 [==============================] - 0s 56ms/step\n",
      "4/4 [==============================] - 0s 60ms/step\n",
      "4/4 [==============================] - 0s 57ms/step\n",
      "4/4 [==============================] - 0s 57ms/step\n",
      "4/4 [==============================] - 0s 57ms/step\n",
      "4/4 [==============================] - 0s 57ms/step\n",
      "4/4 [==============================] - 0s 54ms/step\n",
      "4/4 [==============================] - 0s 58ms/step\n",
      "4/4 [==============================] - 0s 63ms/step\n",
      "4/4 [==============================] - 0s 64ms/step\n",
      "4/4 [==============================] - 0s 63ms/step\n",
      "4/4 [==============================] - 0s 63ms/step\n",
      "4/4 [==============================] - 0s 68ms/step\n",
      "4/4 [==============================] - 0s 63ms/step\n",
      "4/4 [==============================] - 0s 64ms/step\n",
      "4/4 [==============================] - 0s 64ms/step\n",
      "4/4 [==============================] - 0s 62ms/step\n",
      "4/4 [==============================] - 0s 64ms/step\n",
      "4/4 [==============================] - 0s 62ms/step\n",
      "4/4 [==============================] - 0s 64ms/step\n",
      "4/4 [==============================] - 0s 64ms/step\n",
      "4/4 [==============================] - 0s 70ms/step\n",
      "4/4 [==============================] - 0s 82ms/step\n",
      "4/4 [==============================] - 0s 71ms/step\n",
      "4/4 [==============================] - 0s 70ms/step\n",
      "4/4 [==============================] - 0s 69ms/step\n",
      "4/4 [==============================] - 0s 68ms/step\n",
      "4/4 [==============================] - 0s 68ms/step\n",
      "4/4 [==============================] - 0s 68ms/step\n",
      "4/4 [==============================] - 0s 68ms/step\n",
      "4/4 [==============================] - 0s 86ms/step\n",
      "4/4 [==============================] - 0s 62ms/step\n",
      "4/4 [==============================] - 0s 62ms/step\n",
      "4/4 [==============================] - 0s 63ms/step\n",
      "1/1 [==============================] - 0s 56ms/step\n"
     ]
    },
    {
     "data": {
      "application/vnd.jupyter.widget-view+json": {
       "model_id": "",
       "version_major": 2,
       "version_minor": 0
      },
      "text/plain": [
       "  0%|          | 0/40 [00:00<?, ?it/s]"
      ]
     },
     "metadata": {},
     "output_type": "display_data"
    },
    {
     "name": "stdout",
     "output_type": "stream",
     "text": [
      "4/4 [==============================] - 0s 57ms/step\n",
      "4/4 [==============================] - 0s 65ms/step\n",
      "4/4 [==============================] - 0s 63ms/step\n",
      "4/4 [==============================] - 0s 64ms/step\n",
      "4/4 [==============================] - 0s 66ms/step\n",
      "4/4 [==============================] - 0s 63ms/step\n",
      "4/4 [==============================] - 0s 65ms/step\n",
      "4/4 [==============================] - 0s 63ms/step\n",
      "4/4 [==============================] - 0s 64ms/step\n",
      "4/4 [==============================] - 0s 65ms/step\n",
      "4/4 [==============================] - 0s 64ms/step\n",
      "4/4 [==============================] - 0s 69ms/step\n",
      "4/4 [==============================] - 0s 67ms/step\n",
      "4/4 [==============================] - 0s 66ms/step\n",
      "4/4 [==============================] - 0s 77ms/step\n",
      "4/4 [==============================] - 0s 70ms/step\n",
      "4/4 [==============================] - 0s 68ms/step\n",
      "4/4 [==============================] - 0s 71ms/step\n",
      "4/4 [==============================] - 0s 67ms/step\n",
      "4/4 [==============================] - 0s 69ms/step\n",
      "4/4 [==============================] - 0s 69ms/step\n",
      "4/4 [==============================] - 0s 63ms/step\n",
      "4/4 [==============================] - 0s 66ms/step\n",
      "4/4 [==============================] - 0s 70ms/step\n",
      "4/4 [==============================] - 0s 64ms/step\n",
      "4/4 [==============================] - 0s 66ms/step\n",
      "4/4 [==============================] - 0s 64ms/step\n",
      "4/4 [==============================] - 0s 65ms/step\n",
      "4/4 [==============================] - 0s 67ms/step\n",
      "4/4 [==============================] - 0s 67ms/step\n",
      "4/4 [==============================] - 0s 67ms/step\n",
      "4/4 [==============================] - 0s 64ms/step\n",
      "4/4 [==============================] - 0s 63ms/step\n",
      "4/4 [==============================] - 0s 66ms/step\n",
      "4/4 [==============================] - 0s 65ms/step\n",
      "4/4 [==============================] - 0s 69ms/step\n",
      "4/4 [==============================] - 0s 70ms/step\n",
      "4/4 [==============================] - 0s 68ms/step\n",
      "4/4 [==============================] - 0s 70ms/step\n",
      "4/4 [==============================] - 0s 69ms/step\n",
      "1/1 [==============================] - 0s 55ms/step\n"
     ]
    },
    {
     "data": {
      "application/vnd.jupyter.widget-view+json": {
       "model_id": "",
       "version_major": 2,
       "version_minor": 0
      },
      "text/plain": [
       "  0%|          | 0/40 [00:00<?, ?it/s]"
      ]
     },
     "metadata": {},
     "output_type": "display_data"
    },
    {
     "name": "stdout",
     "output_type": "stream",
     "text": [
      "4/4 [==============================] - 0s 67ms/step\n",
      "4/4 [==============================] - 0s 68ms/step\n",
      "4/4 [==============================] - 0s 70ms/step\n",
      "4/4 [==============================] - 0s 66ms/step\n",
      "4/4 [==============================] - 0s 64ms/step\n",
      "4/4 [==============================] - 0s 65ms/step\n",
      "4/4 [==============================] - 0s 64ms/step\n",
      "4/4 [==============================] - 0s 63ms/step\n",
      "4/4 [==============================] - 0s 65ms/step\n",
      "4/4 [==============================] - 0s 64ms/step\n",
      "4/4 [==============================] - 0s 66ms/step\n",
      "4/4 [==============================] - 0s 86ms/step\n",
      "4/4 [==============================] - 0s 71ms/step\n",
      "4/4 [==============================] - 0s 66ms/step\n",
      "4/4 [==============================] - 0s 63ms/step\n",
      "4/4 [==============================] - 0s 63ms/step\n",
      "4/4 [==============================] - 0s 66ms/step\n",
      "4/4 [==============================] - 0s 66ms/step\n",
      "4/4 [==============================] - 0s 65ms/step\n",
      "4/4 [==============================] - 0s 68ms/step\n",
      "4/4 [==============================] - 0s 67ms/step\n",
      "4/4 [==============================] - 0s 70ms/step\n",
      "4/4 [==============================] - 0s 69ms/step\n",
      "4/4 [==============================] - 0s 67ms/step\n",
      "4/4 [==============================] - 0s 70ms/step\n",
      "4/4 [==============================] - 0s 68ms/step\n",
      "4/4 [==============================] - 0s 81ms/step\n",
      "4/4 [==============================] - 0s 69ms/step\n",
      "4/4 [==============================] - 0s 71ms/step\n",
      "4/4 [==============================] - 0s 63ms/step\n",
      "4/4 [==============================] - 0s 66ms/step\n",
      "4/4 [==============================] - 0s 63ms/step\n",
      "4/4 [==============================] - 0s 65ms/step\n",
      "4/4 [==============================] - 0s 65ms/step\n",
      "4/4 [==============================] - 0s 63ms/step\n",
      "4/4 [==============================] - 0s 66ms/step\n",
      "4/4 [==============================] - 0s 65ms/step\n",
      "4/4 [==============================] - 0s 63ms/step\n",
      "4/4 [==============================] - 0s 66ms/step\n",
      "4/4 [==============================] - 0s 63ms/step\n",
      "1/1 [==============================] - 0s 57ms/step\n"
     ]
    },
    {
     "data": {
      "application/vnd.jupyter.widget-view+json": {
       "model_id": "",
       "version_major": 2,
       "version_minor": 0
      },
      "text/plain": [
       "  0%|          | 0/40 [00:00<?, ?it/s]"
      ]
     },
     "metadata": {},
     "output_type": "display_data"
    },
    {
     "name": "stdout",
     "output_type": "stream",
     "text": [
      "4/4 [==============================] - 0s 58ms/step\n",
      "4/4 [==============================] - 0s 66ms/step\n",
      "4/4 [==============================] - 0s 65ms/step\n",
      "4/4 [==============================] - 0s 68ms/step\n",
      "4/4 [==============================] - 0s 70ms/step\n",
      "4/4 [==============================] - 0s 70ms/step\n",
      "4/4 [==============================] - 0s 67ms/step\n",
      "4/4 [==============================] - 0s 68ms/step\n",
      "4/4 [==============================] - 0s 71ms/step\n",
      "4/4 [==============================] - 0s 66ms/step\n",
      "4/4 [==============================] - 0s 69ms/step\n",
      "4/4 [==============================] - 0s 70ms/step\n",
      "4/4 [==============================] - 0s 68ms/step\n",
      "4/4 [==============================] - 0s 66ms/step\n",
      "4/4 [==============================] - 0s 63ms/step\n",
      "4/4 [==============================] - 0s 65ms/step\n",
      "4/4 [==============================] - 0s 66ms/step\n",
      "4/4 [==============================] - 0s 64ms/step\n",
      "4/4 [==============================] - 0s 66ms/step\n",
      "4/4 [==============================] - 0s 65ms/step\n",
      "4/4 [==============================] - 0s 64ms/step\n",
      "4/4 [==============================] - 0s 66ms/step\n",
      "4/4 [==============================] - 0s 64ms/step\n",
      "4/4 [==============================] - 0s 65ms/step\n",
      "4/4 [==============================] - 0s 69ms/step\n",
      "4/4 [==============================] - 0s 63ms/step\n",
      "4/4 [==============================] - 0s 67ms/step\n",
      "4/4 [==============================] - 0s 65ms/step\n",
      "4/4 [==============================] - 0s 69ms/step\n",
      "4/4 [==============================] - 0s 70ms/step\n",
      "4/4 [==============================] - 0s 69ms/step\n",
      "4/4 [==============================] - 0s 70ms/step\n",
      "4/4 [==============================] - 0s 70ms/step\n",
      "4/4 [==============================] - 0s 67ms/step\n",
      "4/4 [==============================] - 0s 69ms/step\n",
      "4/4 [==============================] - 0s 70ms/step\n",
      "4/4 [==============================] - 0s 68ms/step\n",
      "4/4 [==============================] - 0s 65ms/step\n",
      "4/4 [==============================] - 0s 69ms/step\n",
      "4/4 [==============================] - 0s 64ms/step\n",
      "1/1 [==============================] - 0s 58ms/step\n"
     ]
    },
    {
     "data": {
      "application/vnd.jupyter.widget-view+json": {
       "model_id": "",
       "version_major": 2,
       "version_minor": 0
      },
      "text/plain": [
       "  0%|          | 0/40 [00:00<?, ?it/s]"
      ]
     },
     "metadata": {},
     "output_type": "display_data"
    },
    {
     "name": "stdout",
     "output_type": "stream",
     "text": [
      "4/4 [==============================] - 0s 55ms/step\n",
      "4/4 [==============================] - 0s 65ms/step\n",
      "4/4 [==============================] - 0s 66ms/step\n",
      "4/4 [==============================] - 0s 63ms/step\n",
      "4/4 [==============================] - 0s 66ms/step\n",
      "4/4 [==============================] - 0s 66ms/step\n",
      "4/4 [==============================] - 0s 69ms/step\n",
      "4/4 [==============================] - 0s 66ms/step\n",
      "4/4 [==============================] - 0s 64ms/step\n",
      "4/4 [==============================] - 0s 74ms/step\n",
      "4/4 [==============================] - 0s 73ms/step\n",
      "4/4 [==============================] - 0s 69ms/step\n",
      "4/4 [==============================] - 0s 69ms/step\n",
      "4/4 [==============================] - 0s 70ms/step\n",
      "4/4 [==============================] - 0s 71ms/step\n",
      "4/4 [==============================] - 0s 69ms/step\n",
      "4/4 [==============================] - 0s 71ms/step\n",
      "4/4 [==============================] - 0s 68ms/step\n",
      "4/4 [==============================] - 0s 73ms/step\n",
      "4/4 [==============================] - 0s 78ms/step\n",
      "4/4 [==============================] - 0s 69ms/step\n",
      "4/4 [==============================] - 0s 65ms/step\n",
      "4/4 [==============================] - 0s 66ms/step\n",
      "4/4 [==============================] - 0s 67ms/step\n",
      "4/4 [==============================] - 0s 65ms/step\n",
      "4/4 [==============================] - 0s 69ms/step\n",
      "4/4 [==============================] - 0s 67ms/step\n",
      "4/4 [==============================] - 0s 65ms/step\n",
      "4/4 [==============================] - 0s 69ms/step\n",
      "4/4 [==============================] - 0s 65ms/step\n",
      "4/4 [==============================] - 0s 69ms/step\n",
      "4/4 [==============================] - 0s 69ms/step\n",
      "4/4 [==============================] - 0s 65ms/step\n",
      "4/4 [==============================] - 0s 67ms/step\n",
      "4/4 [==============================] - 0s 71ms/step\n",
      "4/4 [==============================] - 0s 71ms/step\n",
      "4/4 [==============================] - 0s 70ms/step\n",
      "4/4 [==============================] - 0s 71ms/step\n",
      "4/4 [==============================] - 0s 68ms/step\n",
      "4/4 [==============================] - 0s 70ms/step\n",
      "1/1 [==============================] - 0s 58ms/step\n"
     ]
    },
    {
     "data": {
      "application/vnd.jupyter.widget-view+json": {
       "model_id": "",
       "version_major": 2,
       "version_minor": 0
      },
      "text/plain": [
       "  0%|          | 0/40 [00:00<?, ?it/s]"
      ]
     },
     "metadata": {},
     "output_type": "display_data"
    },
    {
     "name": "stdout",
     "output_type": "stream",
     "text": [
      "4/4 [==============================] - 0s 65ms/step\n",
      "4/4 [==============================] - 0s 71ms/step\n",
      "4/4 [==============================] - 0s 71ms/step\n",
      "4/4 [==============================] - 0s 66ms/step\n",
      "4/4 [==============================] - 0s 68ms/step\n",
      "4/4 [==============================] - 0s 65ms/step\n",
      "4/4 [==============================] - 0s 64ms/step\n",
      "4/4 [==============================] - 0s 67ms/step\n",
      "4/4 [==============================] - 0s 65ms/step\n",
      "4/4 [==============================] - 0s 67ms/step\n",
      "4/4 [==============================] - 0s 66ms/step\n",
      "4/4 [==============================] - 0s 64ms/step\n",
      "4/4 [==============================] - 0s 66ms/step\n",
      "4/4 [==============================] - 0s 65ms/step\n",
      "4/4 [==============================] - 0s 65ms/step\n",
      "4/4 [==============================] - 0s 77ms/step\n",
      "4/4 [==============================] - 0s 65ms/step\n",
      "4/4 [==============================] - 0s 68ms/step\n",
      "4/4 [==============================] - 0s 69ms/step\n",
      "4/4 [==============================] - 0s 67ms/step\n",
      "4/4 [==============================] - 0s 68ms/step\n",
      "4/4 [==============================] - 0s 69ms/step\n",
      "4/4 [==============================] - 0s 68ms/step\n",
      "4/4 [==============================] - 0s 69ms/step\n",
      "4/4 [==============================] - 0s 71ms/step\n",
      "4/4 [==============================] - 0s 68ms/step\n",
      "4/4 [==============================] - 0s 68ms/step\n",
      "4/4 [==============================] - 0s 67ms/step\n",
      "4/4 [==============================] - 0s 65ms/step\n",
      "4/4 [==============================] - 0s 66ms/step\n",
      "4/4 [==============================] - 0s 65ms/step\n",
      "4/4 [==============================] - 0s 65ms/step\n",
      "4/4 [==============================] - 0s 67ms/step\n",
      "4/4 [==============================] - 0s 65ms/step\n",
      "4/4 [==============================] - 0s 66ms/step\n",
      "4/4 [==============================] - 0s 67ms/step\n",
      "4/4 [==============================] - 0s 65ms/step\n",
      "4/4 [==============================] - 0s 67ms/step\n",
      "4/4 [==============================] - 0s 64ms/step\n",
      "4/4 [==============================] - 0s 69ms/step\n",
      "1/1 [==============================] - 0s 56ms/step\n"
     ]
    },
    {
     "data": {
      "application/vnd.jupyter.widget-view+json": {
       "model_id": "",
       "version_major": 2,
       "version_minor": 0
      },
      "text/plain": [
       "  0%|          | 0/40 [00:00<?, ?it/s]"
      ]
     },
     "metadata": {},
     "output_type": "display_data"
    },
    {
     "name": "stdout",
     "output_type": "stream",
     "text": [
      "4/4 [==============================] - 0s 62ms/step\n",
      "4/4 [==============================] - 0s 70ms/step\n",
      "4/4 [==============================] - 0s 71ms/step\n",
      "4/4 [==============================] - 0s 69ms/step\n",
      "4/4 [==============================] - 0s 71ms/step\n",
      "4/4 [==============================] - 0s 72ms/step\n",
      "4/4 [==============================] - 0s 69ms/step\n",
      "4/4 [==============================] - 0s 70ms/step\n",
      "4/4 [==============================] - 0s 69ms/step\n",
      "4/4 [==============================] - 0s 68ms/step\n",
      "4/4 [==============================] - 0s 77ms/step\n",
      "4/4 [==============================] - 0s 67ms/step\n",
      "4/4 [==============================] - 0s 66ms/step\n",
      "4/4 [==============================] - 0s 70ms/step\n",
      "4/4 [==============================] - 0s 66ms/step\n",
      "4/4 [==============================] - 0s 65ms/step\n",
      "4/4 [==============================] - 0s 66ms/step\n",
      "4/4 [==============================] - 0s 65ms/step\n",
      "4/4 [==============================] - 0s 66ms/step\n",
      "4/4 [==============================] - 0s 66ms/step\n",
      "4/4 [==============================] - 0s 64ms/step\n",
      "4/4 [==============================] - 0s 71ms/step\n",
      "4/4 [==============================] - 0s 65ms/step\n",
      "4/4 [==============================] - 0s 65ms/step\n",
      "4/4 [==============================] - 0s 67ms/step\n",
      "4/4 [==============================] - 0s 68ms/step\n",
      "4/4 [==============================] - 0s 69ms/step\n",
      "4/4 [==============================] - 0s 71ms/step\n",
      "4/4 [==============================] - 0s 69ms/step\n",
      "4/4 [==============================] - 0s 69ms/step\n",
      "4/4 [==============================] - 0s 71ms/step\n",
      "4/4 [==============================] - 0s 71ms/step\n",
      "4/4 [==============================] - 0s 70ms/step\n",
      "4/4 [==============================] - 0s 70ms/step\n",
      "4/4 [==============================] - 0s 65ms/step\n",
      "4/4 [==============================] - 0s 66ms/step\n",
      "4/4 [==============================] - 0s 65ms/step\n",
      "4/4 [==============================] - 0s 67ms/step\n",
      "4/4 [==============================] - 0s 69ms/step\n",
      "4/4 [==============================] - 0s 69ms/step\n",
      "1/1 [==============================] - 0s 57ms/step\n"
     ]
    },
    {
     "data": {
      "application/vnd.jupyter.widget-view+json": {
       "model_id": "",
       "version_major": 2,
       "version_minor": 0
      },
      "text/plain": [
       "  0%|          | 0/40 [00:00<?, ?it/s]"
      ]
     },
     "metadata": {},
     "output_type": "display_data"
    },
    {
     "name": "stdout",
     "output_type": "stream",
     "text": [
      "4/4 [==============================] - 0s 62ms/step\n",
      "4/4 [==============================] - 0s 66ms/step\n",
      "4/4 [==============================] - 0s 66ms/step\n",
      "4/4 [==============================] - 0s 69ms/step\n",
      "4/4 [==============================] - 0s 69ms/step\n",
      "4/4 [==============================] - 0s 69ms/step\n",
      "4/4 [==============================] - 0s 68ms/step\n",
      "4/4 [==============================] - 0s 66ms/step\n",
      "4/4 [==============================] - 0s 71ms/step\n",
      "4/4 [==============================] - 0s 72ms/step\n",
      "4/4 [==============================] - 0s 69ms/step\n",
      "4/4 [==============================] - 0s 75ms/step\n",
      "4/4 [==============================] - 0s 80ms/step\n",
      "4/4 [==============================] - 0s 78ms/step\n",
      "4/4 [==============================] - 0s 72ms/step\n",
      "4/4 [==============================] - 0s 75ms/step\n",
      "4/4 [==============================] - 0s 73ms/step\n",
      "4/4 [==============================] - 0s 72ms/step\n",
      "4/4 [==============================] - 0s 70ms/step\n",
      "4/4 [==============================] - 0s 67ms/step\n",
      "4/4 [==============================] - 0s 66ms/step\n",
      "4/4 [==============================] - 0s 68ms/step\n",
      "4/4 [==============================] - 0s 65ms/step\n",
      "4/4 [==============================] - 0s 67ms/step\n",
      "4/4 [==============================] - 0s 68ms/step\n",
      "4/4 [==============================] - 0s 66ms/step\n",
      "4/4 [==============================] - 0s 67ms/step\n",
      "4/4 [==============================] - 0s 69ms/step\n",
      "4/4 [==============================] - 0s 66ms/step\n",
      "4/4 [==============================] - 0s 77ms/step\n",
      "4/4 [==============================] - 0s 70ms/step\n",
      "4/4 [==============================] - 0s 70ms/step\n",
      "4/4 [==============================] - 0s 74ms/step\n",
      "4/4 [==============================] - 0s 72ms/step\n",
      "4/4 [==============================] - 0s 70ms/step\n",
      "4/4 [==============================] - 0s 72ms/step\n",
      "4/4 [==============================] - 0s 72ms/step\n",
      "4/4 [==============================] - 0s 69ms/step\n",
      "4/4 [==============================] - 0s 72ms/step\n",
      "4/4 [==============================] - 0s 72ms/step\n",
      "1/1 [==============================] - 0s 57ms/step\n"
     ]
    },
    {
     "data": {
      "application/vnd.jupyter.widget-view+json": {
       "model_id": "",
       "version_major": 2,
       "version_minor": 0
      },
      "text/plain": [
       "  0%|          | 0/40 [00:00<?, ?it/s]"
      ]
     },
     "metadata": {},
     "output_type": "display_data"
    },
    {
     "name": "stdout",
     "output_type": "stream",
     "text": [
      "4/4 [==============================] - 0s 70ms/step\n",
      "4/4 [==============================] - 0s 66ms/step\n",
      "4/4 [==============================] - 0s 66ms/step\n",
      "4/4 [==============================] - 0s 69ms/step\n",
      "4/4 [==============================] - 0s 66ms/step\n",
      "4/4 [==============================] - 0s 67ms/step\n",
      "4/4 [==============================] - 0s 67ms/step\n",
      "4/4 [==============================] - 0s 66ms/step\n",
      "4/4 [==============================] - 0s 69ms/step\n",
      "4/4 [==============================] - 0s 65ms/step\n",
      "4/4 [==============================] - 0s 65ms/step\n",
      "4/4 [==============================] - 0s 67ms/step\n",
      "4/4 [==============================] - 0s 67ms/step\n",
      "4/4 [==============================] - 0s 66ms/step\n",
      "4/4 [==============================] - 0s 71ms/step\n",
      "4/4 [==============================] - 0s 70ms/step\n",
      "4/4 [==============================] - 0s 72ms/step\n",
      "4/4 [==============================] - 0s 71ms/step\n",
      "4/4 [==============================] - 0s 71ms/step\n",
      "4/4 [==============================] - 0s 71ms/step\n",
      "4/4 [==============================] - 0s 72ms/step\n",
      "4/4 [==============================] - 0s 71ms/step\n",
      "4/4 [==============================] - 0s 70ms/step\n",
      "4/4 [==============================] - 0s 72ms/step\n",
      "4/4 [==============================] - 0s 66ms/step\n",
      "4/4 [==============================] - 0s 68ms/step\n",
      "4/4 [==============================] - 0s 68ms/step\n",
      "4/4 [==============================] - 0s 64ms/step\n",
      "4/4 [==============================] - 0s 68ms/step\n",
      "4/4 [==============================] - 0s 66ms/step\n",
      "4/4 [==============================] - 0s 65ms/step\n",
      "4/4 [==============================] - 0s 68ms/step\n",
      "4/4 [==============================] - 0s 66ms/step\n",
      "4/4 [==============================] - 0s 67ms/step\n",
      "4/4 [==============================] - 0s 67ms/step\n",
      "4/4 [==============================] - 0s 66ms/step\n",
      "4/4 [==============================] - 0s 69ms/step\n",
      "4/4 [==============================] - 0s 65ms/step\n",
      "4/4 [==============================] - 0s 69ms/step\n",
      "4/4 [==============================] - 0s 72ms/step\n",
      "1/1 [==============================] - 0s 68ms/step\n"
     ]
    },
    {
     "data": {
      "application/vnd.jupyter.widget-view+json": {
       "model_id": "",
       "version_major": 2,
       "version_minor": 0
      },
      "text/plain": [
       "  0%|          | 0/40 [00:00<?, ?it/s]"
      ]
     },
     "metadata": {},
     "output_type": "display_data"
    },
    {
     "name": "stdout",
     "output_type": "stream",
     "text": [
      "4/4 [==============================] - 0s 64ms/step\n",
      "4/4 [==============================] - 0s 72ms/step\n",
      "4/4 [==============================] - 0s 70ms/step\n",
      "4/4 [==============================] - 0s 70ms/step\n",
      "4/4 [==============================] - 0s 72ms/step\n",
      "4/4 [==============================] - 0s 70ms/step\n",
      "4/4 [==============================] - 0s 66ms/step\n",
      "4/4 [==============================] - 0s 67ms/step\n",
      "4/4 [==============================] - 0s 65ms/step\n",
      "4/4 [==============================] - 0s 68ms/step\n",
      "4/4 [==============================] - 0s 66ms/step\n",
      "4/4 [==============================] - 0s 66ms/step\n",
      "4/4 [==============================] - 0s 68ms/step\n",
      "4/4 [==============================] - 0s 68ms/step\n",
      "4/4 [==============================] - 0s 71ms/step\n",
      "4/4 [==============================] - 0s 67ms/step\n",
      "4/4 [==============================] - 0s 65ms/step\n",
      "4/4 [==============================] - 0s 67ms/step\n",
      "4/4 [==============================] - 0s 67ms/step\n",
      "4/4 [==============================] - 0s 66ms/step\n",
      "4/4 [==============================] - 0s 71ms/step\n",
      "4/4 [==============================] - 0s 65ms/step\n",
      "4/4 [==============================] - 0s 69ms/step\n",
      "4/4 [==============================] - 0s 71ms/step\n",
      "4/4 [==============================] - 0s 70ms/step\n",
      "4/4 [==============================] - 0s 71ms/step\n",
      "4/4 [==============================] - 0s 72ms/step\n",
      "4/4 [==============================] - 0s 70ms/step\n",
      "4/4 [==============================] - 0s 69ms/step\n",
      "4/4 [==============================] - 0s 71ms/step\n",
      "4/4 [==============================] - 0s 70ms/step\n",
      "4/4 [==============================] - 0s 69ms/step\n",
      "4/4 [==============================] - 0s 67ms/step\n",
      "4/4 [==============================] - 0s 65ms/step\n",
      "4/4 [==============================] - 0s 68ms/step\n",
      "4/4 [==============================] - 0s 68ms/step\n",
      "4/4 [==============================] - 0s 66ms/step\n",
      "4/4 [==============================] - 0s 68ms/step\n",
      "4/4 [==============================] - 0s 65ms/step\n",
      "4/4 [==============================] - 0s 66ms/step\n",
      "1/1 [==============================] - 0s 57ms/step\n"
     ]
    },
    {
     "data": {
      "application/vnd.jupyter.widget-view+json": {
       "model_id": "",
       "version_major": 2,
       "version_minor": 0
      },
      "text/plain": [
       "  0%|          | 0/40 [00:00<?, ?it/s]"
      ]
     },
     "metadata": {},
     "output_type": "display_data"
    },
    {
     "name": "stdout",
     "output_type": "stream",
     "text": [
      "4/4 [==============================] - 0s 59ms/step\n",
      "4/4 [==============================] - 0s 67ms/step\n",
      "4/4 [==============================] - 0s 66ms/step\n",
      "4/4 [==============================] - 0s 66ms/step\n",
      "4/4 [==============================] - 0s 68ms/step\n",
      "4/4 [==============================] - 0s 67ms/step\n",
      "4/4 [==============================] - 0s 70ms/step\n",
      "4/4 [==============================] - 0s 72ms/step\n",
      "4/4 [==============================] - 0s 69ms/step\n",
      "4/4 [==============================] - 0s 69ms/step\n",
      "4/4 [==============================] - 0s 72ms/step\n",
      "4/4 [==============================] - 0s 71ms/step\n",
      "4/4 [==============================] - 0s 68ms/step\n",
      "4/4 [==============================] - 0s 72ms/step\n",
      "4/4 [==============================] - 0s 69ms/step\n",
      "4/4 [==============================] - 0s 66ms/step\n",
      "4/4 [==============================] - 0s 67ms/step\n",
      "4/4 [==============================] - 0s 67ms/step\n",
      "4/4 [==============================] - 0s 68ms/step\n",
      "4/4 [==============================] - 0s 68ms/step\n",
      "4/4 [==============================] - 0s 69ms/step\n",
      "4/4 [==============================] - 0s 68ms/step\n",
      "4/4 [==============================] - 0s 66ms/step\n",
      "4/4 [==============================] - 0s 66ms/step\n",
      "4/4 [==============================] - 0s 68ms/step\n",
      "4/4 [==============================] - 0s 66ms/step\n",
      "4/4 [==============================] - 0s 67ms/step\n",
      "4/4 [==============================] - 0s 67ms/step\n",
      "4/4 [==============================] - 0s 66ms/step\n",
      "4/4 [==============================] - 0s 69ms/step\n",
      "4/4 [==============================] - 0s 69ms/step\n",
      "4/4 [==============================] - 0s 69ms/step\n",
      "4/4 [==============================] - 0s 72ms/step\n",
      "4/4 [==============================] - 0s 70ms/step\n",
      "4/4 [==============================] - 0s 69ms/step\n",
      "4/4 [==============================] - 0s 72ms/step\n",
      "4/4 [==============================] - 0s 70ms/step\n",
      "4/4 [==============================] - 0s 68ms/step\n",
      "4/4 [==============================] - 0s 71ms/step\n",
      "4/4 [==============================] - 0s 71ms/step\n",
      "1/1 [==============================] - 0s 59ms/step\n"
     ]
    },
    {
     "data": {
      "application/vnd.jupyter.widget-view+json": {
       "model_id": "",
       "version_major": 2,
       "version_minor": 0
      },
      "text/plain": [
       "  0%|          | 0/40 [00:00<?, ?it/s]"
      ]
     },
     "metadata": {},
     "output_type": "display_data"
    },
    {
     "name": "stdout",
     "output_type": "stream",
     "text": [
      "4/4 [==============================] - 0s 61ms/step\n",
      "4/4 [==============================] - 0s 69ms/step\n",
      "4/4 [==============================] - 0s 68ms/step\n",
      "4/4 [==============================] - 0s 67ms/step\n",
      "4/4 [==============================] - 0s 66ms/step\n",
      "4/4 [==============================] - 0s 67ms/step\n",
      "4/4 [==============================] - 0s 66ms/step\n",
      "4/4 [==============================] - 0s 66ms/step\n",
      "4/4 [==============================] - 0s 68ms/step\n",
      "4/4 [==============================] - 0s 64ms/step\n",
      "4/4 [==============================] - 0s 69ms/step\n",
      "4/4 [==============================] - 0s 70ms/step\n",
      "4/4 [==============================] - 0s 66ms/step\n",
      "4/4 [==============================] - 0s 73ms/step\n",
      "4/4 [==============================] - 0s 71ms/step\n",
      "4/4 [==============================] - 0s 69ms/step\n",
      "4/4 [==============================] - 0s 76ms/step\n",
      "4/4 [==============================] - 0s 70ms/step\n",
      "4/4 [==============================] - 0s 69ms/step\n",
      "4/4 [==============================] - 0s 72ms/step\n",
      "4/4 [==============================] - 0s 71ms/step\n",
      "4/4 [==============================] - 0s 70ms/step\n",
      "4/4 [==============================] - 0s 73ms/step\n",
      "4/4 [==============================] - 0s 68ms/step\n",
      "4/4 [==============================] - 0s 66ms/step\n",
      "4/4 [==============================] - 0s 68ms/step\n",
      "4/4 [==============================] - 0s 69ms/step\n",
      "4/4 [==============================] - 0s 66ms/step\n",
      "4/4 [==============================] - 0s 69ms/step\n",
      "4/4 [==============================] - 0s 66ms/step\n",
      "4/4 [==============================] - 0s 68ms/step\n",
      "4/4 [==============================] - 0s 68ms/step\n",
      "4/4 [==============================] - 0s 66ms/step\n",
      "4/4 [==============================] - 0s 67ms/step\n",
      "4/4 [==============================] - 0s 66ms/step\n",
      "4/4 [==============================] - 0s 65ms/step\n",
      "4/4 [==============================] - 0s 68ms/step\n",
      "4/4 [==============================] - 0s 69ms/step\n",
      "4/4 [==============================] - 0s 69ms/step\n",
      "4/4 [==============================] - 0s 72ms/step\n",
      "1/1 [==============================] - 0s 59ms/step\n"
     ]
    },
    {
     "data": {
      "image/png": "[encoded data removed]",
      "text/plain": [
       "<Figure size 800x400 with 32 Axes>"
      ]
     },
     "metadata": {},
     "output_type": "display_data"
    },
    {
     "name": "stdout",
     "output_type": "stream",
     "text": [
      "Якщо генератор і дескрімінатор сбалансовані, точність генератора прямує в 0 або 1:\n",
      "0.5355143229166667\n"
     ]
    },
    {
     "data": {
      "application/vnd.jupyter.widget-view+json": {
       "model_id": "",
       "version_major": 2,
       "version_minor": 0
      },
      "text/plain": [
       "  0%|          | 0/40 [00:00<?, ?it/s]"
      ]
     },
     "metadata": {},
     "output_type": "display_data"
    },
    {
     "name": "stdout",
     "output_type": "stream",
     "text": [
      "4/4 [==============================] - 0s 65ms/step\n",
      "4/4 [==============================] - 0s 71ms/step\n",
      "4/4 [==============================] - 0s 69ms/step\n",
      "4/4 [==============================] - 0s 70ms/step\n",
      "4/4 [==============================] - 0s 70ms/step\n",
      "4/4 [==============================] - 0s 66ms/step\n",
      "4/4 [==============================] - 0s 67ms/step\n",
      "4/4 [==============================] - 0s 68ms/step\n",
      "4/4 [==============================] - 0s 65ms/step\n",
      "4/4 [==============================] - 0s 71ms/step\n",
      "4/4 [==============================] - 0s 67ms/step\n",
      "4/4 [==============================] - 0s 66ms/step\n",
      "4/4 [==============================] - 0s 68ms/step\n",
      "4/4 [==============================] - 0s 67ms/step\n",
      "4/4 [==============================] - 0s 67ms/step\n",
      "4/4 [==============================] - 0s 67ms/step\n",
      "4/4 [==============================] - 0s 67ms/step\n",
      "4/4 [==============================] - 0s 69ms/step\n",
      "4/4 [==============================] - 0s 67ms/step\n",
      "4/4 [==============================] - 0s 66ms/step\n",
      "4/4 [==============================] - 0s 68ms/step\n",
      "4/4 [==============================] - 0s 70ms/step\n",
      "4/4 [==============================] - 0s 69ms/step\n",
      "4/4 [==============================] - 0s 72ms/step\n",
      "4/4 [==============================] - 0s 68ms/step\n",
      "4/4 [==============================] - 0s 70ms/step\n",
      "4/4 [==============================] - 0s 72ms/step\n",
      "4/4 [==============================] - 0s 89ms/step\n",
      "4/4 [==============================] - 0s 86ms/step\n",
      "4/4 [==============================] - 0s 81ms/step\n",
      "4/4 [==============================] - 0s 73ms/step\n",
      "4/4 [==============================] - 0s 67ms/step\n",
      "4/4 [==============================] - 0s 66ms/step\n",
      "4/4 [==============================] - 0s 68ms/step\n",
      "4/4 [==============================] - 0s 66ms/step\n",
      "4/4 [==============================] - 0s 67ms/step\n",
      "4/4 [==============================] - 0s 68ms/step\n",
      "4/4 [==============================] - 0s 65ms/step\n",
      "4/4 [==============================] - 0s 67ms/step\n",
      "4/4 [==============================] - 0s 68ms/step\n",
      "1/1 [==============================] - 0s 57ms/step\n"
     ]
    },
    {
     "data": {
      "application/vnd.jupyter.widget-view+json": {
       "model_id": "",
       "version_major": 2,
       "version_minor": 0
      },
      "text/plain": [
       "  0%|          | 0/40 [00:00<?, ?it/s]"
      ]
     },
     "metadata": {},
     "output_type": "display_data"
    },
    {
     "name": "stdout",
     "output_type": "stream",
     "text": [
      "4/4 [==============================] - 0s 58ms/step\n",
      "4/4 [==============================] - 0s 67ms/step\n",
      "4/4 [==============================] - 0s 68ms/step\n",
      "4/4 [==============================] - 0s 69ms/step\n",
      "4/4 [==============================] - 0s 70ms/step\n",
      "4/4 [==============================] - 0s 73ms/step\n",
      "4/4 [==============================] - 0s 71ms/step\n",
      "4/4 [==============================] - 0s 70ms/step\n",
      "4/4 [==============================] - 0s 76ms/step\n",
      "4/4 [==============================] - 0s 77ms/step\n",
      "4/4 [==============================] - 0s 75ms/step\n",
      "4/4 [==============================] - 0s 75ms/step\n",
      "4/4 [==============================] - 0s 79ms/step\n",
      "4/4 [==============================] - 0s 85ms/step\n",
      "4/4 [==============================] - 0s 74ms/step\n",
      "4/4 [==============================] - 0s 68ms/step\n",
      "4/4 [==============================] - 0s 117ms/step\n",
      "4/4 [==============================] - 0s 69ms/step\n",
      "4/4 [==============================] - 0s 66ms/step\n",
      "4/4 [==============================] - 0s 69ms/step\n",
      "4/4 [==============================] - 0s 69ms/step\n",
      "4/4 [==============================] - 0s 67ms/step\n",
      "4/4 [==============================] - 0s 70ms/step\n",
      "4/4 [==============================] - 0s 67ms/step\n",
      "4/4 [==============================] - 0s 69ms/step\n",
      "4/4 [==============================] - 0s 70ms/step\n",
      "4/4 [==============================] - 0s 69ms/step\n",
      "4/4 [==============================] - 0s 71ms/step\n",
      "4/4 [==============================] - 0s 72ms/step\n",
      "4/4 [==============================] - 0s 71ms/step\n",
      "4/4 [==============================] - 0s 80ms/step\n",
      "4/4 [==============================] - 0s 73ms/step\n",
      "4/4 [==============================] - 0s 72ms/step\n",
      "4/4 [==============================] - 0s 69ms/step\n",
      "4/4 [==============================] - 0s 76ms/step\n",
      "4/4 [==============================] - 0s 72ms/step\n",
      "4/4 [==============================] - 0s 72ms/step\n",
      "4/4 [==============================] - 0s 89ms/step\n",
      "4/4 [==============================] - 0s 91ms/step\n",
      "4/4 [==============================] - 0s 70ms/step\n",
      "1/1 [==============================] - 0s 60ms/step\n"
     ]
    },
    {
     "data": {
      "application/vnd.jupyter.widget-view+json": {
       "model_id": "",
       "version_major": 2,
       "version_minor": 0
      },
      "text/plain": [
       "  0%|          | 0/40 [00:00<?, ?it/s]"
      ]
     },
     "metadata": {},
     "output_type": "display_data"
    },
    {
     "name": "stdout",
     "output_type": "stream",
     "text": [
      "4/4 [==============================] - 0s 66ms/step\n",
      "4/4 [==============================] - 0s 66ms/step\n",
      "4/4 [==============================] - 0s 69ms/step\n",
      "4/4 [==============================] - 0s 75ms/step\n",
      "4/4 [==============================] - 0s 67ms/step\n",
      "4/4 [==============================] - 0s 69ms/step\n",
      "4/4 [==============================] - 0s 68ms/step\n",
      "4/4 [==============================] - 0s 70ms/step\n",
      "4/4 [==============================] - 0s 70ms/step\n",
      "4/4 [==============================] - 0s 69ms/step\n",
      "4/4 [==============================] - 0s 69ms/step\n",
      "4/4 [==============================] - 0s 69ms/step\n",
      "4/4 [==============================] - 0s 71ms/step\n",
      "4/4 [==============================] - 0s 69ms/step\n",
      "4/4 [==============================] - 0s 69ms/step\n",
      "4/4 [==============================] - 0s 72ms/step\n",
      "4/4 [==============================] - 0s 71ms/step\n",
      "4/4 [==============================] - 0s 100ms/step\n",
      "4/4 [==============================] - 0s 71ms/step\n",
      "4/4 [==============================] - 0s 67ms/step\n",
      "4/4 [==============================] - 0s 69ms/step\n",
      "4/4 [==============================] - 0s 67ms/step\n",
      "4/4 [==============================] - 0s 66ms/step\n",
      "4/4 [==============================] - 0s 66ms/step\n",
      "4/4 [==============================] - 0s 68ms/step\n",
      "4/4 [==============================] - 0s 66ms/step\n",
      "4/4 [==============================] - 0s 68ms/step\n",
      "4/4 [==============================] - 0s 68ms/step\n",
      "4/4 [==============================] - 0s 66ms/step\n",
      "4/4 [==============================] - 0s 68ms/step\n",
      "4/4 [==============================] - 0s 66ms/step\n",
      "4/4 [==============================] - 0s 65ms/step\n",
      "4/4 [==============================] - 0s 68ms/step\n",
      "4/4 [==============================] - 0s 66ms/step\n",
      "4/4 [==============================] - 0s 68ms/step\n",
      "4/4 [==============================] - 0s 72ms/step\n",
      "4/4 [==============================] - 0s 69ms/step\n",
      "4/4 [==============================] - 0s 69ms/step\n",
      "4/4 [==============================] - 0s 72ms/step\n",
      "4/4 [==============================] - 0s 68ms/step\n",
      "1/1 [==============================] - 0s 64ms/step\n"
     ]
    },
    {
     "data": {
      "application/vnd.jupyter.widget-view+json": {
       "model_id": "",
       "version_major": 2,
       "version_minor": 0
      },
      "text/plain": [
       "  0%|          | 0/40 [00:00<?, ?it/s]"
      ]
     },
     "metadata": {},
     "output_type": "display_data"
    },
    {
     "name": "stdout",
     "output_type": "stream",
     "text": [
      "4/4 [==============================] - 0s 68ms/step\n",
      "4/4 [==============================] - 0s 68ms/step\n",
      "4/4 [==============================] - 0s 68ms/step\n",
      "4/4 [==============================] - 0s 69ms/step\n",
      "4/4 [==============================] - 0s 66ms/step\n",
      "4/4 [==============================] - 0s 68ms/step\n",
      "4/4 [==============================] - 0s 67ms/step\n",
      "4/4 [==============================] - 0s 67ms/step\n",
      "4/4 [==============================] - 0s 68ms/step\n",
      "4/4 [==============================] - 0s 66ms/step\n",
      "4/4 [==============================] - 0s 68ms/step\n",
      "4/4 [==============================] - 0s 69ms/step\n",
      "4/4 [==============================] - 0s 66ms/step\n",
      "4/4 [==============================] - 0s 69ms/step\n",
      "4/4 [==============================] - 0s 66ms/step\n",
      "4/4 [==============================] - 0s 67ms/step\n",
      "4/4 [==============================] - 0s 68ms/step\n",
      "4/4 [==============================] - 0s 69ms/step\n",
      "4/4 [==============================] - 0s 73ms/step\n",
      "4/4 [==============================] - 0s 73ms/step\n",
      "4/4 [==============================] - 0s 69ms/step\n",
      "4/4 [==============================] - 0s 70ms/step\n",
      "4/4 [==============================] - 0s 71ms/step\n",
      "4/4 [==============================] - 0s 69ms/step\n",
      "4/4 [==============================] - 0s 69ms/step\n",
      "4/4 [==============================] - 0s 73ms/step\n",
      "4/4 [==============================] - 0s 69ms/step\n",
      "4/4 [==============================] - 0s 67ms/step\n",
      "4/4 [==============================] - 0s 68ms/step\n",
      "4/4 [==============================] - 0s 66ms/step\n",
      "4/4 [==============================] - 0s 68ms/step\n",
      "4/4 [==============================] - 0s 68ms/step\n",
      "4/4 [==============================] - 0s 66ms/step\n",
      "4/4 [==============================] - 0s 68ms/step\n",
      "4/4 [==============================] - 0s 66ms/step\n",
      "4/4 [==============================] - 0s 67ms/step\n",
      "4/4 [==============================] - 0s 68ms/step\n",
      "4/4 [==============================] - 0s 66ms/step\n",
      "4/4 [==============================] - 0s 69ms/step\n",
      "4/4 [==============================] - 0s 66ms/step\n",
      "1/1 [==============================] - 0s 59ms/step\n"
     ]
    },
    {
     "data": {
      "application/vnd.jupyter.widget-view+json": {
       "model_id": "",
       "version_major": 2,
       "version_minor": 0
      },
      "text/plain": [
       "  0%|          | 0/40 [00:00<?, ?it/s]"
      ]
     },
     "metadata": {},
     "output_type": "display_data"
    },
    {
     "name": "stdout",
     "output_type": "stream",
     "text": [
      "4/4 [==============================] - 0s 60ms/step\n",
      "4/4 [==============================] - 0s 72ms/step\n",
      "4/4 [==============================] - 0s 71ms/step\n",
      "4/4 [==============================] - 0s 73ms/step\n",
      "4/4 [==============================] - 0s 73ms/step\n",
      "4/4 [==============================] - 0s 71ms/step\n",
      "4/4 [==============================] - 0s 71ms/step\n",
      "4/4 [==============================] - 0s 70ms/step\n",
      "4/4 [==============================] - 0s 71ms/step\n",
      "4/4 [==============================] - 0s 73ms/step\n",
      "4/4 [==============================] - 0s 69ms/step\n",
      "4/4 [==============================] - 0s 68ms/step\n",
      "4/4 [==============================] - 0s 69ms/step\n",
      "4/4 [==============================] - 0s 66ms/step\n",
      "4/4 [==============================] - 0s 69ms/step\n",
      "4/4 [==============================] - 0s 67ms/step\n",
      "4/4 [==============================] - 0s 66ms/step\n",
      "4/4 [==============================] - 0s 68ms/step\n",
      "4/4 [==============================] - 0s 66ms/step\n",
      "4/4 [==============================] - 0s 68ms/step\n",
      "4/4 [==============================] - 0s 68ms/step\n",
      "4/4 [==============================] - 0s 66ms/step\n",
      "4/4 [==============================] - 0s 68ms/step\n",
      "4/4 [==============================] - 0s 68ms/step\n",
      "4/4 [==============================] - 0s 67ms/step\n",
      "4/4 [==============================] - 0s 70ms/step\n",
      "4/4 [==============================] - 0s 75ms/step\n",
      "4/4 [==============================] - 0s 71ms/step\n",
      "4/4 [==============================] - 0s 76ms/step\n",
      "4/4 [==============================] - 0s 77ms/step\n",
      "4/4 [==============================] - 0s 74ms/step\n",
      "4/4 [==============================] - 0s 76ms/step\n",
      "4/4 [==============================] - 0s 77ms/step\n",
      "4/4 [==============================] - 0s 75ms/step\n",
      "4/4 [==============================] - 0s 73ms/step\n",
      "4/4 [==============================] - 0s 68ms/step\n",
      "4/4 [==============================] - 0s 65ms/step\n",
      "4/4 [==============================] - 0s 67ms/step\n",
      "4/4 [==============================] - 0s 68ms/step\n",
      "4/4 [==============================] - 0s 67ms/step\n",
      "1/1 [==============================] - 0s 63ms/step\n"
     ]
    },
    {
     "data": {
      "application/vnd.jupyter.widget-view+json": {
       "model_id": "",
       "version_major": 2,
       "version_minor": 0
      },
      "text/plain": [
       "  0%|          | 0/40 [00:00<?, ?it/s]"
      ]
     },
     "metadata": {},
     "output_type": "display_data"
    },
    {
     "name": "stdout",
     "output_type": "stream",
     "text": [
      "4/4 [==============================] - 0s 58ms/step\n",
      "4/4 [==============================] - 0s 70ms/step\n",
      "4/4 [==============================] - 1s 71ms/step\n",
      "4/4 [==============================] - 0s 68ms/step\n",
      "4/4 [==============================] - 0s 65ms/step\n",
      "4/4 [==============================] - 0s 68ms/step\n",
      "4/4 [==============================] - 0s 69ms/step\n",
      "4/4 [==============================] - 0s 69ms/step\n",
      "4/4 [==============================] - 0s 77ms/step\n",
      "4/4 [==============================] - 0s 72ms/step\n",
      "4/4 [==============================] - 0s 69ms/step\n",
      "4/4 [==============================] - 0s 71ms/step\n",
      "4/4 [==============================] - 0s 71ms/step\n",
      "4/4 [==============================] - 0s 69ms/step\n",
      "4/4 [==============================] - 0s 78ms/step\n",
      "4/4 [==============================] - 0s 71ms/step\n",
      "4/4 [==============================] - 0s 67ms/step\n",
      "4/4 [==============================] - 0s 66ms/step\n",
      "4/4 [==============================] - 0s 68ms/step\n",
      "4/4 [==============================] - 0s 66ms/step\n",
      "4/4 [==============================] - 0s 68ms/step\n",
      "4/4 [==============================] - 0s 70ms/step\n",
      "4/4 [==============================] - 0s 66ms/step\n",
      "4/4 [==============================] - 0s 69ms/step\n",
      "4/4 [==============================] - 0s 66ms/step\n",
      "4/4 [==============================] - 0s 67ms/step\n",
      "4/4 [==============================] - 0s 68ms/step\n",
      "4/4 [==============================] - 0s 69ms/step\n",
      "4/4 [==============================] - 0s 72ms/step\n",
      "4/4 [==============================] - 0s 74ms/step\n",
      "4/4 [==============================] - 0s 72ms/step\n",
      "4/4 [==============================] - 0s 77ms/step\n",
      "4/4 [==============================] - 0s 72ms/step\n",
      "4/4 [==============================] - 0s 70ms/step\n",
      "4/4 [==============================] - 0s 69ms/step\n",
      "4/4 [==============================] - 0s 72ms/step\n",
      "4/4 [==============================] - 0s 69ms/step\n",
      "4/4 [==============================] - 0s 69ms/step\n",
      "4/4 [==============================] - 0s 70ms/step\n",
      "4/4 [==============================] - 0s 70ms/step\n",
      "1/1 [==============================] - 0s 61ms/step\n"
     ]
    },
    {
     "data": {
      "application/vnd.jupyter.widget-view+json": {
       "model_id": "",
       "version_major": 2,
       "version_minor": 0
      },
      "text/plain": [
       "  0%|          | 0/40 [00:00<?, ?it/s]"
      ]
     },
     "metadata": {},
     "output_type": "display_data"
    },
    {
     "name": "stdout",
     "output_type": "stream",
     "text": [
      "4/4 [==============================] - 0s 61ms/step\n",
      "4/4 [==============================] - 0s 69ms/step\n",
      "4/4 [==============================] - 0s 68ms/step\n",
      "4/4 [==============================] - 0s 68ms/step\n",
      "4/4 [==============================] - 0s 66ms/step\n",
      "4/4 [==============================] - 0s 68ms/step\n",
      "4/4 [==============================] - 0s 66ms/step\n",
      "4/4 [==============================] - 0s 66ms/step\n",
      "4/4 [==============================] - 0s 68ms/step\n",
      "4/4 [==============================] - 0s 66ms/step\n",
      "4/4 [==============================] - 0s 68ms/step\n",
      "4/4 [==============================] - 0s 68ms/step\n",
      "4/4 [==============================] - 0s 75ms/step\n",
      "4/4 [==============================] - 0s 68ms/step\n",
      "4/4 [==============================] - 0s 70ms/step\n",
      "4/4 [==============================] - 0s 70ms/step\n",
      "4/4 [==============================] - 0s 72ms/step\n",
      "4/4 [==============================] - 0s 72ms/step\n",
      "4/4 [==============================] - 0s 70ms/step\n",
      "4/4 [==============================] - 0s 71ms/step\n",
      "4/4 [==============================] - 0s 72ms/step\n",
      "4/4 [==============================] - 0s 69ms/step\n",
      "4/4 [==============================] - 0s 73ms/step\n",
      "4/4 [==============================] - 0s 72ms/step\n",
      "4/4 [==============================] - 0s 66ms/step\n",
      "4/4 [==============================] - 0s 69ms/step\n",
      "4/4 [==============================] - 0s 66ms/step\n",
      "4/4 [==============================] - 0s 66ms/step\n",
      "4/4 [==============================] - 0s 70ms/step\n",
      "4/4 [==============================] - 0s 68ms/step\n",
      "4/4 [==============================] - 0s 66ms/step\n",
      "4/4 [==============================] - 0s 68ms/step\n",
      "4/4 [==============================] - 0s 67ms/step\n",
      "4/4 [==============================] - 0s 68ms/step\n",
      "4/4 [==============================] - 0s 66ms/step\n",
      "4/4 [==============================] - 0s 66ms/step\n",
      "4/4 [==============================] - 0s 69ms/step\n",
      "4/4 [==============================] - 0s 66ms/step\n",
      "4/4 [==============================] - 0s 75ms/step\n",
      "4/4 [==============================] - 0s 72ms/step\n",
      "1/1 [==============================] - 0s 59ms/step\n"
     ]
    },
    {
     "data": {
      "application/vnd.jupyter.widget-view+json": {
       "model_id": "",
       "version_major": 2,
       "version_minor": 0
      },
      "text/plain": [
       "  0%|          | 0/40 [00:00<?, ?it/s]"
      ]
     },
     "metadata": {},
     "output_type": "display_data"
    },
    {
     "name": "stdout",
     "output_type": "stream",
     "text": [
      "4/4 [==============================] - 0s 69ms/step\n",
      "4/4 [==============================] - 0s 73ms/step\n",
      "4/4 [==============================] - 0s 69ms/step\n",
      "4/4 [==============================] - 0s 72ms/step\n",
      "4/4 [==============================] - 0s 72ms/step\n",
      "4/4 [==============================] - 0s 70ms/step\n",
      "4/4 [==============================] - 0s 69ms/step\n",
      "4/4 [==============================] - 0s 67ms/step\n",
      "4/4 [==============================] - 0s 66ms/step\n",
      "4/4 [==============================] - 0s 69ms/step\n",
      "4/4 [==============================] - 0s 66ms/step\n",
      "4/4 [==============================] - 0s 67ms/step\n",
      "4/4 [==============================] - 0s 68ms/step\n",
      "4/4 [==============================] - 0s 66ms/step\n",
      "4/4 [==============================] - 0s 68ms/step\n",
      "4/4 [==============================] - 0s 68ms/step\n",
      "4/4 [==============================] - 0s 66ms/step\n",
      "4/4 [==============================] - 0s 69ms/step\n",
      "4/4 [==============================] - 0s 66ms/step\n",
      "4/4 [==============================] - 0s 68ms/step\n",
      "4/4 [==============================] - 0s 72ms/step\n",
      "4/4 [==============================] - 0s 67ms/step\n",
      "4/4 [==============================] - 0s 72ms/step\n",
      "4/4 [==============================] - 0s 72ms/step\n",
      "4/4 [==============================] - 0s 69ms/step\n",
      "4/4 [==============================] - 0s 72ms/step\n",
      "4/4 [==============================] - 0s 72ms/step\n",
      "4/4 [==============================] - 0s 69ms/step\n",
      "4/4 [==============================] - 0s 72ms/step\n",
      "4/4 [==============================] - 0s 71ms/step\n",
      "4/4 [==============================] - 0s 69ms/step\n",
      "4/4 [==============================] - 0s 70ms/step\n",
      "4/4 [==============================] - 0s 68ms/step\n",
      "4/4 [==============================] - 0s 66ms/step\n",
      "4/4 [==============================] - 0s 67ms/step\n",
      "4/4 [==============================] - 0s 69ms/step\n",
      "4/4 [==============================] - 0s 66ms/step\n",
      "4/4 [==============================] - 0s 68ms/step\n",
      "4/4 [==============================] - 0s 67ms/step\n",
      "4/4 [==============================] - 0s 65ms/step\n",
      "1/1 [==============================] - 0s 60ms/step\n"
     ]
    },
    {
     "data": {
      "application/vnd.jupyter.widget-view+json": {
       "model_id": "",
       "version_major": 2,
       "version_minor": 0
      },
      "text/plain": [
       "  0%|          | 0/40 [00:00<?, ?it/s]"
      ]
     },
     "metadata": {},
     "output_type": "display_data"
    },
    {
     "name": "stdout",
     "output_type": "stream",
     "text": [
      "4/4 [==============================] - 0s 58ms/step\n",
      "4/4 [==============================] - 0s 71ms/step\n",
      "4/4 [==============================] - 0s 67ms/step\n",
      "4/4 [==============================] - 0s 67ms/step\n",
      "4/4 [==============================] - 0s 68ms/step\n",
      "4/4 [==============================] - 0s 80ms/step\n",
      "4/4 [==============================] - 0s 74ms/step\n",
      "4/4 [==============================] - 0s 85ms/step\n",
      "4/4 [==============================] - 0s 81ms/step\n",
      "4/4 [==============================] - 0s 81ms/step\n",
      "4/4 [==============================] - 0s 76ms/step\n",
      "4/4 [==============================] - 0s 79ms/step\n",
      "4/4 [==============================] - 0s 79ms/step\n",
      "4/4 [==============================] - 0s 69ms/step\n",
      "4/4 [==============================] - 0s 73ms/step\n",
      "4/4 [==============================] - 0s 68ms/step\n",
      "4/4 [==============================] - 0s 67ms/step\n",
      "4/4 [==============================] - 0s 68ms/step\n",
      "4/4 [==============================] - 0s 66ms/step\n",
      "4/4 [==============================] - 0s 67ms/step\n",
      "4/4 [==============================] - 0s 68ms/step\n",
      "4/4 [==============================] - 0s 66ms/step\n",
      "4/4 [==============================] - 0s 68ms/step\n",
      "4/4 [==============================] - 0s 69ms/step\n",
      "4/4 [==============================] - 0s 67ms/step\n",
      "4/4 [==============================] - 0s 68ms/step\n",
      "4/4 [==============================] - 0s 66ms/step\n",
      "4/4 [==============================] - 0s 66ms/step\n",
      "4/4 [==============================] - 0s 72ms/step\n",
      "4/4 [==============================] - 0s 69ms/step\n",
      "4/4 [==============================] - 0s 70ms/step\n",
      "4/4 [==============================] - 0s 71ms/step\n",
      "4/4 [==============================] - 0s 70ms/step\n",
      "4/4 [==============================] - 0s 69ms/step\n",
      "4/4 [==============================] - 0s 72ms/step\n",
      "4/4 [==============================] - 0s 70ms/step\n",
      "4/4 [==============================] - 0s 70ms/step\n",
      "4/4 [==============================] - 0s 72ms/step\n",
      "4/4 [==============================] - 0s 66ms/step\n",
      "4/4 [==============================] - 0s 67ms/step\n",
      "1/1 [==============================] - 0s 59ms/step\n"
     ]
    },
    {
     "data": {
      "application/vnd.jupyter.widget-view+json": {
       "model_id": "",
       "version_major": 2,
       "version_minor": 0
      },
      "text/plain": [
       "  0%|          | 0/40 [00:00<?, ?it/s]"
      ]
     },
     "metadata": {},
     "output_type": "display_data"
    },
    {
     "name": "stdout",
     "output_type": "stream",
     "text": [
      "4/4 [==============================] - 0s 60ms/step\n",
      "4/4 [==============================] - 0s 72ms/step\n",
      "4/4 [==============================] - 0s 66ms/step\n",
      "4/4 [==============================] - 0s 67ms/step\n",
      "4/4 [==============================] - 0s 67ms/step\n",
      "4/4 [==============================] - 0s 66ms/step\n",
      "4/4 [==============================] - 0s 68ms/step\n",
      "4/4 [==============================] - 0s 68ms/step\n",
      "4/4 [==============================] - 0s 66ms/step\n",
      "4/4 [==============================] - 0s 67ms/step\n",
      "4/4 [==============================] - 0s 67ms/step\n",
      "4/4 [==============================] - 0s 66ms/step\n",
      "4/4 [==============================] - 0s 73ms/step\n",
      "4/4 [==============================] - 0s 69ms/step\n",
      "4/4 [==============================] - 0s 69ms/step\n",
      "4/4 [==============================] - 0s 71ms/step\n",
      "4/4 [==============================] - 0s 70ms/step\n",
      "4/4 [==============================] - 0s 71ms/step\n",
      "4/4 [==============================] - 0s 72ms/step\n",
      "4/4 [==============================] - 0s 70ms/step\n",
      "4/4 [==============================] - 0s 69ms/step\n",
      "4/4 [==============================] - 0s 68ms/step\n",
      "4/4 [==============================] - 0s 66ms/step\n",
      "4/4 [==============================] - 0s 67ms/step\n",
      "4/4 [==============================] - 0s 68ms/step\n",
      "4/4 [==============================] - 0s 66ms/step\n",
      "4/4 [==============================] - 0s 67ms/step\n",
      "4/4 [==============================] - 0s 67ms/step\n",
      "4/4 [==============================] - 0s 66ms/step\n",
      "4/4 [==============================] - 0s 68ms/step\n",
      "4/4 [==============================] - 0s 65ms/step\n",
      "4/4 [==============================] - 0s 72ms/step\n",
      "4/4 [==============================] - 0s 68ms/step\n",
      "4/4 [==============================] - 0s 66ms/step\n",
      "4/4 [==============================] - 0s 68ms/step\n",
      "4/4 [==============================] - 0s 68ms/step\n",
      "4/4 [==============================] - 0s 69ms/step\n",
      "4/4 [==============================] - 0s 74ms/step\n",
      "4/4 [==============================] - 0s 72ms/step\n",
      "4/4 [==============================] - 0s 69ms/step\n",
      "1/1 [==============================] - 0s 58ms/step\n"
     ]
    },
    {
     "data": {
      "application/vnd.jupyter.widget-view+json": {
       "model_id": "",
       "version_major": 2,
       "version_minor": 0
      },
      "text/plain": [
       "  0%|          | 0/40 [00:00<?, ?it/s]"
      ]
     },
     "metadata": {},
     "output_type": "display_data"
    },
    {
     "name": "stdout",
     "output_type": "stream",
     "text": [
      "4/4 [==============================] - 0s 67ms/step\n",
      "4/4 [==============================] - 0s 69ms/step\n",
      "4/4 [==============================] - 0s 71ms/step\n",
      "4/4 [==============================] - 0s 66ms/step\n",
      "4/4 [==============================] - 0s 67ms/step\n",
      "4/4 [==============================] - 0s 69ms/step\n",
      "4/4 [==============================] - 0s 66ms/step\n",
      "4/4 [==============================] - 0s 69ms/step\n",
      "4/4 [==============================] - 0s 68ms/step\n",
      "4/4 [==============================] - 0s 67ms/step\n",
      "4/4 [==============================] - 0s 68ms/step\n",
      "4/4 [==============================] - 0s 67ms/step\n",
      "4/4 [==============================] - 0s 67ms/step\n",
      "4/4 [==============================] - 0s 67ms/step\n",
      "4/4 [==============================] - 0s 66ms/step\n",
      "4/4 [==============================] - 0s 67ms/step\n",
      "4/4 [==============================] - 0s 67ms/step\n",
      "4/4 [==============================] - 0s 67ms/step\n",
      "4/4 [==============================] - 0s 68ms/step\n",
      "4/4 [==============================] - 0s 66ms/step\n",
      "4/4 [==============================] - 0s 69ms/step\n",
      "4/4 [==============================] - 0s 72ms/step\n",
      "4/4 [==============================] - 0s 70ms/step\n",
      "4/4 [==============================] - 0s 72ms/step\n",
      "4/4 [==============================] - 0s 71ms/step\n",
      "4/4 [==============================] - 0s 71ms/step\n",
      "4/4 [==============================] - 0s 69ms/step\n",
      "4/4 [==============================] - 0s 72ms/step\n",
      "4/4 [==============================] - 0s 71ms/step\n",
      "4/4 [==============================] - 0s 66ms/step\n",
      "4/4 [==============================] - 0s 69ms/step\n",
      "4/4 [==============================] - 0s 67ms/step\n",
      "4/4 [==============================] - 0s 66ms/step\n",
      "4/4 [==============================] - 0s 68ms/step\n",
      "4/4 [==============================] - 0s 67ms/step\n",
      "4/4 [==============================] - 0s 69ms/step\n",
      "4/4 [==============================] - 0s 68ms/step\n",
      "4/4 [==============================] - 0s 66ms/step\n",
      "4/4 [==============================] - 0s 69ms/step\n",
      "4/4 [==============================] - 0s 67ms/step\n",
      "1/1 [==============================] - 0s 59ms/step\n"
     ]
    },
    {
     "data": {
      "application/vnd.jupyter.widget-view+json": {
       "model_id": "",
       "version_major": 2,
       "version_minor": 0
      },
      "text/plain": [
       "  0%|          | 0/40 [00:00<?, ?it/s]"
      ]
     },
     "metadata": {},
     "output_type": "display_data"
    },
    {
     "name": "stdout",
     "output_type": "stream",
     "text": [
      "4/4 [==============================] - 0s 61ms/step\n",
      "4/4 [==============================] - 0s 69ms/step\n",
      "4/4 [==============================] - 0s 67ms/step\n",
      "4/4 [==============================] - 0s 72ms/step\n",
      "4/4 [==============================] - 0s 70ms/step\n",
      "4/4 [==============================] - 0s 72ms/step\n",
      "4/4 [==============================] - 0s 72ms/step\n",
      "4/4 [==============================] - 0s 68ms/step\n",
      "4/4 [==============================] - 0s 70ms/step\n",
      "4/4 [==============================] - 0s 73ms/step\n",
      "4/4 [==============================] - 0s 69ms/step\n",
      "4/4 [==============================] - 0s 71ms/step\n",
      "4/4 [==============================] - 0s 71ms/step\n",
      "4/4 [==============================] - 0s 66ms/step\n",
      "4/4 [==============================] - 0s 68ms/step\n",
      "4/4 [==============================] - 0s 69ms/step\n",
      "4/4 [==============================] - 0s 66ms/step\n",
      "4/4 [==============================] - 0s 68ms/step\n",
      "4/4 [==============================] - 0s 67ms/step\n",
      "4/4 [==============================] - 0s 67ms/step\n",
      "4/4 [==============================] - 0s 69ms/step\n",
      "4/4 [==============================] - 0s 67ms/step\n",
      "4/4 [==============================] - 0s 67ms/step\n",
      "4/4 [==============================] - 0s 68ms/step\n",
      "4/4 [==============================] - 0s 68ms/step\n",
      "4/4 [==============================] - 0s 68ms/step\n",
      "4/4 [==============================] - 0s 67ms/step\n",
      "4/4 [==============================] - 0s 69ms/step\n",
      "4/4 [==============================] - 0s 73ms/step\n",
      "4/4 [==============================] - 0s 71ms/step\n",
      "4/4 [==============================] - 0s 69ms/step\n",
      "4/4 [==============================] - 0s 72ms/step\n",
      "4/4 [==============================] - 0s 71ms/step\n",
      "4/4 [==============================] - 0s 69ms/step\n",
      "4/4 [==============================] - 0s 72ms/step\n",
      "4/4 [==============================] - 0s 70ms/step\n",
      "4/4 [==============================] - 0s 69ms/step\n",
      "4/4 [==============================] - 0s 68ms/step\n",
      "4/4 [==============================] - 0s 67ms/step\n",
      "4/4 [==============================] - 0s 67ms/step\n",
      "1/1 [==============================] - 0s 60ms/step\n"
     ]
    },
    {
     "data": {
      "image/png": "[encoded data removed]",
      "text/plain": [
       "<Figure size 800x400 with 32 Axes>"
      ]
     },
     "metadata": {},
     "output_type": "display_data"
    },
    {
     "name": "stdout",
     "output_type": "stream",
     "text": [
      "Якщо генератор і дескрімінатор сбалансовані, точність генератора прямує в 0 або 1:\n",
      "0.5097819010416667\n"
     ]
    },
    {
     "data": {
      "application/vnd.jupyter.widget-view+json": {
       "model_id": "",
       "version_major": 2,
       "version_minor": 0
      },
      "text/plain": [
       "  0%|          | 0/40 [00:00<?, ?it/s]"
      ]
     },
     "metadata": {},
     "output_type": "display_data"
    },
    {
     "name": "stdout",
     "output_type": "stream",
     "text": [
      "4/4 [==============================] - 0s 59ms/step\n",
      "4/4 [==============================] - 0s 70ms/step\n",
      "4/4 [==============================] - 0s 68ms/step\n",
      "4/4 [==============================] - 0s 66ms/step\n",
      "4/4 [==============================] - 0s 69ms/step\n",
      "4/4 [==============================] - 0s 71ms/step\n",
      "4/4 [==============================] - 0s 67ms/step\n",
      "4/4 [==============================] - 0s 73ms/step\n",
      "4/4 [==============================] - 0s 67ms/step\n",
      "4/4 [==============================] - 0s 68ms/step\n",
      "4/4 [==============================] - 0s 72ms/step\n",
      "4/4 [==============================] - 0s 70ms/step\n",
      "4/4 [==============================] - 0s 70ms/step\n",
      "4/4 [==============================] - 0s 73ms/step\n",
      "4/4 [==============================] - 0s 71ms/step\n",
      "4/4 [==============================] - 0s 70ms/step\n",
      "4/4 [==============================] - 0s 73ms/step\n",
      "4/4 [==============================] - 0s 71ms/step\n",
      "4/4 [==============================] - 0s 70ms/step\n",
      "4/4 [==============================] - 0s 72ms/step\n",
      "4/4 [==============================] - 0s 68ms/step\n",
      "4/4 [==============================] - 0s 67ms/step\n",
      "4/4 [==============================] - 0s 70ms/step\n",
      "4/4 [==============================] - 0s 66ms/step\n",
      "4/4 [==============================] - 0s 67ms/step\n",
      "4/4 [==============================] - 0s 70ms/step\n",
      "4/4 [==============================] - 0s 67ms/step\n",
      "4/4 [==============================] - 0s 69ms/step\n",
      "4/4 [==============================] - 0s 69ms/step\n",
      "4/4 [==============================] - 0s 66ms/step\n",
      "4/4 [==============================] - 0s 70ms/step\n",
      "4/4 [==============================] - 0s 67ms/step\n",
      "4/4 [==============================] - 0s 86ms/step\n",
      "4/4 [==============================] - 0s 71ms/step\n",
      "4/4 [==============================] - 0s 75ms/step\n",
      "4/4 [==============================] - 0s 70ms/step\n",
      "4/4 [==============================] - 0s 73ms/step\n",
      "4/4 [==============================] - 0s 74ms/step\n",
      "4/4 [==============================] - 0s 74ms/step\n",
      "4/4 [==============================] - 0s 74ms/step\n",
      "1/1 [==============================] - 0s 58ms/step\n"
     ]
    },
    {
     "data": {
      "application/vnd.jupyter.widget-view+json": {
       "model_id": "",
       "version_major": 2,
       "version_minor": 0
      },
      "text/plain": [
       "  0%|          | 0/40 [00:00<?, ?it/s]"
      ]
     },
     "metadata": {},
     "output_type": "display_data"
    },
    {
     "name": "stdout",
     "output_type": "stream",
     "text": [
      "4/4 [==============================] - 0s 67ms/step\n",
      "4/4 [==============================] - 0s 73ms/step\n",
      "4/4 [==============================] - 0s 71ms/step\n",
      "4/4 [==============================] - 0s 79ms/step\n",
      "4/4 [==============================] - 0s 70ms/step\n",
      "4/4 [==============================] - 0s 69ms/step\n",
      "4/4 [==============================] - 0s 67ms/step\n",
      "4/4 [==============================] - 0s 67ms/step\n",
      "4/4 [==============================] - 0s 70ms/step\n",
      "4/4 [==============================] - 0s 67ms/step\n",
      "4/4 [==============================] - 0s 68ms/step\n",
      "4/4 [==============================] - 0s 69ms/step\n",
      "4/4 [==============================] - 0s 68ms/step\n",
      "4/4 [==============================] - 0s 100ms/step\n",
      "4/4 [==============================] - 0s 90ms/step\n",
      "4/4 [==============================] - 0s 72ms/step\n",
      "4/4 [==============================] - 0s 70ms/step\n",
      "4/4 [==============================] - 0s 75ms/step\n",
      "4/4 [==============================] - 0s 75ms/step\n",
      "4/4 [==============================] - 0s 70ms/step\n",
      "4/4 [==============================] - 0s 72ms/step\n",
      "4/4 [==============================] - 0s 76ms/step\n",
      "4/4 [==============================] - 0s 73ms/step\n",
      "4/4 [==============================] - 0s 71ms/step\n",
      "4/4 [==============================] - 0s 74ms/step\n",
      "4/4 [==============================] - 0s 70ms/step\n",
      "4/4 [==============================] - 0s 67ms/step\n",
      "4/4 [==============================] - 0s 70ms/step\n",
      "4/4 [==============================] - 0s 68ms/step\n",
      "4/4 [==============================] - 0s 67ms/step\n",
      "4/4 [==============================] - 0s 69ms/step\n",
      "4/4 [==============================] - 0s 68ms/step\n",
      "4/4 [==============================] - 0s 68ms/step\n",
      "4/4 [==============================] - 0s 70ms/step\n",
      "4/4 [==============================] - 0s 68ms/step\n",
      "4/4 [==============================] - 0s 69ms/step\n",
      "4/4 [==============================] - 0s 69ms/step\n",
      "4/4 [==============================] - 0s 68ms/step\n",
      "4/4 [==============================] - 0s 73ms/step\n",
      "4/4 [==============================] - 0s 73ms/step\n",
      "1/1 [==============================] - 0s 60ms/step\n"
     ]
    },
    {
     "data": {
      "application/vnd.jupyter.widget-view+json": {
       "model_id": "",
       "version_major": 2,
       "version_minor": 0
      },
      "text/plain": [
       "  0%|          | 0/40 [00:00<?, ?it/s]"
      ]
     },
     "metadata": {},
     "output_type": "display_data"
    },
    {
     "name": "stdout",
     "output_type": "stream",
     "text": [
      "4/4 [==============================] - 0s 68ms/step\n",
      "4/4 [==============================] - 0s 70ms/step\n",
      "4/4 [==============================] - 0s 71ms/step\n",
      "4/4 [==============================] - 0s 72ms/step\n",
      "4/4 [==============================] - 0s 70ms/step\n",
      "4/4 [==============================] - 0s 68ms/step\n",
      "4/4 [==============================] - 0s 72ms/step\n",
      "4/4 [==============================] - 0s 68ms/step\n",
      "4/4 [==============================] - 0s 67ms/step\n",
      "4/4 [==============================] - 0s 70ms/step\n",
      "4/4 [==============================] - 0s 68ms/step\n",
      "4/4 [==============================] - 0s 69ms/step\n",
      "4/4 [==============================] - 0s 69ms/step\n",
      "4/4 [==============================] - 0s 68ms/step\n",
      "4/4 [==============================] - 0s 70ms/step\n",
      "4/4 [==============================] - 0s 68ms/step\n",
      "4/4 [==============================] - 0s 68ms/step\n",
      "4/4 [==============================] - 0s 70ms/step\n",
      "4/4 [==============================] - 0s 68ms/step\n",
      "4/4 [==============================] - 0s 68ms/step\n",
      "4/4 [==============================] - 0s 70ms/step\n",
      "4/4 [==============================] - 0s 71ms/step\n",
      "4/4 [==============================] - 0s 71ms/step\n",
      "4/4 [==============================] - 0s 74ms/step\n",
      "4/4 [==============================] - 0s 70ms/step\n",
      "4/4 [==============================] - 0s 70ms/step\n",
      "4/4 [==============================] - 0s 73ms/step\n",
      "4/4 [==============================] - 0s 71ms/step\n",
      "4/4 [==============================] - 0s 71ms/step\n",
      "4/4 [==============================] - 0s 73ms/step\n",
      "4/4 [==============================] - 0s 72ms/step\n",
      "4/4 [==============================] - 0s 67ms/step\n",
      "4/4 [==============================] - 0s 70ms/step\n",
      "4/4 [==============================] - 0s 75ms/step\n",
      "4/4 [==============================] - 0s 68ms/step\n",
      "4/4 [==============================] - 0s 69ms/step\n",
      "4/4 [==============================] - 0s 68ms/step\n",
      "4/4 [==============================] - 0s 70ms/step\n",
      "4/4 [==============================] - 0s 70ms/step\n",
      "4/4 [==============================] - 0s 68ms/step\n",
      "1/1 [==============================] - 0s 59ms/step\n"
     ]
    },
    {
     "data": {
      "application/vnd.jupyter.widget-view+json": {
       "model_id": "",
       "version_major": 2,
       "version_minor": 0
      },
      "text/plain": [
       "  0%|          | 0/40 [00:00<?, ?it/s]"
      ]
     },
     "metadata": {},
     "output_type": "display_data"
    },
    {
     "name": "stdout",
     "output_type": "stream",
     "text": [
      "4/4 [==============================] - 0s 61ms/step\n",
      "4/4 [==============================] - 0s 70ms/step\n",
      "4/4 [==============================] - 0s 71ms/step\n",
      "4/4 [==============================] - 0s 70ms/step\n",
      "4/4 [==============================] - 0s 71ms/step\n",
      "4/4 [==============================] - 0s 74ms/step\n",
      "4/4 [==============================] - 0s 73ms/step\n",
      "4/4 [==============================] - 0s 72ms/step\n",
      "4/4 [==============================] - 0s 74ms/step\n",
      "4/4 [==============================] - 0s 74ms/step\n",
      "4/4 [==============================] - 0s 72ms/step\n",
      "4/4 [==============================] - 0s 80ms/step\n",
      "4/4 [==============================] - 0s 81ms/step\n",
      "4/4 [==============================] - 0s 70ms/step\n",
      "4/4 [==============================] - 0s 68ms/step\n",
      "4/4 [==============================] - 0s 71ms/step\n",
      "4/4 [==============================] - 0s 69ms/step\n",
      "4/4 [==============================] - 0s 68ms/step\n",
      "4/4 [==============================] - 0s 70ms/step\n",
      "4/4 [==============================] - 0s 68ms/step\n",
      "4/4 [==============================] - 0s 69ms/step\n",
      "4/4 [==============================] - 0s 70ms/step\n",
      "4/4 [==============================] - 0s 68ms/step\n",
      "4/4 [==============================] - 0s 70ms/step\n",
      "4/4 [==============================] - 0s 70ms/step\n",
      "4/4 [==============================] - 0s 68ms/step\n",
      "4/4 [==============================] - 0s 70ms/step\n",
      "4/4 [==============================] - 0s 70ms/step\n",
      "4/4 [==============================] - 0s 72ms/step\n",
      "4/4 [==============================] - 0s 74ms/step\n",
      "4/4 [==============================] - 0s 75ms/step\n",
      "4/4 [==============================] - 0s 71ms/step\n",
      "4/4 [==============================] - 0s 74ms/step\n",
      "4/4 [==============================] - 0s 75ms/step\n",
      "4/4 [==============================] - 0s 72ms/step\n",
      "4/4 [==============================] - 0s 73ms/step\n",
      "4/4 [==============================] - 0s 75ms/step\n",
      "4/4 [==============================] - 0s 70ms/step\n",
      "4/4 [==============================] - 0s 69ms/step\n",
      "4/4 [==============================] - 0s 71ms/step\n",
      "1/1 [==============================] - 0s 62ms/step\n"
     ]
    },
    {
     "data": {
      "application/vnd.jupyter.widget-view+json": {
       "model_id": "",
       "version_major": 2,
       "version_minor": 0
      },
      "text/plain": [
       "  0%|          | 0/40 [00:00<?, ?it/s]"
      ]
     },
     "metadata": {},
     "output_type": "display_data"
    },
    {
     "name": "stdout",
     "output_type": "stream",
     "text": [
      "4/4 [==============================] - 0s 66ms/step\n",
      "4/4 [==============================] - 0s 69ms/step\n",
      "4/4 [==============================] - 0s 68ms/step\n",
      "4/4 [==============================] - 0s 70ms/step\n",
      "4/4 [==============================] - 0s 68ms/step\n",
      "4/4 [==============================] - 0s 70ms/step\n",
      "4/4 [==============================] - 0s 70ms/step\n",
      "4/4 [==============================] - 0s 68ms/step\n",
      "4/4 [==============================] - 0s 70ms/step\n",
      "4/4 [==============================] - 0s 70ms/step\n",
      "4/4 [==============================] - 0s 68ms/step\n",
      "4/4 [==============================] - 0s 73ms/step\n",
      "4/4 [==============================] - 0s 74ms/step\n",
      "4/4 [==============================] - 0s 71ms/step\n",
      "4/4 [==============================] - 0s 72ms/step\n",
      "4/4 [==============================] - 0s 74ms/step\n",
      "4/4 [==============================] - 0s 73ms/step\n",
      "4/4 [==============================] - 0s 72ms/step\n",
      "4/4 [==============================] - 0s 74ms/step\n",
      "4/4 [==============================] - 0s 72ms/step\n",
      "4/4 [==============================] - 0s 68ms/step\n",
      "4/4 [==============================] - 0s 71ms/step\n",
      "4/4 [==============================] - 0s 69ms/step\n",
      "4/4 [==============================] - 0s 69ms/step\n",
      "4/4 [==============================] - 0s 70ms/step\n",
      "4/4 [==============================] - 0s 69ms/step\n",
      "4/4 [==============================] - 0s 68ms/step\n",
      "4/4 [==============================] - 0s 70ms/step\n",
      "4/4 [==============================] - 0s 76ms/step\n",
      "4/4 [==============================] - 0s 70ms/step\n",
      "4/4 [==============================] - 0s 69ms/step\n",
      "4/4 [==============================] - 0s 68ms/step\n",
      "4/4 [==============================] - 0s 70ms/step\n",
      "4/4 [==============================] - 0s 71ms/step\n",
      "4/4 [==============================] - 0s 73ms/step\n",
      "4/4 [==============================] - 0s 74ms/step\n",
      "4/4 [==============================] - 0s 75ms/step\n",
      "4/4 [==============================] - 0s 72ms/step\n",
      "4/4 [==============================] - 0s 72ms/step\n",
      "4/4 [==============================] - 0s 73ms/step\n",
      "1/1 [==============================] - 0s 62ms/step\n"
     ]
    },
    {
     "data": {
      "application/vnd.jupyter.widget-view+json": {
       "model_id": "",
       "version_major": 2,
       "version_minor": 0
      },
      "text/plain": [
       "  0%|          | 0/40 [00:00<?, ?it/s]"
      ]
     },
     "metadata": {},
     "output_type": "display_data"
    },
    {
     "name": "stdout",
     "output_type": "stream",
     "text": [
      "4/4 [==============================] - 0s 67ms/step\n",
      "4/4 [==============================] - 0s 75ms/step\n",
      "4/4 [==============================] - 0s 69ms/step\n",
      "4/4 [==============================] - 0s 68ms/step\n",
      "4/4 [==============================] - 0s 70ms/step\n",
      "4/4 [==============================] - 0s 67ms/step\n",
      "4/4 [==============================] - 0s 68ms/step\n",
      "4/4 [==============================] - 0s 69ms/step\n",
      "4/4 [==============================] - 0s 68ms/step\n",
      "4/4 [==============================] - 0s 70ms/step\n",
      "4/4 [==============================] - 0s 69ms/step\n",
      "4/4 [==============================] - 0s 68ms/step\n",
      "4/4 [==============================] - 0s 70ms/step\n",
      "4/4 [==============================] - 0s 68ms/step\n",
      "4/4 [==============================] - 0s 81ms/step\n",
      "4/4 [==============================] - 0s 90ms/step\n",
      "4/4 [==============================] - 0s 84ms/step\n",
      "4/4 [==============================] - 0s 74ms/step\n",
      "4/4 [==============================] - 0s 76ms/step\n",
      "4/4 [==============================] - 0s 78ms/step\n",
      "4/4 [==============================] - 0s 81ms/step\n",
      "4/4 [==============================] - 0s 77ms/step\n",
      "4/4 [==============================] - 0s 77ms/step\n",
      "4/4 [==============================] - 0s 79ms/step\n",
      "4/4 [==============================] - 0s 77ms/step\n",
      "4/4 [==============================] - 0s 75ms/step\n",
      "4/4 [==============================] - 0s 77ms/step\n",
      "4/4 [==============================] - 0s 75ms/step\n",
      "4/4 [==============================] - 0s 71ms/step\n",
      "4/4 [==============================] - 0s 71ms/step\n",
      "4/4 [==============================] - 0s 73ms/step\n",
      "4/4 [==============================] - 0s 71ms/step\n",
      "4/4 [==============================] - 0s 71ms/step\n",
      "4/4 [==============================] - 0s 74ms/step\n",
      "4/4 [==============================] - 0s 72ms/step\n",
      "4/4 [==============================] - 0s 71ms/step\n",
      "4/4 [==============================] - 0s 72ms/step\n",
      "4/4 [==============================] - 0s 69ms/step\n",
      "4/4 [==============================] - 0s 68ms/step\n",
      "4/4 [==============================] - 0s 73ms/step\n",
      "1/1 [==============================] - 0s 61ms/step\n"
     ]
    },
    {
     "data": {
      "application/vnd.jupyter.widget-view+json": {
       "model_id": "",
       "version_major": 2,
       "version_minor": 0
      },
      "text/plain": [
       "  0%|          | 0/40 [00:00<?, ?it/s]"
      ]
     },
     "metadata": {},
     "output_type": "display_data"
    },
    {
     "name": "stdout",
     "output_type": "stream",
     "text": [
      "4/4 [==============================] - 0s 69ms/step\n",
      "4/4 [==============================] - 0s 75ms/step\n",
      "4/4 [==============================] - 0s 72ms/step\n",
      "4/4 [==============================] - 0s 72ms/step\n",
      "4/4 [==============================] - 0s 80ms/step\n",
      "4/4 [==============================] - 0s 73ms/step\n",
      "4/4 [==============================] - 0s 68ms/step\n",
      "4/4 [==============================] - 0s 71ms/step\n",
      "4/4 [==============================] - 0s 68ms/step\n",
      "4/4 [==============================] - 0s 69ms/step\n",
      "4/4 [==============================] - 0s 71ms/step\n",
      "4/4 [==============================] - 0s 69ms/step\n",
      "4/4 [==============================] - 0s 69ms/step\n",
      "4/4 [==============================] - 0s 70ms/step\n",
      "4/4 [==============================] - 0s 69ms/step\n",
      "4/4 [==============================] - 0s 71ms/step\n",
      "4/4 [==============================] - 0s 70ms/step\n",
      "4/4 [==============================] - 0s 68ms/step\n",
      "4/4 [==============================] - 0s 70ms/step\n",
      "4/4 [==============================] - 0s 70ms/step\n",
      "4/4 [==============================] - 0s 69ms/step\n",
      "4/4 [==============================] - 0s 70ms/step\n",
      "4/4 [==============================] - 0s 73ms/step\n",
      "4/4 [==============================] - 0s 72ms/step\n",
      "4/4 [==============================] - 0s 74ms/step\n",
      "4/4 [==============================] - 0s 74ms/step\n",
      "4/4 [==============================] - 0s 72ms/step\n",
      "4/4 [==============================] - 0s 87ms/step\n",
      "4/4 [==============================] - 0s 82ms/step\n",
      "4/4 [==============================] - 0s 91ms/step\n",
      "4/4 [==============================] - 0s 77ms/step\n",
      "4/4 [==============================] - 0s 86ms/step\n",
      "4/4 [==============================] - 0s 82ms/step\n",
      "4/4 [==============================] - 0s 73ms/step\n",
      "4/4 [==============================] - 0s 69ms/step\n",
      "4/4 [==============================] - 0s 72ms/step\n",
      "4/4 [==============================] - 0s 72ms/step\n",
      "4/4 [==============================] - 0s 69ms/step\n",
      "4/4 [==============================] - 0s 72ms/step\n",
      "4/4 [==============================] - 0s 71ms/step\n",
      "1/1 [==============================] - 0s 94ms/step\n"
     ]
    },
    {
     "data": {
      "application/vnd.jupyter.widget-view+json": {
       "model_id": "",
       "version_major": 2,
       "version_minor": 0
      },
      "text/plain": [
       "  0%|          | 0/40 [00:00<?, ?it/s]"
      ]
     },
     "metadata": {},
     "output_type": "display_data"
    },
    {
     "name": "stdout",
     "output_type": "stream",
     "text": [
      "4/4 [==============================] - 0s 64ms/step\n",
      "4/4 [==============================] - 0s 74ms/step\n",
      "4/4 [==============================] - 0s 69ms/step\n",
      "4/4 [==============================] - 0s 74ms/step\n",
      "4/4 [==============================] - 0s 73ms/step\n",
      "4/4 [==============================] - 0s 73ms/step\n",
      "4/4 [==============================] - 0s 75ms/step\n",
      "4/4 [==============================] - 0s 74ms/step\n",
      "4/4 [==============================] - 0s 72ms/step\n",
      "4/4 [==============================] - 0s 76ms/step\n",
      "4/4 [==============================] - 0s 77ms/step\n",
      "4/4 [==============================] - 0s 75ms/step\n",
      "4/4 [==============================] - 0s 72ms/step\n",
      "4/4 [==============================] - 0s 71ms/step\n",
      "4/4 [==============================] - 0s 71ms/step\n",
      "4/4 [==============================] - 0s 70ms/step\n",
      "4/4 [==============================] - 0s 70ms/step\n",
      "4/4 [==============================] - 0s 69ms/step\n",
      "4/4 [==============================] - 0s 69ms/step\n",
      "4/4 [==============================] - 0s 74ms/step\n",
      "4/4 [==============================] - 0s 87ms/step\n",
      "4/4 [==============================] - 0s 72ms/step\n",
      "4/4 [==============================] - 0s 71ms/step\n",
      "4/4 [==============================] - 0s 86ms/step\n",
      "4/4 [==============================] - 0s 72ms/step\n",
      "4/4 [==============================] - 0s 72ms/step\n",
      "4/4 [==============================] - 0s 76ms/step\n",
      "4/4 [==============================] - 0s 73ms/step\n",
      "4/4 [==============================] - 0s 72ms/step\n",
      "4/4 [==============================] - 0s 76ms/step\n",
      "4/4 [==============================] - 0s 75ms/step\n",
      "4/4 [==============================] - 0s 72ms/step\n",
      "4/4 [==============================] - 0s 74ms/step\n",
      "4/4 [==============================] - 0s 79ms/step\n",
      "4/4 [==============================] - 0s 72ms/step\n",
      "4/4 [==============================] - 0s 71ms/step\n",
      "4/4 [==============================] - 0s 72ms/step\n",
      "4/4 [==============================] - 0s 71ms/step\n",
      "4/4 [==============================] - 0s 74ms/step\n",
      "4/4 [==============================] - 0s 83ms/step\n",
      "1/1 [==============================] - 0s 63ms/step\n"
     ]
    },
    {
     "data": {
      "application/vnd.jupyter.widget-view+json": {
       "model_id": "",
       "version_major": 2,
       "version_minor": 0
      },
      "text/plain": [
       "  0%|          | 0/40 [00:00<?, ?it/s]"
      ]
     },
     "metadata": {},
     "output_type": "display_data"
    },
    {
     "name": "stdout",
     "output_type": "stream",
     "text": [
      "4/4 [==============================] - 0s 69ms/step\n",
      "4/4 [==============================] - 0s 71ms/step\n",
      "4/4 [==============================] - 0s 69ms/step\n",
      "4/4 [==============================] - 0s 71ms/step\n",
      "4/4 [==============================] - 0s 73ms/step\n",
      "4/4 [==============================] - 0s 68ms/step\n",
      "4/4 [==============================] - 0s 71ms/step\n",
      "4/4 [==============================] - 0s 71ms/step\n",
      "4/4 [==============================] - 0s 73ms/step\n",
      "4/4 [==============================] - 0s 73ms/step\n",
      "4/4 [==============================] - 0s 75ms/step\n",
      "4/4 [==============================] - 0s 74ms/step\n",
      "4/4 [==============================] - 0s 72ms/step\n",
      "4/4 [==============================] - 0s 75ms/step\n",
      "4/4 [==============================] - 0s 74ms/step\n",
      "4/4 [==============================] - 0s 85ms/step\n",
      "4/4 [==============================] - 0s 83ms/step\n",
      "4/4 [==============================] - 0s 74ms/step\n",
      "4/4 [==============================] - 0s 67ms/step\n",
      "4/4 [==============================] - 0s 76ms/step\n",
      "4/4 [==============================] - 0s 72ms/step\n",
      "4/4 [==============================] - 0s 86ms/step\n",
      "4/4 [==============================] - 0s 69ms/step\n",
      "4/4 [==============================] - 0s 72ms/step\n",
      "4/4 [==============================] - 0s 70ms/step\n",
      "4/4 [==============================] - 0s 81ms/step\n",
      "4/4 [==============================] - 0s 71ms/step\n",
      "4/4 [==============================] - 0s 71ms/step\n",
      "4/4 [==============================] - 0s 72ms/step\n",
      "4/4 [==============================] - 0s 69ms/step\n",
      "4/4 [==============================] - 0s 75ms/step\n",
      "4/4 [==============================] - 0s 73ms/step\n",
      "4/4 [==============================] - 0s 73ms/step\n",
      "4/4 [==============================] - 0s 74ms/step\n",
      "4/4 [==============================] - 0s 72ms/step\n",
      "4/4 [==============================] - 0s 71ms/step\n",
      "4/4 [==============================] - 0s 73ms/step\n",
      "4/4 [==============================] - 0s 73ms/step\n",
      "4/4 [==============================] - 0s 72ms/step\n",
      "4/4 [==============================] - 0s 71ms/step\n",
      "1/1 [==============================] - 0s 62ms/step\n"
     ]
    },
    {
     "data": {
      "application/vnd.jupyter.widget-view+json": {
       "model_id": "",
       "version_major": 2,
       "version_minor": 0
      },
      "text/plain": [
       "  0%|          | 0/40 [00:00<?, ?it/s]"
      ]
     },
     "metadata": {},
     "output_type": "display_data"
    },
    {
     "name": "stdout",
     "output_type": "stream",
     "text": [
      "4/4 [==============================] - 0s 64ms/step\n",
      "4/4 [==============================] - 0s 74ms/step\n",
      "4/4 [==============================] - 0s 69ms/step\n",
      "4/4 [==============================] - 0s 71ms/step\n",
      "4/4 [==============================] - 0s 71ms/step\n",
      "4/4 [==============================] - 0s 69ms/step\n",
      "4/4 [==============================] - 0s 70ms/step\n",
      "4/4 [==============================] - 0s 70ms/step\n",
      "4/4 [==============================] - 0s 68ms/step\n",
      "4/4 [==============================] - 0s 71ms/step\n",
      "4/4 [==============================] - 0s 70ms/step\n",
      "4/4 [==============================] - 0s 68ms/step\n",
      "4/4 [==============================] - 0s 71ms/step\n",
      "4/4 [==============================] - 0s 82ms/step\n",
      "4/4 [==============================] - 0s 76ms/step\n",
      "4/4 [==============================] - 0s 74ms/step\n",
      "4/4 [==============================] - 0s 73ms/step\n",
      "4/4 [==============================] - 0s 73ms/step\n",
      "4/4 [==============================] - 0s 73ms/step\n",
      "4/4 [==============================] - 0s 76ms/step\n",
      "4/4 [==============================] - 0s 74ms/step\n",
      "4/4 [==============================] - 0s 72ms/step\n",
      "4/4 [==============================] - 0s 72ms/step\n",
      "4/4 [==============================] - 0s 70ms/step\n",
      "4/4 [==============================] - 0s 69ms/step\n",
      "4/4 [==============================] - 0s 134ms/step\n",
      "4/4 [==============================] - 0s 71ms/step\n",
      "4/4 [==============================] - 0s 70ms/step\n",
      "4/4 [==============================] - 0s 77ms/step\n",
      "4/4 [==============================] - 0s 72ms/step\n",
      "4/4 [==============================] - 0s 76ms/step\n",
      "4/4 [==============================] - 0s 70ms/step\n",
      "4/4 [==============================] - 0s 78ms/step\n",
      "4/4 [==============================] - 0s 71ms/step\n",
      "4/4 [==============================] - 0s 73ms/step\n",
      "4/4 [==============================] - 0s 75ms/step\n",
      "4/4 [==============================] - 0s 74ms/step\n",
      "4/4 [==============================] - 0s 72ms/step\n",
      "4/4 [==============================] - 0s 74ms/step\n",
      "4/4 [==============================] - 0s 78ms/step\n",
      "1/1 [==============================] - 0s 60ms/step\n"
     ]
    },
    {
     "data": {
      "application/vnd.jupyter.widget-view+json": {
       "model_id": "",
       "version_major": 2,
       "version_minor": 0
      },
      "text/plain": [
       "  0%|          | 0/40 [00:00<?, ?it/s]"
      ]
     },
     "metadata": {},
     "output_type": "display_data"
    },
    {
     "name": "stdout",
     "output_type": "stream",
     "text": [
      "4/4 [==============================] - 0s 70ms/step\n",
      "4/4 [==============================] - 0s 74ms/step\n",
      "4/4 [==============================] - 0s 69ms/step\n",
      "4/4 [==============================] - 0s 71ms/step\n",
      "4/4 [==============================] - 0s 69ms/step\n",
      "4/4 [==============================] - 0s 70ms/step\n",
      "4/4 [==============================] - 0s 71ms/step\n",
      "4/4 [==============================] - 0s 68ms/step\n",
      "4/4 [==============================] - 0s 70ms/step\n",
      "4/4 [==============================] - 0s 73ms/step\n",
      "4/4 [==============================] - 0s 68ms/step\n",
      "4/4 [==============================] - 0s 69ms/step\n",
      "4/4 [==============================] - 0s 72ms/step\n",
      "4/4 [==============================] - 0s 70ms/step\n",
      "4/4 [==============================] - 0s 69ms/step\n",
      "4/4 [==============================] - 0s 71ms/step\n",
      "4/4 [==============================] - 0s 69ms/step\n",
      "4/4 [==============================] - 0s 72ms/step\n",
      "4/4 [==============================] - 0s 76ms/step\n",
      "4/4 [==============================] - 0s 72ms/step\n",
      "4/4 [==============================] - 0s 72ms/step\n",
      "4/4 [==============================] - 0s 74ms/step\n",
      "4/4 [==============================] - 0s 72ms/step\n",
      "4/4 [==============================] - 0s 71ms/step\n",
      "4/4 [==============================] - 0s 75ms/step\n",
      "4/4 [==============================] - 0s 74ms/step\n",
      "4/4 [==============================] - 0s 71ms/step\n",
      "4/4 [==============================] - 0s 65ms/step\n",
      "4/4 [==============================] - 0s 72ms/step\n",
      "4/4 [==============================] - 0s 68ms/step\n",
      "4/4 [==============================] - 0s 71ms/step\n",
      "4/4 [==============================] - 0s 71ms/step\n",
      "4/4 [==============================] - 0s 70ms/step\n",
      "4/4 [==============================] - 0s 71ms/step\n",
      "4/4 [==============================] - 0s 76ms/step\n",
      "4/4 [==============================] - 0s 69ms/step\n",
      "4/4 [==============================] - 0s 71ms/step\n",
      "4/4 [==============================] - 0s 70ms/step\n",
      "4/4 [==============================] - 0s 68ms/step\n",
      "4/4 [==============================] - 0s 70ms/step\n",
      "1/1 [==============================] - 0s 60ms/step\n"
     ]
    },
    {
     "data": {
      "application/vnd.jupyter.widget-view+json": {
       "model_id": "",
       "version_major": 2,
       "version_minor": 0
      },
      "text/plain": [
       "  0%|          | 0/40 [00:00<?, ?it/s]"
      ]
     },
     "metadata": {},
     "output_type": "display_data"
    },
    {
     "name": "stdout",
     "output_type": "stream",
     "text": [
      "4/4 [==============================] - 0s 69ms/step\n",
      "4/4 [==============================] - 0s 74ms/step\n",
      "4/4 [==============================] - 0s 75ms/step\n",
      "4/4 [==============================] - 0s 72ms/step\n",
      "4/4 [==============================] - 0s 75ms/step\n",
      "4/4 [==============================] - 0s 76ms/step\n",
      "4/4 [==============================] - 0s 72ms/step\n",
      "4/4 [==============================] - 0s 74ms/step\n",
      "4/4 [==============================] - 0s 71ms/step\n",
      "4/4 [==============================] - 0s 69ms/step\n",
      "4/4 [==============================] - 0s 70ms/step\n",
      "4/4 [==============================] - 0s 71ms/step\n",
      "4/4 [==============================] - 0s 69ms/step\n",
      "4/4 [==============================] - 0s 70ms/step\n",
      "4/4 [==============================] - 0s 71ms/step\n",
      "4/4 [==============================] - 0s 68ms/step\n",
      "4/4 [==============================] - 0s 71ms/step\n",
      "4/4 [==============================] - 0s 71ms/step\n",
      "4/4 [==============================] - 0s 70ms/step\n",
      "4/4 [==============================] - 0s 71ms/step\n",
      "4/4 [==============================] - 0s 75ms/step\n",
      "4/4 [==============================] - 0s 72ms/step\n",
      "4/4 [==============================] - 0s 71ms/step\n",
      "4/4 [==============================] - 0s 72ms/step\n",
      "4/4 [==============================] - 0s 72ms/step\n",
      "4/4 [==============================] - 0s 75ms/step\n",
      "4/4 [==============================] - 0s 75ms/step\n",
      "4/4 [==============================] - 0s 73ms/step\n",
      "4/4 [==============================] - 0s 74ms/step\n",
      "4/4 [==============================] - 0s 76ms/step\n",
      "4/4 [==============================] - 0s 73ms/step\n",
      "4/4 [==============================] - 0s 73ms/step\n",
      "4/4 [==============================] - 0s 74ms/step\n",
      "4/4 [==============================] - 0s 69ms/step\n",
      "4/4 [==============================] - 0s 69ms/step\n",
      "4/4 [==============================] - 0s 72ms/step\n",
      "4/4 [==============================] - 0s 68ms/step\n",
      "4/4 [==============================] - 0s 69ms/step\n",
      "4/4 [==============================] - 0s 71ms/step\n",
      "4/4 [==============================] - 0s 84ms/step\n",
      "1/1 [==============================] - 0s 61ms/step\n"
     ]
    },
    {
     "data": {
      "image/png": "[encoded data removed]",
      "text/plain": [
       "<Figure size 800x400 with 32 Axes>"
      ]
     },
     "metadata": {},
     "output_type": "display_data"
    },
    {
     "name": "stdout",
     "output_type": "stream",
     "text": [
      "Якщо генератор і дескрімінатор сбалансовані, точність генератора прямує в 0 або 1:\n",
      "0.5050130208333333\n"
     ]
    },
    {
     "data": {
      "application/vnd.jupyter.widget-view+json": {
       "model_id": "",
       "version_major": 2,
       "version_minor": 0
      },
      "text/plain": [
       "  0%|          | 0/40 [00:00<?, ?it/s]"
      ]
     },
     "metadata": {},
     "output_type": "display_data"
    },
    {
     "name": "stdout",
     "output_type": "stream",
     "text": [
      "4/4 [==============================] - 0s 68ms/step\n",
      "4/4 [==============================] - 0s 71ms/step\n",
      "4/4 [==============================] - 0s 74ms/step\n",
      "4/4 [==============================] - 0s 70ms/step\n",
      "4/4 [==============================] - 0s 70ms/step\n",
      "4/4 [==============================] - 0s 70ms/step\n",
      "4/4 [==============================] - 0s 77ms/step\n",
      "4/4 [==============================] - 0s 73ms/step\n",
      "4/4 [==============================] - 0s 73ms/step\n",
      "4/4 [==============================] - 0s 73ms/step\n",
      "4/4 [==============================] - 0s 73ms/step\n",
      "4/4 [==============================] - 0s 72ms/step\n",
      "4/4 [==============================] - 0s 74ms/step\n",
      "4/4 [==============================] - 0s 72ms/step\n",
      "4/4 [==============================] - 0s 74ms/step\n",
      "4/4 [==============================] - 0s 71ms/step\n",
      "4/4 [==============================] - 0s 69ms/step\n",
      "4/4 [==============================] - 0s 69ms/step\n",
      "4/4 [==============================] - 0s 72ms/step\n",
      "4/4 [==============================] - 0s 68ms/step\n",
      "4/4 [==============================] - 0s 70ms/step\n",
      "4/4 [==============================] - 0s 71ms/step\n",
      "4/4 [==============================] - 0s 69ms/step\n",
      "4/4 [==============================] - 0s 68ms/step\n",
      "4/4 [==============================] - 0s 70ms/step\n",
      "4/4 [==============================] - 0s 77ms/step\n",
      "4/4 [==============================] - 0s 69ms/step\n",
      "4/4 [==============================] - 0s 74ms/step\n",
      "4/4 [==============================] - 0s 70ms/step\n",
      "4/4 [==============================] - 0s 73ms/step\n",
      "4/4 [==============================] - 0s 77ms/step\n",
      "4/4 [==============================] - 0s 73ms/step\n",
      "4/4 [==============================] - 0s 74ms/step\n",
      "4/4 [==============================] - 0s 75ms/step\n",
      "4/4 [==============================] - 0s 74ms/step\n",
      "4/4 [==============================] - 0s 74ms/step\n",
      "4/4 [==============================] - 0s 76ms/step\n",
      "4/4 [==============================] - 0s 74ms/step\n",
      "4/4 [==============================] - 0s 73ms/step\n",
      "4/4 [==============================] - 0s 72ms/step\n",
      "1/1 [==============================] - 0s 59ms/step\n"
     ]
    },
    {
     "data": {
      "application/vnd.jupyter.widget-view+json": {
       "model_id": "",
       "version_major": 2,
       "version_minor": 0
      },
      "text/plain": [
       "  0%|          | 0/40 [00:00<?, ?it/s]"
      ]
     },
     "metadata": {},
     "output_type": "display_data"
    },
    {
     "name": "stdout",
     "output_type": "stream",
     "text": [
      "4/4 [==============================] - 0s 63ms/step\n",
      "4/4 [==============================] - 0s 73ms/step\n",
      "4/4 [==============================] - 0s 71ms/step\n",
      "4/4 [==============================] - 0s 70ms/step\n",
      "4/4 [==============================] - 0s 73ms/step\n",
      "4/4 [==============================] - 0s 71ms/step\n",
      "4/4 [==============================] - 0s 70ms/step\n",
      "4/4 [==============================] - 0s 70ms/step\n",
      "4/4 [==============================] - 0s 67ms/step\n",
      "4/4 [==============================] - 0s 71ms/step\n",
      "4/4 [==============================] - 0s 72ms/step\n",
      "4/4 [==============================] - 0s 69ms/step\n",
      "4/4 [==============================] - 0s 74ms/step\n",
      "4/4 [==============================] - 0s 75ms/step\n",
      "4/4 [==============================] - 0s 73ms/step\n",
      "4/4 [==============================] - 0s 74ms/step\n",
      "4/4 [==============================] - 0s 74ms/step\n",
      "4/4 [==============================] - 0s 73ms/step\n",
      "4/4 [==============================] - 0s 73ms/step\n",
      "4/4 [==============================] - 0s 74ms/step\n",
      "4/4 [==============================] - 0s 73ms/step\n",
      "4/4 [==============================] - 0s 72ms/step\n",
      "4/4 [==============================] - 0s 71ms/step\n",
      "4/4 [==============================] - 0s 71ms/step\n",
      "4/4 [==============================] - 0s 70ms/step\n",
      "4/4 [==============================] - 0s 72ms/step\n",
      "4/4 [==============================] - 0s 69ms/step\n",
      "4/4 [==============================] - 0s 71ms/step\n",
      "4/4 [==============================] - 0s 71ms/step\n",
      "4/4 [==============================] - 0s 70ms/step\n",
      "4/4 [==============================] - 0s 71ms/step\n",
      "4/4 [==============================] - 0s 74ms/step\n",
      "4/4 [==============================] - 0s 70ms/step\n",
      "4/4 [==============================] - 0s 91ms/step\n",
      "4/4 [==============================] - 0s 80ms/step\n",
      "4/4 [==============================] - 0s 106ms/step\n",
      "4/4 [==============================] - 0s 104ms/step\n",
      "4/4 [==============================] - 1s 127ms/step\n",
      "4/4 [==============================] - 0s 81ms/step\n",
      "4/4 [==============================] - 0s 78ms/step\n",
      "1/1 [==============================] - 0s 66ms/step\n"
     ]
    },
    {
     "data": {
      "application/vnd.jupyter.widget-view+json": {
       "model_id": "",
       "version_major": 2,
       "version_minor": 0
      },
      "text/plain": [
       "  0%|          | 0/40 [00:00<?, ?it/s]"
      ]
     },
     "metadata": {},
     "output_type": "display_data"
    },
    {
     "name": "stdout",
     "output_type": "stream",
     "text": [
      "4/4 [==============================] - 0s 90ms/step\n",
      "4/4 [==============================] - 1s 129ms/step\n",
      "4/4 [==============================] - 1s 121ms/step\n",
      "4/4 [==============================] - 1s 105ms/step\n",
      "4/4 [==============================] - 1s 171ms/step\n",
      "4/4 [==============================] - 0s 108ms/step\n",
      "4/4 [==============================] - 0s 114ms/step\n",
      "4/4 [==============================] - 0s 119ms/step\n",
      "4/4 [==============================] - 0s 108ms/step\n",
      "4/4 [==============================] - 0s 80ms/step\n",
      "4/4 [==============================] - 0s 90ms/step\n",
      "4/4 [==============================] - 0s 86ms/step\n",
      "4/4 [==============================] - 0s 95ms/step\n",
      "4/4 [==============================] - 1s 110ms/step\n",
      "4/4 [==============================] - 0s 90ms/step\n",
      "4/4 [==============================] - 0s 82ms/step\n",
      "4/4 [==============================] - 0s 101ms/step\n",
      "4/4 [==============================] - 1s 127ms/step\n",
      "4/4 [==============================] - 0s 110ms/step\n",
      "4/4 [==============================] - 0s 114ms/step\n",
      "4/4 [==============================] - 0s 102ms/step\n",
      "4/4 [==============================] - 0s 104ms/step\n",
      "4/4 [==============================] - 0s 95ms/step\n",
      "4/4 [==============================] - 1s 133ms/step\n",
      "4/4 [==============================] - 0s 92ms/step\n",
      "4/4 [==============================] - 0s 83ms/step\n",
      "4/4 [==============================] - 0s 78ms/step\n",
      "4/4 [==============================] - 0s 80ms/step\n",
      "4/4 [==============================] - 0s 79ms/step\n",
      "4/4 [==============================] - 0s 77ms/step\n",
      "4/4 [==============================] - 0s 87ms/step\n",
      "4/4 [==============================] - 0s 79ms/step\n",
      "4/4 [==============================] - 0s 109ms/step\n",
      "4/4 [==============================] - 0s 97ms/step\n",
      "4/4 [==============================] - 0s 106ms/step\n",
      "4/4 [==============================] - 1s 130ms/step\n",
      "4/4 [==============================] - 0s 91ms/step\n",
      "4/4 [==============================] - 0s 105ms/step\n",
      "4/4 [==============================] - 0s 87ms/step\n",
      "4/4 [==============================] - 0s 89ms/step\n",
      "1/1 [==============================] - 0s 79ms/step\n"
     ]
    },
    {
     "data": {
      "application/vnd.jupyter.widget-view+json": {
       "model_id": "",
       "version_major": 2,
       "version_minor": 0
      },
      "text/plain": [
       "  0%|          | 0/40 [00:00<?, ?it/s]"
      ]
     },
     "metadata": {},
     "output_type": "display_data"
    },
    {
     "name": "stdout",
     "output_type": "stream",
     "text": [
      "4/4 [==============================] - 0s 83ms/step\n",
      "4/4 [==============================] - 0s 98ms/step\n",
      "4/4 [==============================] - 0s 80ms/step\n",
      "4/4 [==============================] - 0s 84ms/step\n",
      "4/4 [==============================] - 0s 75ms/step\n",
      "4/4 [==============================] - 0s 78ms/step\n",
      "4/4 [==============================] - 0s 78ms/step\n",
      "4/4 [==============================] - 0s 94ms/step\n",
      "4/4 [==============================] - 0s 81ms/step\n",
      "4/4 [==============================] - 0s 78ms/step\n",
      "4/4 [==============================] - 0s 77ms/step\n",
      "4/4 [==============================] - 0s 77ms/step\n",
      "4/4 [==============================] - 0s 79ms/step\n",
      "4/4 [==============================] - 0s 80ms/step\n",
      "4/4 [==============================] - 0s 76ms/step\n",
      "4/4 [==============================] - 0s 74ms/step\n",
      "4/4 [==============================] - 0s 74ms/step\n",
      "4/4 [==============================] - 0s 76ms/step\n",
      "4/4 [==============================] - 0s 72ms/step\n",
      "4/4 [==============================] - 0s 73ms/step\n",
      "4/4 [==============================] - 0s 74ms/step\n",
      "4/4 [==============================] - 0s 71ms/step\n",
      "4/4 [==============================] - 0s 72ms/step\n",
      "4/4 [==============================] - 0s 77ms/step\n",
      "4/4 [==============================] - 0s 71ms/step\n",
      "4/4 [==============================] - 0s 74ms/step\n",
      "4/4 [==============================] - 0s 73ms/step\n",
      "4/4 [==============================] - 0s 76ms/step\n",
      "4/4 [==============================] - 0s 77ms/step\n",
      "4/4 [==============================] - 0s 97ms/step\n",
      "4/4 [==============================] - 0s 92ms/step\n",
      "4/4 [==============================] - 0s 119ms/step\n",
      "4/4 [==============================] - 0s 76ms/step\n",
      "4/4 [==============================] - 0s 79ms/step\n",
      "4/4 [==============================] - 0s 114ms/step\n",
      "4/4 [==============================] - 0s 80ms/step\n",
      "4/4 [==============================] - 0s 75ms/step\n",
      "4/4 [==============================] - 0s 74ms/step\n",
      "4/4 [==============================] - 0s 73ms/step\n",
      "4/4 [==============================] - 0s 74ms/step\n",
      "1/1 [==============================] - 0s 61ms/step\n"
     ]
    },
    {
     "data": {
      "application/vnd.jupyter.widget-view+json": {
       "model_id": "",
       "version_major": 2,
       "version_minor": 0
      },
      "text/plain": [
       "  0%|          | 0/40 [00:00<?, ?it/s]"
      ]
     },
     "metadata": {},
     "output_type": "display_data"
    },
    {
     "name": "stdout",
     "output_type": "stream",
     "text": [
      "4/4 [==============================] - 0s 69ms/step\n",
      "4/4 [==============================] - 0s 74ms/step\n",
      "4/4 [==============================] - 0s 72ms/step\n",
      "4/4 [==============================] - 0s 75ms/step\n",
      "4/4 [==============================] - 0s 74ms/step\n",
      "4/4 [==============================] - 0s 71ms/step\n",
      "4/4 [==============================] - 0s 73ms/step\n",
      "4/4 [==============================] - 0s 75ms/step\n",
      "4/4 [==============================] - 0s 77ms/step\n",
      "4/4 [==============================] - 0s 76ms/step\n",
      "4/4 [==============================] - 0s 87ms/step\n",
      "4/4 [==============================] - 0s 79ms/step\n",
      "4/4 [==============================] - 0s 77ms/step\n",
      "4/4 [==============================] - 0s 76ms/step\n",
      "4/4 [==============================] - 0s 78ms/step\n",
      "4/4 [==============================] - 0s 78ms/step\n",
      "4/4 [==============================] - 0s 76ms/step\n",
      "4/4 [==============================] - 0s 78ms/step\n",
      "4/4 [==============================] - 0s 76ms/step\n",
      "4/4 [==============================] - 0s 73ms/step\n",
      "4/4 [==============================] - 0s 73ms/step\n",
      "4/4 [==============================] - 0s 76ms/step\n",
      "4/4 [==============================] - 0s 78ms/step\n",
      "4/4 [==============================] - 0s 73ms/step\n",
      "4/4 [==============================] - 0s 73ms/step\n",
      "4/4 [==============================] - 0s 74ms/step\n",
      "4/4 [==============================] - 0s 72ms/step\n",
      "4/4 [==============================] - 0s 72ms/step\n",
      "4/4 [==============================] - 0s 76ms/step\n",
      "4/4 [==============================] - 0s 73ms/step\n",
      "4/4 [==============================] - 0s 76ms/step\n",
      "4/4 [==============================] - 0s 78ms/step\n",
      "4/4 [==============================] - 0s 79ms/step\n",
      "4/4 [==============================] - 0s 73ms/step\n",
      "4/4 [==============================] - 0s 72ms/step\n",
      "4/4 [==============================] - 0s 74ms/step\n",
      "4/4 [==============================] - 0s 73ms/step\n",
      "4/4 [==============================] - 0s 72ms/step\n",
      "4/4 [==============================] - 0s 74ms/step\n",
      "4/4 [==============================] - 0s 70ms/step\n",
      "1/1 [==============================] - 0s 61ms/step\n"
     ]
    },
    {
     "data": {
      "application/vnd.jupyter.widget-view+json": {
       "model_id": "",
       "version_major": 2,
       "version_minor": 0
      },
      "text/plain": [
       "  0%|          | 0/40 [00:00<?, ?it/s]"
      ]
     },
     "metadata": {},
     "output_type": "display_data"
    },
    {
     "name": "stdout",
     "output_type": "stream",
     "text": [
      "4/4 [==============================] - 0s 65ms/step\n",
      "4/4 [==============================] - 0s 70ms/step\n",
      "4/4 [==============================] - 0s 69ms/step\n",
      "4/4 [==============================] - 0s 73ms/step\n",
      "4/4 [==============================] - 0s 69ms/step\n",
      "4/4 [==============================] - 0s 79ms/step\n",
      "4/4 [==============================] - 0s 90ms/step\n",
      "4/4 [==============================] - 0s 68ms/step\n",
      "4/4 [==============================] - 0s 73ms/step\n",
      "4/4 [==============================] - 0s 71ms/step\n",
      "4/4 [==============================] - 0s 67ms/step\n",
      "4/4 [==============================] - 0s 75ms/step\n",
      "4/4 [==============================] - 0s 74ms/step\n",
      "4/4 [==============================] - 0s 73ms/step\n",
      "4/4 [==============================] - 0s 73ms/step\n",
      "4/4 [==============================] - 0s 74ms/step\n",
      "4/4 [==============================] - 0s 76ms/step\n",
      "4/4 [==============================] - 0s 73ms/step\n",
      "4/4 [==============================] - 0s 74ms/step\n",
      "4/4 [==============================] - 0s 76ms/step\n",
      "4/4 [==============================] - 0s 68ms/step\n",
      "4/4 [==============================] - 0s 70ms/step\n",
      "4/4 [==============================] - 0s 71ms/step\n",
      "4/4 [==============================] - 0s 68ms/step\n",
      "4/4 [==============================] - 0s 70ms/step\n",
      "4/4 [==============================] - 0s 71ms/step\n",
      "4/4 [==============================] - 0s 69ms/step\n",
      "4/4 [==============================] - 0s 71ms/step\n",
      "4/4 [==============================] - 0s 75ms/step\n",
      "4/4 [==============================] - 0s 75ms/step\n",
      "4/4 [==============================] - 0s 77ms/step\n",
      "4/4 [==============================] - 0s 80ms/step\n",
      "4/4 [==============================] - 0s 75ms/step\n",
      "4/4 [==============================] - 0s 69ms/step\n",
      "4/4 [==============================] - 0s 75ms/step\n",
      "4/4 [==============================] - 0s 72ms/step\n",
      "4/4 [==============================] - 0s 74ms/step\n",
      "4/4 [==============================] - 0s 74ms/step\n",
      "4/4 [==============================] - 0s 83ms/step\n",
      "4/4 [==============================] - 0s 83ms/step\n",
      "1/1 [==============================] - 0s 65ms/step\n"
     ]
    },
    {
     "data": {
      "application/vnd.jupyter.widget-view+json": {
       "model_id": "",
       "version_major": 2,
       "version_minor": 0
      },
      "text/plain": [
       "  0%|          | 0/40 [00:00<?, ?it/s]"
      ]
     },
     "metadata": {},
     "output_type": "display_data"
    },
    {
     "name": "stdout",
     "output_type": "stream",
     "text": [
      "4/4 [==============================] - 0s 78ms/step\n",
      "4/4 [==============================] - 0s 74ms/step\n",
      "4/4 [==============================] - 0s 89ms/step\n",
      "4/4 [==============================] - 0s 100ms/step\n",
      "4/4 [==============================] - 0s 77ms/step\n",
      "4/4 [==============================] - 0s 76ms/step\n",
      "4/4 [==============================] - 0s 73ms/step\n",
      "4/4 [==============================] - 0s 74ms/step\n",
      "4/4 [==============================] - 0s 74ms/step\n",
      "4/4 [==============================] - 0s 70ms/step\n",
      "4/4 [==============================] - 0s 70ms/step\n",
      "4/4 [==============================] - 0s 71ms/step\n",
      "4/4 [==============================] - 0s 70ms/step\n",
      "4/4 [==============================] - 0s 69ms/step\n",
      "4/4 [==============================] - 0s 75ms/step\n",
      "4/4 [==============================] - 0s 73ms/step\n",
      "4/4 [==============================] - 0s 73ms/step\n",
      "4/4 [==============================] - 0s 77ms/step\n",
      "4/4 [==============================] - 0s 77ms/step\n",
      "4/4 [==============================] - 0s 74ms/step\n",
      "4/4 [==============================] - 0s 82ms/step\n",
      "4/4 [==============================] - 0s 86ms/step\n",
      "4/4 [==============================] - 0s 95ms/step\n",
      "4/4 [==============================] - 0s 77ms/step\n",
      "4/4 [==============================] - 0s 72ms/step\n",
      "4/4 [==============================] - 0s 76ms/step\n",
      "4/4 [==============================] - 0s 79ms/step\n",
      "4/4 [==============================] - 0s 77ms/step\n",
      "4/4 [==============================] - 0s 100ms/step\n",
      "4/4 [==============================] - 0s 114ms/step\n",
      "4/4 [==============================] - 0s 87ms/step\n",
      "4/4 [==============================] - 0s 87ms/step\n",
      "4/4 [==============================] - 0s 100ms/step\n",
      "4/4 [==============================] - 0s 77ms/step\n",
      "4/4 [==============================] - 0s 84ms/step\n",
      "4/4 [==============================] - 0s 86ms/step\n",
      "4/4 [==============================] - 0s 114ms/step\n",
      "4/4 [==============================] - 0s 110ms/step\n",
      "4/4 [==============================] - 0s 94ms/step\n",
      "4/4 [==============================] - 0s 108ms/step\n",
      "1/1 [==============================] - 0s 73ms/step\n"
     ]
    },
    {
     "data": {
      "application/vnd.jupyter.widget-view+json": {
       "model_id": "",
       "version_major": 2,
       "version_minor": 0
      },
      "text/plain": [
       "  0%|          | 0/40 [00:00<?, ?it/s]"
      ]
     },
     "metadata": {},
     "output_type": "display_data"
    },
    {
     "name": "stdout",
     "output_type": "stream",
     "text": [
      "4/4 [==============================] - 0s 78ms/step\n",
      "4/4 [==============================] - 0s 89ms/step\n",
      "4/4 [==============================] - 0s 82ms/step\n",
      "4/4 [==============================] - 0s 77ms/step\n",
      "4/4 [==============================] - 0s 75ms/step\n",
      "4/4 [==============================] - 0s 75ms/step\n",
      "4/4 [==============================] - 0s 73ms/step\n",
      "4/4 [==============================] - 0s 73ms/step\n",
      "4/4 [==============================] - 0s 75ms/step\n",
      "4/4 [==============================] - 0s 75ms/step\n",
      "4/4 [==============================] - 0s 73ms/step\n",
      "4/4 [==============================] - 0s 78ms/step\n",
      "4/4 [==============================] - 0s 78ms/step\n",
      "4/4 [==============================] - 0s 73ms/step\n",
      "4/4 [==============================] - 0s 79ms/step\n",
      "4/4 [==============================] - 0s 78ms/step\n",
      "4/4 [==============================] - 0s 76ms/step\n",
      "4/4 [==============================] - 0s 80ms/step\n",
      "4/4 [==============================] - 0s 81ms/step\n",
      "4/4 [==============================] - 0s 80ms/step\n",
      "4/4 [==============================] - 0s 77ms/step\n",
      "4/4 [==============================] - 0s 76ms/step\n",
      "4/4 [==============================] - 0s 78ms/step\n",
      "4/4 [==============================] - 0s 79ms/step\n",
      "4/4 [==============================] - 0s 73ms/step\n",
      "4/4 [==============================] - 0s 75ms/step\n",
      "4/4 [==============================] - 0s 76ms/step\n",
      "4/4 [==============================] - 0s 73ms/step\n",
      "4/4 [==============================] - 0s 75ms/step\n",
      "4/4 [==============================] - 0s 77ms/step\n",
      "4/4 [==============================] - 0s 75ms/step\n",
      "4/4 [==============================] - 0s 73ms/step\n",
      "4/4 [==============================] - 1s 138ms/step\n",
      "4/4 [==============================] - 0s 88ms/step\n",
      "4/4 [==============================] - 0s 79ms/step\n",
      "4/4 [==============================] - 0s 77ms/step\n",
      "4/4 [==============================] - 0s 79ms/step\n",
      "4/4 [==============================] - 0s 77ms/step\n",
      "4/4 [==============================] - 0s 100ms/step\n",
      "4/4 [==============================] - 0s 95ms/step\n",
      "1/1 [==============================] - 0s 68ms/step\n"
     ]
    },
    {
     "data": {
      "application/vnd.jupyter.widget-view+json": {
       "model_id": "",
       "version_major": 2,
       "version_minor": 0
      },
      "text/plain": [
       "  0%|          | 0/40 [00:00<?, ?it/s]"
      ]
     },
     "metadata": {},
     "output_type": "display_data"
    },
    {
     "name": "stdout",
     "output_type": "stream",
     "text": [
      "4/4 [==============================] - 0s 112ms/step\n",
      "4/4 [==============================] - 0s 79ms/step\n",
      "4/4 [==============================] - 0s 96ms/step\n",
      "4/4 [==============================] - 0s 72ms/step\n",
      "4/4 [==============================] - 0s 75ms/step\n",
      "4/4 [==============================] - 0s 76ms/step\n",
      "4/4 [==============================] - 0s 73ms/step\n",
      "4/4 [==============================] - 0s 74ms/step\n",
      "4/4 [==============================] - 0s 76ms/step\n",
      "4/4 [==============================] - 0s 72ms/step\n",
      "4/4 [==============================] - 0s 75ms/step\n",
      "4/4 [==============================] - 0s 74ms/step\n",
      "4/4 [==============================] - 0s 68ms/step\n",
      "4/4 [==============================] - 0s 72ms/step\n",
      "4/4 [==============================] - 0s 72ms/step\n",
      "4/4 [==============================] - 0s 68ms/step\n",
      "4/4 [==============================] - 0s 76ms/step\n",
      "4/4 [==============================] - 0s 76ms/step\n",
      "4/4 [==============================] - 0s 73ms/step\n",
      "4/4 [==============================] - 0s 73ms/step\n",
      "4/4 [==============================] - 0s 75ms/step\n",
      "4/4 [==============================] - 0s 73ms/step\n",
      "4/4 [==============================] - 0s 72ms/step\n",
      "4/4 [==============================] - 0s 74ms/step\n",
      "4/4 [==============================] - 0s 75ms/step\n",
      "4/4 [==============================] - 0s 68ms/step\n",
      "4/4 [==============================] - 0s 72ms/step\n",
      "4/4 [==============================] - 0s 73ms/step\n",
      "4/4 [==============================] - 0s 71ms/step\n",
      "4/4 [==============================] - 0s 71ms/step\n",
      "4/4 [==============================] - 0s 71ms/step\n",
      "4/4 [==============================] - 0s 69ms/step\n",
      "4/4 [==============================] - 0s 71ms/step\n",
      "4/4 [==============================] - 0s 72ms/step\n",
      "4/4 [==============================] - 0s 68ms/step\n",
      "4/4 [==============================] - 0s 70ms/step\n",
      "4/4 [==============================] - 0s 70ms/step\n",
      "4/4 [==============================] - 0s 69ms/step\n",
      "4/4 [==============================] - 0s 71ms/step\n",
      "4/4 [==============================] - 0s 89ms/step\n",
      "1/1 [==============================] - 0s 64ms/step\n"
     ]
    },
    {
     "data": {
      "application/vnd.jupyter.widget-view+json": {
       "model_id": "",
       "version_major": 2,
       "version_minor": 0
      },
      "text/plain": [
       "  0%|          | 0/40 [00:00<?, ?it/s]"
      ]
     },
     "metadata": {},
     "output_type": "display_data"
    },
    {
     "name": "stdout",
     "output_type": "stream",
     "text": [
      "4/4 [==============================] - 0s 76ms/step\n",
      "4/4 [==============================] - 0s 78ms/step\n",
      "4/4 [==============================] - 0s 91ms/step\n",
      "4/4 [==============================] - 0s 80ms/step\n",
      "4/4 [==============================] - 0s 87ms/step\n",
      "4/4 [==============================] - 0s 85ms/step\n",
      "4/4 [==============================] - 0s 80ms/step\n",
      "4/4 [==============================] - 0s 81ms/step\n",
      "4/4 [==============================] - 0s 75ms/step\n",
      "4/4 [==============================] - 0s 76ms/step\n",
      "4/4 [==============================] - 0s 70ms/step\n",
      "4/4 [==============================] - 0s 80ms/step\n",
      "4/4 [==============================] - 0s 79ms/step\n",
      "4/4 [==============================] - 0s 77ms/step\n",
      "4/4 [==============================] - 0s 69ms/step\n",
      "4/4 [==============================] - 0s 83ms/step\n",
      "4/4 [==============================] - 0s 75ms/step\n",
      "4/4 [==============================] - 0s 70ms/step\n",
      "4/4 [==============================] - 0s 74ms/step\n",
      "4/4 [==============================] - 0s 75ms/step\n",
      "4/4 [==============================] - 0s 73ms/step\n",
      "4/4 [==============================] - 0s 77ms/step\n",
      "4/4 [==============================] - 0s 79ms/step\n",
      "4/4 [==============================] - 0s 94ms/step\n",
      "4/4 [==============================] - 0s 87ms/step\n",
      "4/4 [==============================] - 0s 83ms/step\n",
      "4/4 [==============================] - 0s 78ms/step\n",
      "4/4 [==============================] - 0s 79ms/step\n",
      "4/4 [==============================] - 0s 78ms/step\n",
      "4/4 [==============================] - 0s 75ms/step\n",
      "4/4 [==============================] - 0s 76ms/step\n",
      "4/4 [==============================] - 0s 77ms/step\n",
      "4/4 [==============================] - 0s 72ms/step\n",
      "4/4 [==============================] - 0s 76ms/step\n",
      "4/4 [==============================] - 0s 75ms/step\n",
      "4/4 [==============================] - 0s 70ms/step\n",
      "4/4 [==============================] - 0s 73ms/step\n",
      "4/4 [==============================] - 0s 71ms/step\n",
      "4/4 [==============================] - 0s 69ms/step\n",
      "4/4 [==============================] - 0s 79ms/step\n",
      "1/1 [==============================] - 0s 70ms/step\n"
     ]
    },
    {
     "data": {
      "application/vnd.jupyter.widget-view+json": {
       "model_id": "",
       "version_major": 2,
       "version_minor": 0
      },
      "text/plain": [
       "  0%|          | 0/40 [00:00<?, ?it/s]"
      ]
     },
     "metadata": {},
     "output_type": "display_data"
    },
    {
     "name": "stdout",
     "output_type": "stream",
     "text": [
      "4/4 [==============================] - 0s 104ms/step\n",
      "4/4 [==============================] - 0s 91ms/step\n",
      "4/4 [==============================] - 0s 83ms/step\n",
      "4/4 [==============================] - 0s 85ms/step\n",
      "4/4 [==============================] - 0s 104ms/step\n",
      "4/4 [==============================] - 0s 81ms/step\n",
      "4/4 [==============================] - 0s 77ms/step\n",
      "4/4 [==============================] - 0s 81ms/step\n",
      "4/4 [==============================] - 0s 77ms/step\n",
      "4/4 [==============================] - 0s 74ms/step\n",
      "4/4 [==============================] - 0s 70ms/step\n",
      "4/4 [==============================] - 0s 74ms/step\n",
      "4/4 [==============================] - 0s 72ms/step\n",
      "4/4 [==============================] - 0s 71ms/step\n",
      "4/4 [==============================] - 0s 73ms/step\n",
      "4/4 [==============================] - 0s 72ms/step\n",
      "4/4 [==============================] - 0s 72ms/step\n",
      "4/4 [==============================] - 0s 72ms/step\n",
      "4/4 [==============================] - 0s 72ms/step\n",
      "4/4 [==============================] - 0s 72ms/step\n",
      "4/4 [==============================] - 0s 74ms/step\n",
      "4/4 [==============================] - 0s 71ms/step\n",
      "4/4 [==============================] - 0s 76ms/step\n",
      "4/4 [==============================] - 0s 76ms/step\n",
      "4/4 [==============================] - 0s 77ms/step\n",
      "4/4 [==============================] - 0s 78ms/step\n",
      "4/4 [==============================] - 0s 75ms/step\n",
      "4/4 [==============================] - 0s 79ms/step\n",
      "4/4 [==============================] - 0s 79ms/step\n",
      "4/4 [==============================] - 0s 77ms/step\n",
      "4/4 [==============================] - 0s 77ms/step\n",
      "4/4 [==============================] - 0s 73ms/step\n",
      "4/4 [==============================] - 0s 72ms/step\n",
      "4/4 [==============================] - 0s 72ms/step\n",
      "4/4 [==============================] - 0s 104ms/step\n",
      "4/4 [==============================] - 0s 72ms/step\n",
      "4/4 [==============================] - 0s 70ms/step\n",
      "4/4 [==============================] - 0s 77ms/step\n",
      "4/4 [==============================] - 0s 71ms/step\n",
      "4/4 [==============================] - 0s 73ms/step\n",
      "1/1 [==============================] - 0s 65ms/step\n"
     ]
    },
    {
     "data": {
      "application/vnd.jupyter.widget-view+json": {
       "model_id": "",
       "version_major": 2,
       "version_minor": 0
      },
      "text/plain": [
       "  0%|          | 0/40 [00:00<?, ?it/s]"
      ]
     },
     "metadata": {},
     "output_type": "display_data"
    },
    {
     "name": "stdout",
     "output_type": "stream",
     "text": [
      "4/4 [==============================] - 0s 82ms/step\n",
      "4/4 [==============================] - 0s 72ms/step\n",
      "4/4 [==============================] - 0s 74ms/step\n",
      "4/4 [==============================] - 0s 71ms/step\n",
      "4/4 [==============================] - 0s 75ms/step\n",
      "4/4 [==============================] - 0s 77ms/step\n",
      "4/4 [==============================] - 0s 76ms/step\n",
      "4/4 [==============================] - 0s 75ms/step\n",
      "4/4 [==============================] - 0s 76ms/step\n",
      "4/4 [==============================] - 0s 76ms/step\n",
      "4/4 [==============================] - 0s 74ms/step\n",
      "4/4 [==============================] - 0s 76ms/step\n",
      "4/4 [==============================] - 0s 76ms/step\n",
      "4/4 [==============================] - 0s 71ms/step\n",
      "4/4 [==============================] - 0s 71ms/step\n",
      "4/4 [==============================] - 0s 74ms/step\n",
      "4/4 [==============================] - 0s 69ms/step\n",
      "4/4 [==============================] - 0s 71ms/step\n",
      "4/4 [==============================] - 0s 73ms/step\n",
      "4/4 [==============================] - 0s 71ms/step\n",
      "4/4 [==============================] - 0s 72ms/step\n",
      "4/4 [==============================] - 0s 73ms/step\n",
      "4/4 [==============================] - 0s 70ms/step\n",
      "4/4 [==============================] - 0s 72ms/step\n",
      "4/4 [==============================] - 0s 74ms/step\n",
      "4/4 [==============================] - 0s 73ms/step\n",
      "4/4 [==============================] - 0s 72ms/step\n",
      "4/4 [==============================] - 0s 76ms/step\n",
      "4/4 [==============================] - 0s 75ms/step\n",
      "4/4 [==============================] - 0s 75ms/step\n",
      "4/4 [==============================] - 0s 76ms/step\n",
      "4/4 [==============================] - 0s 76ms/step\n",
      "4/4 [==============================] - 0s 74ms/step\n",
      "4/4 [==============================] - 0s 76ms/step\n",
      "4/4 [==============================] - 0s 73ms/step\n",
      "4/4 [==============================] - 0s 75ms/step\n",
      "4/4 [==============================] - 0s 73ms/step\n",
      "4/4 [==============================] - 0s 71ms/step\n",
      "4/4 [==============================] - 0s 70ms/step\n",
      "4/4 [==============================] - 0s 73ms/step\n",
      "1/1 [==============================] - 0s 64ms/step\n"
     ]
    },
    {
     "data": {
      "image/png": "[encoded data removed]",
      "text/plain": [
       "<Figure size 800x400 with 32 Axes>"
      ]
     },
     "metadata": {},
     "output_type": "display_data"
    },
    {
     "name": "stdout",
     "output_type": "stream",
     "text": [
      "Якщо генератор і дескрімінатор сбалансовані, точність генератора прямує в 0 або 1:\n",
      "0.504296875\n"
     ]
    },
    {
     "data": {
      "application/vnd.jupyter.widget-view+json": {
       "model_id": "",
       "version_major": 2,
       "version_minor": 0
      },
      "text/plain": [
       "  0%|          | 0/40 [00:00<?, ?it/s]"
      ]
     },
     "metadata": {},
     "output_type": "display_data"
    },
    {
     "name": "stdout",
     "output_type": "stream",
     "text": [
      "4/4 [==============================] - 0s 63ms/step\n",
      "4/4 [==============================] - 0s 74ms/step\n",
      "4/4 [==============================] - 0s 70ms/step\n",
      "4/4 [==============================] - 0s 70ms/step\n",
      "4/4 [==============================] - 0s 74ms/step\n",
      "4/4 [==============================] - 0s 73ms/step\n",
      "4/4 [==============================] - 0s 70ms/step\n",
      "4/4 [==============================] - 0s 75ms/step\n",
      "4/4 [==============================] - 0s 71ms/step\n",
      "4/4 [==============================] - 0s 73ms/step\n",
      "4/4 [==============================] - 0s 78ms/step\n",
      "4/4 [==============================] - 0s 73ms/step\n",
      "4/4 [==============================] - 0s 75ms/step\n",
      "4/4 [==============================] - 0s 75ms/step\n",
      "4/4 [==============================] - 0s 74ms/step\n",
      "4/4 [==============================] - 0s 76ms/step\n",
      "4/4 [==============================] - 0s 76ms/step\n",
      "4/4 [==============================] - 0s 77ms/step\n",
      "4/4 [==============================] - 0s 72ms/step\n",
      "4/4 [==============================] - 0s 73ms/step\n",
      "4/4 [==============================] - 0s 72ms/step\n",
      "4/4 [==============================] - 0s 71ms/step\n",
      "4/4 [==============================] - 0s 73ms/step\n",
      "4/4 [==============================] - 0s 72ms/step\n",
      "4/4 [==============================] - 0s 71ms/step\n",
      "4/4 [==============================] - 0s 72ms/step\n",
      "4/4 [==============================] - 0s 72ms/step\n",
      "4/4 [==============================] - 0s 71ms/step\n",
      "4/4 [==============================] - 0s 74ms/step\n",
      "4/4 [==============================] - 0s 70ms/step\n",
      "4/4 [==============================] - 0s 70ms/step\n",
      "4/4 [==============================] - 0s 74ms/step\n",
      "4/4 [==============================] - 0s 80ms/step\n",
      "4/4 [==============================] - 0s 76ms/step\n",
      "4/4 [==============================] - 0s 77ms/step\n",
      "4/4 [==============================] - 0s 76ms/step\n",
      "4/4 [==============================] - 0s 76ms/step\n",
      "4/4 [==============================] - 0s 75ms/step\n",
      "4/4 [==============================] - 0s 77ms/step\n",
      "4/4 [==============================] - 0s 75ms/step\n",
      "1/1 [==============================] - 0s 71ms/step\n"
     ]
    },
    {
     "data": {
      "application/vnd.jupyter.widget-view+json": {
       "model_id": "",
       "version_major": 2,
       "version_minor": 0
      },
      "text/plain": [
       "  0%|          | 0/40 [00:00<?, ?it/s]"
      ]
     },
     "metadata": {},
     "output_type": "display_data"
    },
    {
     "name": "stdout",
     "output_type": "stream",
     "text": [
      "4/4 [==============================] - 0s 81ms/step\n",
      "4/4 [==============================] - 0s 72ms/step\n",
      "4/4 [==============================] - 0s 71ms/step\n",
      "4/4 [==============================] - 0s 73ms/step\n",
      "4/4 [==============================] - 0s 73ms/step\n",
      "4/4 [==============================] - 0s 70ms/step\n",
      "4/4 [==============================] - 0s 73ms/step\n",
      "4/4 [==============================] - 0s 75ms/step\n",
      "4/4 [==============================] - 0s 70ms/step\n",
      "4/4 [==============================] - 0s 73ms/step\n",
      "4/4 [==============================] - 0s 71ms/step\n",
      "4/4 [==============================] - 0s 72ms/step\n",
      "4/4 [==============================] - 0s 73ms/step\n",
      "4/4 [==============================] - 0s 74ms/step\n",
      "4/4 [==============================] - 0s 74ms/step\n",
      "4/4 [==============================] - 0s 85ms/step\n",
      "4/4 [==============================] - 0s 83ms/step\n",
      "4/4 [==============================] - 0s 79ms/step\n",
      "4/4 [==============================] - 0s 79ms/step\n",
      "4/4 [==============================] - 0s 84ms/step\n",
      "4/4 [==============================] - 0s 82ms/step\n",
      "4/4 [==============================] - 0s 74ms/step\n",
      "4/4 [==============================] - 0s 75ms/step\n",
      "4/4 [==============================] - 0s 73ms/step\n",
      "4/4 [==============================] - 0s 79ms/step\n",
      "4/4 [==============================] - 0s 71ms/step\n",
      "4/4 [==============================] - 0s 77ms/step\n",
      "4/4 [==============================] - 0s 69ms/step\n",
      "4/4 [==============================] - 0s 72ms/step\n",
      "4/4 [==============================] - 0s 73ms/step\n",
      "4/4 [==============================] - 0s 70ms/step\n",
      "4/4 [==============================] - 0s 71ms/step\n",
      "4/4 [==============================] - 0s 73ms/step\n",
      "4/4 [==============================] - 0s 71ms/step\n",
      "4/4 [==============================] - 0s 76ms/step\n",
      "4/4 [==============================] - 0s 82ms/step\n",
      "4/4 [==============================] - 0s 101ms/step\n",
      "4/4 [==============================] - 0s 87ms/step\n",
      "4/4 [==============================] - 0s 75ms/step\n",
      "4/4 [==============================] - 0s 108ms/step\n",
      "1/1 [==============================] - 0s 65ms/step\n"
     ]
    },
    {
     "data": {
      "application/vnd.jupyter.widget-view+json": {
       "model_id": "",
       "version_major": 2,
       "version_minor": 0
      },
      "text/plain": [
       "  0%|          | 0/40 [00:00<?, ?it/s]"
      ]
     },
     "metadata": {},
     "output_type": "display_data"
    },
    {
     "name": "stdout",
     "output_type": "stream",
     "text": [
      "4/4 [==============================] - 0s 73ms/step\n",
      "4/4 [==============================] - 0s 77ms/step\n",
      "4/4 [==============================] - 0s 76ms/step\n",
      "4/4 [==============================] - 0s 73ms/step\n",
      "4/4 [==============================] - 0s 70ms/step\n",
      "4/4 [==============================] - 0s 74ms/step\n",
      "4/4 [==============================] - 0s 73ms/step\n",
      "4/4 [==============================] - 0s 71ms/step\n",
      "4/4 [==============================] - 0s 71ms/step\n",
      "4/4 [==============================] - 0s 74ms/step\n",
      "4/4 [==============================] - 0s 71ms/step\n",
      "4/4 [==============================] - 0s 72ms/step\n",
      "4/4 [==============================] - 0s 74ms/step\n",
      "4/4 [==============================] - 0s 72ms/step\n",
      "4/4 [==============================] - 0s 71ms/step\n",
      "4/4 [==============================] - 0s 76ms/step\n",
      "4/4 [==============================] - 0s 80ms/step\n",
      "4/4 [==============================] - 0s 75ms/step\n",
      "4/4 [==============================] - 0s 78ms/step\n",
      "4/4 [==============================] - 0s 79ms/step\n",
      "4/4 [==============================] - 0s 76ms/step\n",
      "4/4 [==============================] - 0s 75ms/step\n",
      "4/4 [==============================] - 0s 85ms/step\n",
      "4/4 [==============================] - 0s 76ms/step\n",
      "4/4 [==============================] - 0s 77ms/step\n",
      "4/4 [==============================] - 0s 74ms/step\n",
      "4/4 [==============================] - 0s 72ms/step\n",
      "4/4 [==============================] - 0s 71ms/step\n",
      "4/4 [==============================] - 0s 73ms/step\n",
      "4/4 [==============================] - 0s 72ms/step\n",
      "4/4 [==============================] - 0s 71ms/step\n",
      "4/4 [==============================] - 0s 73ms/step\n",
      "4/4 [==============================] - 0s 74ms/step\n",
      "4/4 [==============================] - 0s 70ms/step\n",
      "4/4 [==============================] - 0s 73ms/step\n",
      "4/4 [==============================] - 0s 72ms/step\n",
      "4/4 [==============================] - 0s 71ms/step\n",
      "4/4 [==============================] - 0s 73ms/step\n",
      "4/4 [==============================] - 0s 76ms/step\n",
      "4/4 [==============================] - 0s 76ms/step\n",
      "1/1 [==============================] - 0s 64ms/step\n"
     ]
    },
    {
     "data": {
      "application/vnd.jupyter.widget-view+json": {
       "model_id": "",
       "version_major": 2,
       "version_minor": 0
      },
      "text/plain": [
       "  0%|          | 0/40 [00:00<?, ?it/s]"
      ]
     },
     "metadata": {},
     "output_type": "display_data"
    },
    {
     "name": "stdout",
     "output_type": "stream",
     "text": [
      "4/4 [==============================] - 0s 72ms/step\n",
      "4/4 [==============================] - 0s 77ms/step\n",
      "4/4 [==============================] - 0s 78ms/step\n",
      "4/4 [==============================] - 0s 78ms/step\n",
      "4/4 [==============================] - 0s 75ms/step\n",
      "4/4 [==============================] - 0s 74ms/step\n",
      "4/4 [==============================] - 0s 73ms/step\n",
      "4/4 [==============================] - 0s 71ms/step\n",
      "4/4 [==============================] - 0s 71ms/step\n",
      "4/4 [==============================] - 0s 72ms/step\n",
      "4/4 [==============================] - 0s 70ms/step\n",
      "4/4 [==============================] - 0s 78ms/step\n",
      "4/4 [==============================] - 0s 79ms/step\n",
      "4/4 [==============================] - 0s 70ms/step\n",
      "4/4 [==============================] - 0s 84ms/step\n",
      "4/4 [==============================] - 0s 81ms/step\n",
      "4/4 [==============================] - 0s 73ms/step\n",
      "4/4 [==============================] - 0s 72ms/step\n",
      "4/4 [==============================] - 0s 74ms/step\n",
      "4/4 [==============================] - 0s 73ms/step\n",
      "4/4 [==============================] - 0s 70ms/step\n",
      "4/4 [==============================] - 0s 84ms/step\n",
      "4/4 [==============================] - 0s 81ms/step\n",
      "4/4 [==============================] - 0s 75ms/step\n",
      "4/4 [==============================] - 0s 74ms/step\n",
      "4/4 [==============================] - 0s 76ms/step\n",
      "4/4 [==============================] - 0s 78ms/step\n",
      "4/4 [==============================] - 0s 76ms/step\n",
      "4/4 [==============================] - 0s 76ms/step\n",
      "4/4 [==============================] - 0s 79ms/step\n",
      "4/4 [==============================] - 0s 69ms/step\n",
      "4/4 [==============================] - 0s 71ms/step\n",
      "4/4 [==============================] - 0s 74ms/step\n",
      "4/4 [==============================] - 0s 70ms/step\n",
      "4/4 [==============================] - 0s 78ms/step\n",
      "4/4 [==============================] - 0s 83ms/step\n",
      "4/4 [==============================] - 0s 75ms/step\n",
      "4/4 [==============================] - 0s 75ms/step\n",
      "4/4 [==============================] - 0s 83ms/step\n",
      "4/4 [==============================] - 0s 77ms/step\n",
      "1/1 [==============================] - 0s 65ms/step\n"
     ]
    },
    {
     "data": {
      "application/vnd.jupyter.widget-view+json": {
       "model_id": "",
       "version_major": 2,
       "version_minor": 0
      },
      "text/plain": [
       "  0%|          | 0/40 [00:00<?, ?it/s]"
      ]
     },
     "metadata": {},
     "output_type": "display_data"
    },
    {
     "name": "stdout",
     "output_type": "stream",
     "text": [
      "4/4 [==============================] - 0s 78ms/step\n",
      "4/4 [==============================] - 0s 77ms/step\n",
      "4/4 [==============================] - 0s 79ms/step\n",
      "4/4 [==============================] - 0s 80ms/step\n",
      "4/4 [==============================] - 0s 82ms/step\n",
      "4/4 [==============================] - 0s 76ms/step\n",
      "4/4 [==============================] - 0s 75ms/step\n",
      "4/4 [==============================] - 0s 78ms/step\n",
      "4/4 [==============================] - 0s 77ms/step\n",
      "4/4 [==============================] - 0s 75ms/step\n",
      "4/4 [==============================] - 0s 76ms/step\n",
      "4/4 [==============================] - 0s 74ms/step\n",
      "4/4 [==============================] - 0s 70ms/step\n",
      "4/4 [==============================] - 0s 75ms/step\n",
      "4/4 [==============================] - 0s 73ms/step\n",
      "4/4 [==============================] - 0s 72ms/step\n",
      "4/4 [==============================] - 0s 71ms/step\n",
      "4/4 [==============================] - 0s 74ms/step\n",
      "4/4 [==============================] - 0s 71ms/step\n",
      "4/4 [==============================] - 0s 71ms/step\n",
      "4/4 [==============================] - 0s 73ms/step\n",
      "4/4 [==============================] - 0s 70ms/step\n",
      "4/4 [==============================] - 0s 71ms/step\n",
      "4/4 [==============================] - 0s 76ms/step\n",
      "4/4 [==============================] - 0s 69ms/step\n",
      "4/4 [==============================] - 0s 75ms/step\n",
      "4/4 [==============================] - 0s 78ms/step\n",
      "4/4 [==============================] - 0s 76ms/step\n",
      "4/4 [==============================] - 0s 76ms/step\n",
      "4/4 [==============================] - 0s 77ms/step\n",
      "4/4 [==============================] - 0s 78ms/step\n",
      "4/4 [==============================] - 0s 75ms/step\n",
      "4/4 [==============================] - 0s 78ms/step\n",
      "4/4 [==============================] - 0s 78ms/step\n",
      "4/4 [==============================] - 0s 71ms/step\n",
      "4/4 [==============================] - 0s 71ms/step\n",
      "4/4 [==============================] - 0s 74ms/step\n",
      "4/4 [==============================] - 0s 70ms/step\n",
      "4/4 [==============================] - 0s 71ms/step\n",
      "4/4 [==============================] - 0s 73ms/step\n",
      "1/1 [==============================] - 0s 64ms/step\n"
     ]
    },
    {
     "data": {
      "application/vnd.jupyter.widget-view+json": {
       "model_id": "",
       "version_major": 2,
       "version_minor": 0
      },
      "text/plain": [
       "  0%|          | 0/40 [00:00<?, ?it/s]"
      ]
     },
     "metadata": {},
     "output_type": "display_data"
    },
    {
     "name": "stdout",
     "output_type": "stream",
     "text": [
      "4/4 [==============================] - 0s 71ms/step\n",
      "4/4 [==============================] - 0s 76ms/step\n",
      "4/4 [==============================] - 0s 70ms/step\n",
      "4/4 [==============================] - 0s 75ms/step\n",
      "4/4 [==============================] - 0s 73ms/step\n",
      "4/4 [==============================] - 0s 72ms/step\n",
      "4/4 [==============================] - 0s 73ms/step\n",
      "4/4 [==============================] - 0s 79ms/step\n",
      "4/4 [==============================] - 0s 76ms/step\n",
      "4/4 [==============================] - 0s 78ms/step\n",
      "4/4 [==============================] - 0s 80ms/step\n",
      "4/4 [==============================] - 0s 78ms/step\n",
      "4/4 [==============================] - 0s 77ms/step\n",
      "4/4 [==============================] - 0s 79ms/step\n",
      "4/4 [==============================] - 0s 78ms/step\n",
      "4/4 [==============================] - 0s 77ms/step\n",
      "4/4 [==============================] - 0s 75ms/step\n",
      "4/4 [==============================] - 0s 73ms/step\n",
      "4/4 [==============================] - 0s 71ms/step\n",
      "4/4 [==============================] - 0s 73ms/step\n",
      "4/4 [==============================] - 0s 74ms/step\n",
      "4/4 [==============================] - 0s 71ms/step\n",
      "4/4 [==============================] - 0s 73ms/step\n",
      "4/4 [==============================] - 0s 75ms/step\n",
      "4/4 [==============================] - 0s 71ms/step\n",
      "4/4 [==============================] - 0s 73ms/step\n",
      "4/4 [==============================] - 0s 73ms/step\n",
      "4/4 [==============================] - 0s 71ms/step\n",
      "4/4 [==============================] - 0s 75ms/step\n",
      "4/4 [==============================] - 0s 74ms/step\n",
      "4/4 [==============================] - 0s 77ms/step\n",
      "4/4 [==============================] - 0s 77ms/step\n",
      "4/4 [==============================] - 0s 79ms/step\n",
      "4/4 [==============================] - 0s 76ms/step\n",
      "4/4 [==============================] - 0s 77ms/step\n",
      "4/4 [==============================] - 0s 78ms/step\n",
      "4/4 [==============================] - 0s 79ms/step\n",
      "4/4 [==============================] - 0s 76ms/step\n",
      "4/4 [==============================] - 0s 78ms/step\n",
      "4/4 [==============================] - 0s 75ms/step\n",
      "1/1 [==============================] - 0s 65ms/step\n"
     ]
    },
    {
     "data": {
      "application/vnd.jupyter.widget-view+json": {
       "model_id": "",
       "version_major": 2,
       "version_minor": 0
      },
      "text/plain": [
       "  0%|          | 0/40 [00:00<?, ?it/s]"
      ]
     },
     "metadata": {},
     "output_type": "display_data"
    },
    {
     "name": "stdout",
     "output_type": "stream",
     "text": [
      "4/4 [==============================] - 0s 67ms/step\n",
      "4/4 [==============================] - 0s 75ms/step\n",
      "4/4 [==============================] - 0s 72ms/step\n",
      "4/4 [==============================] - 0s 74ms/step\n",
      "4/4 [==============================] - 0s 75ms/step\n",
      "4/4 [==============================] - 0s 72ms/step\n",
      "4/4 [==============================] - 0s 75ms/step\n",
      "4/4 [==============================] - 0s 74ms/step\n",
      "4/4 [==============================] - 0s 72ms/step\n",
      "4/4 [==============================] - 0s 76ms/step\n",
      "4/4 [==============================] - 0s 75ms/step\n",
      "4/4 [==============================] - 0s 73ms/step\n",
      "4/4 [==============================] - 0s 79ms/step\n",
      "4/4 [==============================] - 0s 81ms/step\n",
      "4/4 [==============================] - 0s 77ms/step\n",
      "4/4 [==============================] - 0s 76ms/step\n",
      "4/4 [==============================] - 0s 79ms/step\n",
      "4/4 [==============================] - 0s 80ms/step\n",
      "4/4 [==============================] - 0s 79ms/step\n",
      "4/4 [==============================] - 0s 82ms/step\n",
      "4/4 [==============================] - 0s 81ms/step\n",
      "4/4 [==============================] - 0s 74ms/step\n",
      "4/4 [==============================] - 0s 82ms/step\n",
      "4/4 [==============================] - 0s 76ms/step\n",
      "4/4 [==============================] - 0s 74ms/step\n",
      "4/4 [==============================] - 0s 73ms/step\n",
      "4/4 [==============================] - 0s 76ms/step\n",
      "4/4 [==============================] - 0s 75ms/step\n",
      "4/4 [==============================] - 0s 72ms/step\n",
      "4/4 [==============================] - 0s 74ms/step\n",
      "4/4 [==============================] - 0s 75ms/step\n",
      "4/4 [==============================] - 0s 74ms/step\n",
      "4/4 [==============================] - 0s 74ms/step\n",
      "4/4 [==============================] - 0s 75ms/step\n",
      "4/4 [==============================] - 0s 78ms/step\n",
      "4/4 [==============================] - 0s 79ms/step\n",
      "4/4 [==============================] - 0s 80ms/step\n",
      "4/4 [==============================] - 0s 77ms/step\n",
      "4/4 [==============================] - 0s 77ms/step\n",
      "4/4 [==============================] - 0s 79ms/step\n",
      "1/1 [==============================] - 0s 64ms/step\n"
     ]
    },
    {
     "data": {
      "application/vnd.jupyter.widget-view+json": {
       "model_id": "",
       "version_major": 2,
       "version_minor": 0
      },
      "text/plain": [
       "  0%|          | 0/40 [00:00<?, ?it/s]"
      ]
     },
     "metadata": {},
     "output_type": "display_data"
    },
    {
     "name": "stdout",
     "output_type": "stream",
     "text": [
      "4/4 [==============================] - 0s 72ms/step\n",
      "4/4 [==============================] - 0s 77ms/step\n",
      "4/4 [==============================] - 0s 97ms/step\n",
      "4/4 [==============================] - 0s 77ms/step\n",
      "4/4 [==============================] - 0s 74ms/step\n",
      "4/4 [==============================] - 0s 79ms/step\n",
      "4/4 [==============================] - 0s 74ms/step\n",
      "4/4 [==============================] - 0s 73ms/step\n",
      "4/4 [==============================] - 0s 73ms/step\n",
      "4/4 [==============================] - 0s 77ms/step\n",
      "4/4 [==============================] - 0s 74ms/step\n",
      "4/4 [==============================] - 0s 73ms/step\n",
      "4/4 [==============================] - 0s 75ms/step\n",
      "4/4 [==============================] - 0s 73ms/step\n",
      "4/4 [==============================] - 0s 73ms/step\n",
      "4/4 [==============================] - 0s 79ms/step\n",
      "4/4 [==============================] - 0s 79ms/step\n",
      "4/4 [==============================] - 0s 76ms/step\n",
      "4/4 [==============================] - 0s 77ms/step\n",
      "4/4 [==============================] - 0s 80ms/step\n",
      "4/4 [==============================] - 0s 76ms/step\n",
      "4/4 [==============================] - 0s 78ms/step\n",
      "4/4 [==============================] - 0s 79ms/step\n",
      "4/4 [==============================] - 0s 78ms/step\n",
      "4/4 [==============================] - 0s 71ms/step\n",
      "4/4 [==============================] - 0s 75ms/step\n",
      "4/4 [==============================] - 0s 74ms/step\n",
      "4/4 [==============================] - 0s 71ms/step\n",
      "4/4 [==============================] - 0s 79ms/step\n",
      "4/4 [==============================] - 0s 75ms/step\n",
      "4/4 [==============================] - 0s 73ms/step\n",
      "4/4 [==============================] - 0s 73ms/step\n",
      "4/4 [==============================] - 0s 84ms/step\n",
      "4/4 [==============================] - 0s 83ms/step\n",
      "4/4 [==============================] - 0s 85ms/step\n",
      "4/4 [==============================] - 0s 79ms/step\n",
      "4/4 [==============================] - 0s 81ms/step\n",
      "4/4 [==============================] - 0s 79ms/step\n",
      "4/4 [==============================] - 0s 79ms/step\n",
      "4/4 [==============================] - 0s 79ms/step\n",
      "1/1 [==============================] - 0s 64ms/step\n"
     ]
    },
    {
     "data": {
      "application/vnd.jupyter.widget-view+json": {
       "model_id": "",
       "version_major": 2,
       "version_minor": 0
      },
      "text/plain": [
       "  0%|          | 0/40 [00:00<?, ?it/s]"
      ]
     },
     "metadata": {},
     "output_type": "display_data"
    },
    {
     "name": "stdout",
     "output_type": "stream",
     "text": [
      "4/4 [==============================] - 0s 73ms/step\n",
      "4/4 [==============================] - 0s 82ms/step\n",
      "4/4 [==============================] - 0s 79ms/step\n",
      "4/4 [==============================] - 0s 77ms/step\n",
      "4/4 [==============================] - 0s 79ms/step\n",
      "4/4 [==============================] - 0s 75ms/step\n",
      "4/4 [==============================] - 0s 76ms/step\n",
      "4/4 [==============================] - 0s 73ms/step\n",
      "4/4 [==============================] - 0s 75ms/step\n",
      "4/4 [==============================] - 0s 75ms/step\n",
      "4/4 [==============================] - 0s 74ms/step\n",
      "4/4 [==============================] - 0s 76ms/step\n",
      "4/4 [==============================] - 0s 73ms/step\n",
      "4/4 [==============================] - 0s 73ms/step\n",
      "4/4 [==============================] - 0s 76ms/step\n",
      "4/4 [==============================] - 0s 73ms/step\n",
      "4/4 [==============================] - 0s 73ms/step\n",
      "4/4 [==============================] - 0s 75ms/step\n",
      "4/4 [==============================] - 0s 75ms/step\n",
      "4/4 [==============================] - 0s 78ms/step\n",
      "4/4 [==============================] - 0s 80ms/step\n",
      "4/4 [==============================] - 0s 80ms/step\n",
      "4/4 [==============================] - 0s 78ms/step\n",
      "4/4 [==============================] - 0s 78ms/step\n",
      "4/4 [==============================] - 0s 80ms/step\n",
      "4/4 [==============================] - 0s 89ms/step\n",
      "4/4 [==============================] - 0s 77ms/step\n",
      "4/4 [==============================] - 0s 78ms/step\n",
      "4/4 [==============================] - 0s 76ms/step\n",
      "4/4 [==============================] - 0s 76ms/step\n",
      "4/4 [==============================] - 0s 72ms/step\n",
      "4/4 [==============================] - 0s 76ms/step\n",
      "4/4 [==============================] - 0s 73ms/step\n",
      "4/4 [==============================] - 0s 98ms/step\n",
      "4/4 [==============================] - 0s 77ms/step\n",
      "4/4 [==============================] - 0s 78ms/step\n",
      "4/4 [==============================] - 0s 74ms/step\n",
      "4/4 [==============================] - 0s 72ms/step\n",
      "4/4 [==============================] - 0s 75ms/step\n",
      "4/4 [==============================] - 0s 71ms/step\n",
      "1/1 [==============================] - 0s 65ms/step\n"
     ]
    },
    {
     "data": {
      "application/vnd.jupyter.widget-view+json": {
       "model_id": "",
       "version_major": 2,
       "version_minor": 0
      },
      "text/plain": [
       "  0%|          | 0/40 [00:00<?, ?it/s]"
      ]
     },
     "metadata": {},
     "output_type": "display_data"
    },
    {
     "name": "stdout",
     "output_type": "stream",
     "text": [
      "4/4 [==============================] - 0s 67ms/step\n",
      "4/4 [==============================] - 0s 77ms/step\n",
      "4/4 [==============================] - 0s 77ms/step\n",
      "4/4 [==============================] - 0s 81ms/step\n",
      "4/4 [==============================] - 0s 84ms/step\n",
      "4/4 [==============================] - 0s 78ms/step\n",
      "4/4 [==============================] - 0s 78ms/step\n",
      "4/4 [==============================] - 0s 79ms/step\n",
      "4/4 [==============================] - 0s 79ms/step\n",
      "4/4 [==============================] - 0s 73ms/step\n",
      "4/4 [==============================] - 0s 73ms/step\n",
      "4/4 [==============================] - 0s 78ms/step\n",
      "4/4 [==============================] - 0s 73ms/step\n",
      "4/4 [==============================] - 0s 78ms/step\n",
      "4/4 [==============================] - 0s 74ms/step\n",
      "4/4 [==============================] - 0s 72ms/step\n",
      "4/4 [==============================] - 0s 73ms/step\n",
      "4/4 [==============================] - 0s 74ms/step\n",
      "4/4 [==============================] - 0s 72ms/step\n",
      "4/4 [==============================] - 0s 78ms/step\n",
      "4/4 [==============================] - 0s 78ms/step\n",
      "4/4 [==============================] - 0s 71ms/step\n",
      "4/4 [==============================] - 0s 73ms/step\n",
      "4/4 [==============================] - 0s 99ms/step\n",
      "4/4 [==============================] - 0s 83ms/step\n",
      "4/4 [==============================] - 0s 90ms/step\n",
      "4/4 [==============================] - 0s 81ms/step\n",
      "4/4 [==============================] - 0s 93ms/step\n",
      "4/4 [==============================] - 0s 80ms/step\n",
      "4/4 [==============================] - 0s 78ms/step\n",
      "4/4 [==============================] - 0s 94ms/step\n",
      "4/4 [==============================] - 0s 79ms/step\n",
      "4/4 [==============================] - 0s 72ms/step\n",
      "4/4 [==============================] - 0s 73ms/step\n",
      "4/4 [==============================] - 0s 76ms/step\n",
      "4/4 [==============================] - 0s 74ms/step\n",
      "4/4 [==============================] - 0s 75ms/step\n",
      "4/4 [==============================] - 0s 76ms/step\n",
      "4/4 [==============================] - 0s 73ms/step\n",
      "4/4 [==============================] - 0s 73ms/step\n",
      "1/1 [==============================] - 0s 67ms/step\n"
     ]
    },
    {
     "data": {
      "application/vnd.jupyter.widget-view+json": {
       "model_id": "",
       "version_major": 2,
       "version_minor": 0
      },
      "text/plain": [
       "  0%|          | 0/40 [00:00<?, ?it/s]"
      ]
     },
     "metadata": {},
     "output_type": "display_data"
    },
    {
     "name": "stdout",
     "output_type": "stream",
     "text": [
      "4/4 [==============================] - 0s 67ms/step\n",
      "4/4 [==============================] - 0s 75ms/step\n",
      "4/4 [==============================] - 0s 74ms/step\n",
      "4/4 [==============================] - 0s 75ms/step\n",
      "4/4 [==============================] - 0s 79ms/step\n",
      "4/4 [==============================] - 0s 79ms/step\n",
      "4/4 [==============================] - 0s 77ms/step\n",
      "4/4 [==============================] - 0s 80ms/step\n",
      "4/4 [==============================] - 0s 81ms/step\n",
      "4/4 [==============================] - 0s 79ms/step\n",
      "4/4 [==============================] - 0s 78ms/step\n",
      "4/4 [==============================] - 0s 78ms/step\n",
      "4/4 [==============================] - 0s 80ms/step\n",
      "4/4 [==============================] - 0s 81ms/step\n",
      "4/4 [==============================] - 0s 74ms/step\n",
      "4/4 [==============================] - 0s 76ms/step\n",
      "4/4 [==============================] - 0s 76ms/step\n",
      "4/4 [==============================] - 0s 73ms/step\n",
      "4/4 [==============================] - 0s 75ms/step\n",
      "4/4 [==============================] - 0s 74ms/step\n",
      "4/4 [==============================] - 0s 73ms/step\n",
      "4/4 [==============================] - 0s 75ms/step\n",
      "4/4 [==============================] - 0s 72ms/step\n",
      "4/4 [==============================] - 0s 74ms/step\n",
      "4/4 [==============================] - 0s 75ms/step\n",
      "4/4 [==============================] - 0s 76ms/step\n",
      "4/4 [==============================] - 0s 77ms/step\n",
      "4/4 [==============================] - 0s 80ms/step\n",
      "4/4 [==============================] - 0s 81ms/step\n",
      "4/4 [==============================] - 0s 93ms/step\n",
      "4/4 [==============================] - 0s 79ms/step\n",
      "4/4 [==============================] - 0s 81ms/step\n",
      "4/4 [==============================] - 0s 81ms/step\n",
      "4/4 [==============================] - 0s 78ms/step\n",
      "4/4 [==============================] - 0s 77ms/step\n",
      "4/4 [==============================] - 0s 75ms/step\n",
      "4/4 [==============================] - 0s 74ms/step\n",
      "4/4 [==============================] - 0s 72ms/step\n",
      "4/4 [==============================] - 0s 75ms/step\n",
      "4/4 [==============================] - 0s 76ms/step\n",
      "1/1 [==============================] - 0s 66ms/step\n"
     ]
    },
    {
     "data": {
      "application/vnd.jupyter.widget-view+json": {
       "model_id": "",
       "version_major": 2,
       "version_minor": 0
      },
      "text/plain": [
       "  0%|          | 0/40 [00:00<?, ?it/s]"
      ]
     },
     "metadata": {},
     "output_type": "display_data"
    },
    {
     "name": "stdout",
     "output_type": "stream",
     "text": [
      "4/4 [==============================] - 0s 69ms/step\n",
      "4/4 [==============================] - 0s 73ms/step\n",
      "4/4 [==============================] - 0s 75ms/step\n",
      "4/4 [==============================] - 0s 75ms/step\n",
      "4/4 [==============================] - 0s 74ms/step\n",
      "4/4 [==============================] - 0s 74ms/step\n",
      "4/4 [==============================] - 0s 79ms/step\n",
      "4/4 [==============================] - 0s 73ms/step\n",
      "4/4 [==============================] - 0s 78ms/step\n",
      "4/4 [==============================] - 0s 79ms/step\n",
      "4/4 [==============================] - 0s 80ms/step\n",
      "4/4 [==============================] - 0s 79ms/step\n",
      "4/4 [==============================] - 0s 81ms/step\n",
      "4/4 [==============================] - 0s 80ms/step\n",
      "4/4 [==============================] - 0s 79ms/step\n",
      "4/4 [==============================] - 0s 78ms/step\n",
      "4/4 [==============================] - 0s 81ms/step\n",
      "4/4 [==============================] - 0s 77ms/step\n",
      "4/4 [==============================] - 0s 75ms/step\n",
      "4/4 [==============================] - 0s 76ms/step\n",
      "4/4 [==============================] - 0s 75ms/step\n",
      "4/4 [==============================] - 0s 73ms/step\n",
      "4/4 [==============================] - 0s 75ms/step\n",
      "4/4 [==============================] - 0s 76ms/step\n",
      "4/4 [==============================] - 0s 76ms/step\n",
      "4/4 [==============================] - 0s 75ms/step\n",
      "4/4 [==============================] - 0s 75ms/step\n",
      "4/4 [==============================] - 0s 73ms/step\n",
      "4/4 [==============================] - 0s 75ms/step\n",
      "4/4 [==============================] - 0s 76ms/step\n",
      "4/4 [==============================] - 0s 78ms/step\n",
      "4/4 [==============================] - 0s 78ms/step\n",
      "4/4 [==============================] - 0s 80ms/step\n",
      "4/4 [==============================] - 0s 80ms/step\n",
      "4/4 [==============================] - 0s 76ms/step\n",
      "4/4 [==============================] - 0s 92ms/step\n",
      "4/4 [==============================] - 0s 80ms/step\n",
      "4/4 [==============================] - 0s 80ms/step\n",
      "4/4 [==============================] - 0s 78ms/step\n",
      "4/4 [==============================] - 0s 75ms/step\n",
      "1/1 [==============================] - 0s 66ms/step\n"
     ]
    },
    {
     "data": {
      "image/png": "[encoded data removed]",
      "text/plain": [
       "<Figure size 800x400 with 32 Axes>"
      ]
     },
     "metadata": {},
     "output_type": "display_data"
    },
    {
     "name": "stdout",
     "output_type": "stream",
     "text": [
      "Якщо генератор і дескрімінатор сбалансовані, точність генератора прямує в 0 або 1:\n",
      "0.5036783854166667\n"
     ]
    },
    {
     "data": {
      "application/vnd.jupyter.widget-view+json": {
       "model_id": "",
       "version_major": 2,
       "version_minor": 0
      },
      "text/plain": [
       "  0%|          | 0/40 [00:00<?, ?it/s]"
      ]
     },
     "metadata": {},
     "output_type": "display_data"
    },
    {
     "name": "stdout",
     "output_type": "stream",
     "text": [
      "4/4 [==============================] - 0s 71ms/step\n",
      "4/4 [==============================] - 0s 73ms/step\n",
      "4/4 [==============================] - 0s 76ms/step\n",
      "4/4 [==============================] - 0s 75ms/step\n",
      "4/4 [==============================] - 0s 74ms/step\n",
      "4/4 [==============================] - 0s 77ms/step\n",
      "4/4 [==============================] - 0s 73ms/step\n",
      "4/4 [==============================] - 0s 74ms/step\n",
      "4/4 [==============================] - 0s 75ms/step\n",
      "4/4 [==============================] - 0s 74ms/step\n",
      "4/4 [==============================] - 0s 76ms/step\n",
      "4/4 [==============================] - 0s 79ms/step\n",
      "4/4 [==============================] - 0s 82ms/step\n",
      "4/4 [==============================] - 0s 79ms/step\n",
      "4/4 [==============================] - 0s 79ms/step\n",
      "4/4 [==============================] - 0s 81ms/step\n",
      "4/4 [==============================] - 0s 81ms/step\n",
      "4/4 [==============================] - 0s 78ms/step\n",
      "4/4 [==============================] - 0s 80ms/step\n",
      "4/4 [==============================] - 0s 81ms/step\n",
      "4/4 [==============================] - 0s 75ms/step\n",
      "4/4 [==============================] - 0s 75ms/step\n",
      "4/4 [==============================] - 0s 77ms/step\n",
      "4/4 [==============================] - 0s 75ms/step\n",
      "4/4 [==============================] - 0s 74ms/step\n",
      "4/4 [==============================] - 0s 76ms/step\n",
      "4/4 [==============================] - 0s 74ms/step\n",
      "4/4 [==============================] - 0s 75ms/step\n",
      "4/4 [==============================] - 0s 76ms/step\n",
      "4/4 [==============================] - 0s 76ms/step\n",
      "4/4 [==============================] - 0s 74ms/step\n",
      "4/4 [==============================] - 0s 93ms/step\n",
      "4/4 [==============================] - 0s 84ms/step\n",
      "4/4 [==============================] - 0s 105ms/step\n",
      "4/4 [==============================] - 0s 81ms/step\n",
      "4/4 [==============================] - 0s 86ms/step\n",
      "4/4 [==============================] - 0s 92ms/step\n",
      "4/4 [==============================] - 0s 93ms/step\n",
      "4/4 [==============================] - 0s 86ms/step\n",
      "4/4 [==============================] - 0s 85ms/step\n",
      "1/1 [==============================] - 0s 72ms/step\n"
     ]
    },
    {
     "data": {
      "application/vnd.jupyter.widget-view+json": {
       "model_id": "",
       "version_major": 2,
       "version_minor": 0
      },
      "text/plain": [
       "  0%|          | 0/40 [00:00<?, ?it/s]"
      ]
     },
     "metadata": {},
     "output_type": "display_data"
    },
    {
     "name": "stdout",
     "output_type": "stream",
     "text": [
      "4/4 [==============================] - 0s 85ms/step\n",
      "4/4 [==============================] - 0s 86ms/step\n",
      "4/4 [==============================] - 0s 94ms/step\n",
      "4/4 [==============================] - 0s 84ms/step\n",
      "4/4 [==============================] - 0s 84ms/step\n",
      "4/4 [==============================] - 0s 81ms/step\n",
      "4/4 [==============================] - 0s 81ms/step\n",
      "4/4 [==============================] - 0s 76ms/step\n",
      "4/4 [==============================] - 0s 76ms/step\n",
      "4/4 [==============================] - 0s 75ms/step\n",
      "4/4 [==============================] - 0s 75ms/step\n",
      "4/4 [==============================] - 0s 75ms/step\n",
      "4/4 [==============================] - 0s 75ms/step\n",
      "4/4 [==============================] - 0s 81ms/step\n",
      "4/4 [==============================] - 0s 81ms/step\n",
      "4/4 [==============================] - 0s 79ms/step\n",
      "4/4 [==============================] - 0s 79ms/step\n",
      "4/4 [==============================] - 0s 81ms/step\n",
      "4/4 [==============================] - 0s 81ms/step\n",
      "4/4 [==============================] - 0s 80ms/step\n",
      "4/4 [==============================] - 0s 81ms/step\n",
      "4/4 [==============================] - 0s 82ms/step\n",
      "4/4 [==============================] - 0s 78ms/step\n",
      "4/4 [==============================] - 0s 76ms/step\n",
      "4/4 [==============================] - 0s 76ms/step\n",
      "4/4 [==============================] - 0s 75ms/step\n",
      "4/4 [==============================] - 0s 75ms/step\n",
      "4/4 [==============================] - 0s 76ms/step\n",
      "4/4 [==============================] - 0s 76ms/step\n",
      "4/4 [==============================] - 0s 73ms/step\n",
      "4/4 [==============================] - 0s 76ms/step\n",
      "4/4 [==============================] - 0s 75ms/step\n",
      "4/4 [==============================] - 0s 75ms/step\n",
      "4/4 [==============================] - 0s 76ms/step\n",
      "4/4 [==============================] - 0s 77ms/step\n",
      "4/4 [==============================] - 0s 78ms/step\n",
      "4/4 [==============================] - 0s 79ms/step\n",
      "4/4 [==============================] - 0s 82ms/step\n",
      "4/4 [==============================] - 0s 96ms/step\n",
      "4/4 [==============================] - 0s 86ms/step\n",
      "1/1 [==============================] - 0s 65ms/step\n"
     ]
    },
    {
     "data": {
      "application/vnd.jupyter.widget-view+json": {
       "model_id": "",
       "version_major": 2,
       "version_minor": 0
      },
      "text/plain": [
       "  0%|          | 0/40 [00:00<?, ?it/s]"
      ]
     },
     "metadata": {},
     "output_type": "display_data"
    },
    {
     "name": "stdout",
     "output_type": "stream",
     "text": [
      "4/4 [==============================] - 0s 75ms/step\n",
      "4/4 [==============================] - 0s 79ms/step\n",
      "4/4 [==============================] - 0s 73ms/step\n",
      "4/4 [==============================] - 0s 77ms/step\n",
      "4/4 [==============================] - 0s 74ms/step\n",
      "4/4 [==============================] - 0s 73ms/step\n",
      "4/4 [==============================] - 0s 76ms/step\n",
      "4/4 [==============================] - 0s 77ms/step\n",
      "4/4 [==============================] - 0s 75ms/step\n",
      "4/4 [==============================] - 0s 75ms/step\n",
      "4/4 [==============================] - 0s 76ms/step\n",
      "4/4 [==============================] - 0s 75ms/step\n",
      "4/4 [==============================] - 0s 76ms/step\n",
      "4/4 [==============================] - 0s 76ms/step\n",
      "4/4 [==============================] - 0s 74ms/step\n",
      "4/4 [==============================] - 0s 80ms/step\n",
      "4/4 [==============================] - 0s 75ms/step\n",
      "4/4 [==============================] - 0s 78ms/step\n",
      "4/4 [==============================] - 0s 79ms/step\n",
      "4/4 [==============================] - 0s 82ms/step\n",
      "4/4 [==============================] - 0s 79ms/step\n",
      "4/4 [==============================] - 0s 79ms/step\n",
      "4/4 [==============================] - 0s 79ms/step\n",
      "4/4 [==============================] - 0s 81ms/step\n",
      "4/4 [==============================] - 0s 78ms/step\n",
      "4/4 [==============================] - 0s 79ms/step\n",
      "4/4 [==============================] - 0s 75ms/step\n",
      "4/4 [==============================] - 0s 75ms/step\n",
      "4/4 [==============================] - 0s 75ms/step\n",
      "4/4 [==============================] - 0s 75ms/step\n",
      "4/4 [==============================] - 0s 77ms/step\n",
      "4/4 [==============================] - 0s 74ms/step\n",
      "4/4 [==============================] - 0s 76ms/step\n",
      "4/4 [==============================] - 0s 75ms/step\n",
      "4/4 [==============================] - 0s 74ms/step\n",
      "4/4 [==============================] - 0s 78ms/step\n",
      "4/4 [==============================] - 0s 79ms/step\n",
      "4/4 [==============================] - 0s 75ms/step\n",
      "4/4 [==============================] - 0s 74ms/step\n",
      "4/4 [==============================] - 0s 81ms/step\n",
      "1/1 [==============================] - 0s 65ms/step\n"
     ]
    },
    {
     "data": {
      "application/vnd.jupyter.widget-view+json": {
       "model_id": "",
       "version_major": 2,
       "version_minor": 0
      },
      "text/plain": [
       "  0%|          | 0/40 [00:00<?, ?it/s]"
      ]
     },
     "metadata": {},
     "output_type": "display_data"
    },
    {
     "name": "stdout",
     "output_type": "stream",
     "text": [
      "4/4 [==============================] - 0s 78ms/step\n",
      "4/4 [==============================] - 0s 83ms/step\n",
      "4/4 [==============================] - 0s 80ms/step\n",
      "4/4 [==============================] - 0s 80ms/step\n",
      "4/4 [==============================] - 0s 80ms/step\n",
      "4/4 [==============================] - 0s 83ms/step\n",
      "4/4 [==============================] - 0s 82ms/step\n",
      "4/4 [==============================] - 0s 77ms/step\n",
      "4/4 [==============================] - 0s 77ms/step\n",
      "4/4 [==============================] - 0s 77ms/step\n",
      "4/4 [==============================] - 0s 77ms/step\n",
      "4/4 [==============================] - 0s 74ms/step\n",
      "4/4 [==============================] - 0s 77ms/step\n",
      "4/4 [==============================] - 0s 75ms/step\n",
      "4/4 [==============================] - 0s 76ms/step\n",
      "4/4 [==============================] - 0s 76ms/step\n",
      "4/4 [==============================] - 0s 74ms/step\n",
      "4/4 [==============================] - 0s 75ms/step\n",
      "4/4 [==============================] - 0s 77ms/step\n",
      "4/4 [==============================] - 0s 75ms/step\n",
      "4/4 [==============================] - 0s 80ms/step\n",
      "4/4 [==============================] - 0s 82ms/step\n",
      "4/4 [==============================] - 0s 82ms/step\n",
      "4/4 [==============================] - 0s 84ms/step\n",
      "4/4 [==============================] - 0s 84ms/step\n",
      "4/4 [==============================] - 0s 84ms/step\n",
      "4/4 [==============================] - 0s 79ms/step\n",
      "4/4 [==============================] - 0s 80ms/step\n",
      "4/4 [==============================] - 0s 81ms/step\n",
      "4/4 [==============================] - 0s 78ms/step\n",
      "4/4 [==============================] - 0s 75ms/step\n",
      "4/4 [==============================] - 0s 76ms/step\n",
      "4/4 [==============================] - 0s 77ms/step\n",
      "4/4 [==============================] - 0s 77ms/step\n",
      "4/4 [==============================] - 0s 76ms/step\n",
      "4/4 [==============================] - 0s 79ms/step\n",
      "4/4 [==============================] - 0s 75ms/step\n",
      "4/4 [==============================] - 0s 76ms/step\n",
      "4/4 [==============================] - 0s 76ms/step\n",
      "4/4 [==============================] - 0s 75ms/step\n",
      "1/1 [==============================] - 0s 64ms/step\n"
     ]
    },
    {
     "data": {
      "application/vnd.jupyter.widget-view+json": {
       "model_id": "",
       "version_major": 2,
       "version_minor": 0
      },
      "text/plain": [
       "  0%|          | 0/40 [00:00<?, ?it/s]"
      ]
     },
     "metadata": {},
     "output_type": "display_data"
    },
    {
     "name": "stdout",
     "output_type": "stream",
     "text": [
      "4/4 [==============================] - 0s 74ms/step\n",
      "4/4 [==============================] - 0s 81ms/step\n",
      "4/4 [==============================] - 0s 82ms/step\n",
      "4/4 [==============================] - 0s 83ms/step\n",
      "4/4 [==============================] - 0s 82ms/step\n",
      "4/4 [==============================] - 0s 80ms/step\n",
      "4/4 [==============================] - 0s 82ms/step\n",
      "4/4 [==============================] - 0s 84ms/step\n",
      "4/4 [==============================] - 0s 81ms/step\n",
      "4/4 [==============================] - 0s 80ms/step\n",
      "4/4 [==============================] - 0s 78ms/step\n",
      "4/4 [==============================] - 0s 77ms/step\n",
      "4/4 [==============================] - 0s 75ms/step\n",
      "4/4 [==============================] - 0s 79ms/step\n",
      "4/4 [==============================] - 0s 78ms/step\n",
      "4/4 [==============================] - 0s 76ms/step\n",
      "4/4 [==============================] - 0s 77ms/step\n",
      "4/4 [==============================] - 0s 77ms/step\n",
      "4/4 [==============================] - 0s 77ms/step\n",
      "4/4 [==============================] - 0s 76ms/step\n",
      "4/4 [==============================] - 0s 77ms/step\n",
      "4/4 [==============================] - 0s 74ms/step\n",
      "4/4 [==============================] - 0s 76ms/step\n",
      "4/4 [==============================] - 0s 81ms/step\n",
      "4/4 [==============================] - 0s 84ms/step\n",
      "4/4 [==============================] - 0s 79ms/step\n",
      "4/4 [==============================] - 0s 80ms/step\n",
      "4/4 [==============================] - 0s 83ms/step\n",
      "4/4 [==============================] - 0s 84ms/step\n",
      "4/4 [==============================] - 0s 79ms/step\n",
      "4/4 [==============================] - 0s 81ms/step\n",
      "4/4 [==============================] - 0s 82ms/step\n",
      "4/4 [==============================] - 0s 76ms/step\n",
      "4/4 [==============================] - 0s 96ms/step\n",
      "4/4 [==============================] - 0s 77ms/step\n",
      "4/4 [==============================] - 0s 80ms/step\n",
      "4/4 [==============================] - 0s 81ms/step\n",
      "4/4 [==============================] - 0s 85ms/step\n",
      "4/4 [==============================] - 0s 76ms/step\n",
      "4/4 [==============================] - 0s 79ms/step\n",
      "1/1 [==============================] - 0s 67ms/step\n"
     ]
    },
    {
     "data": {
      "application/vnd.jupyter.widget-view+json": {
       "model_id": "",
       "version_major": 2,
       "version_minor": 0
      },
      "text/plain": [
       "  0%|          | 0/40 [00:00<?, ?it/s]"
      ]
     },
     "metadata": {},
     "output_type": "display_data"
    },
    {
     "name": "stdout",
     "output_type": "stream",
     "text": [
      "4/4 [==============================] - 0s 70ms/step\n",
      "4/4 [==============================] - 0s 89ms/step\n",
      "4/4 [==============================] - 0s 78ms/step\n",
      "4/4 [==============================] - 0s 85ms/step\n",
      "4/4 [==============================] - 0s 81ms/step\n",
      "4/4 [==============================] - 0s 81ms/step\n",
      "4/4 [==============================] - 0s 83ms/step\n",
      "4/4 [==============================] - 0s 85ms/step\n",
      "4/4 [==============================] - 0s 81ms/step\n",
      "4/4 [==============================] - 0s 81ms/step\n",
      "4/4 [==============================] - 0s 85ms/step\n",
      "4/4 [==============================] - 0s 98ms/step\n",
      "4/4 [==============================] - 0s 106ms/step\n",
      "4/4 [==============================] - 0s 75ms/step\n",
      "4/4 [==============================] - 0s 78ms/step\n",
      "4/4 [==============================] - 0s 93ms/step\n",
      "4/4 [==============================] - 0s 82ms/step\n",
      "4/4 [==============================] - 0s 83ms/step\n",
      "4/4 [==============================] - 0s 75ms/step\n",
      "4/4 [==============================] - 0s 79ms/step\n",
      "4/4 [==============================] - 0s 76ms/step\n",
      "4/4 [==============================] - 0s 77ms/step\n",
      "4/4 [==============================] - 0s 76ms/step\n",
      "4/4 [==============================] - 0s 84ms/step\n",
      "4/4 [==============================] - 0s 82ms/step\n",
      "4/4 [==============================] - 0s 81ms/step\n",
      "4/4 [==============================] - 0s 81ms/step\n",
      "4/4 [==============================] - 0s 83ms/step\n",
      "4/4 [==============================] - 0s 88ms/step\n",
      "4/4 [==============================] - 0s 82ms/step\n",
      "4/4 [==============================] - 0s 81ms/step\n",
      "4/4 [==============================] - 0s 82ms/step\n",
      "4/4 [==============================] - 0s 77ms/step\n",
      "4/4 [==============================] - 0s 75ms/step\n",
      "4/4 [==============================] - 0s 79ms/step\n",
      "4/4 [==============================] - 0s 82ms/step\n",
      "4/4 [==============================] - 0s 75ms/step\n",
      "4/4 [==============================] - 0s 76ms/step\n",
      "4/4 [==============================] - 0s 76ms/step\n",
      "4/4 [==============================] - 0s 76ms/step\n",
      "1/1 [==============================] - 0s 66ms/step\n"
     ]
    },
    {
     "data": {
      "application/vnd.jupyter.widget-view+json": {
       "model_id": "",
       "version_major": 2,
       "version_minor": 0
      },
      "text/plain": [
       "  0%|          | 0/40 [00:00<?, ?it/s]"
      ]
     },
     "metadata": {},
     "output_type": "display_data"
    },
    {
     "name": "stdout",
     "output_type": "stream",
     "text": [
      "4/4 [==============================] - 0s 88ms/step\n",
      "4/4 [==============================] - 0s 80ms/step\n",
      "4/4 [==============================] - 0s 79ms/step\n",
      "4/4 [==============================] - 0s 76ms/step\n",
      "4/4 [==============================] - 0s 82ms/step\n",
      "4/4 [==============================] - 0s 79ms/step\n",
      "4/4 [==============================] - 0s 80ms/step\n",
      "4/4 [==============================] - 0s 82ms/step\n",
      "4/4 [==============================] - 0s 81ms/step\n",
      "4/4 [==============================] - 0s 79ms/step\n",
      "4/4 [==============================] - 0s 81ms/step\n",
      "4/4 [==============================] - 0s 84ms/step\n",
      "4/4 [==============================] - 0s 75ms/step\n",
      "4/4 [==============================] - 0s 75ms/step\n",
      "4/4 [==============================] - 0s 77ms/step\n",
      "4/4 [==============================] - 0s 77ms/step\n",
      "4/4 [==============================] - 0s 74ms/step\n",
      "4/4 [==============================] - 0s 79ms/step\n",
      "4/4 [==============================] - 0s 76ms/step\n",
      "4/4 [==============================] - 0s 76ms/step\n",
      "4/4 [==============================] - 0s 75ms/step\n",
      "4/4 [==============================] - 0s 76ms/step\n",
      "4/4 [==============================] - 0s 75ms/step\n",
      "4/4 [==============================] - 0s 74ms/step\n",
      "4/4 [==============================] - 0s 76ms/step\n",
      "4/4 [==============================] - 0s 82ms/step\n",
      "4/4 [==============================] - 0s 79ms/step\n",
      "4/4 [==============================] - 0s 82ms/step\n",
      "4/4 [==============================] - 0s 83ms/step\n",
      "4/4 [==============================] - 0s 79ms/step\n",
      "4/4 [==============================] - 0s 80ms/step\n",
      "4/4 [==============================] - 0s 82ms/step\n",
      "4/4 [==============================] - 0s 81ms/step\n",
      "4/4 [==============================] - 0s 79ms/step\n",
      "4/4 [==============================] - 0s 74ms/step\n",
      "4/4 [==============================] - 0s 75ms/step\n",
      "4/4 [==============================] - 0s 74ms/step\n",
      "4/4 [==============================] - 0s 76ms/step\n",
      "4/4 [==============================] - 0s 82ms/step\n",
      "4/4 [==============================] - 0s 75ms/step\n",
      "1/1 [==============================] - 0s 65ms/step\n"
     ]
    },
    {
     "data": {
      "application/vnd.jupyter.widget-view+json": {
       "model_id": "",
       "version_major": 2,
       "version_minor": 0
      },
      "text/plain": [
       "  0%|          | 0/40 [00:00<?, ?it/s]"
      ]
     },
     "metadata": {},
     "output_type": "display_data"
    },
    {
     "name": "stdout",
     "output_type": "stream",
     "text": [
      "4/4 [==============================] - 0s 80ms/step\n",
      "4/4 [==============================] - 0s 77ms/step\n",
      "4/4 [==============================] - 0s 73ms/step\n",
      "4/4 [==============================] - 0s 76ms/step\n",
      "4/4 [==============================] - 0s 75ms/step\n",
      "4/4 [==============================] - 0s 73ms/step\n",
      "4/4 [==============================] - 0s 77ms/step\n",
      "4/4 [==============================] - 0s 85ms/step\n",
      "4/4 [==============================] - 0s 82ms/step\n",
      "4/4 [==============================] - 0s 83ms/step\n",
      "4/4 [==============================] - 1s 140ms/step\n",
      "4/4 [==============================] - 0s 84ms/step\n",
      "4/4 [==============================] - 0s 86ms/step\n",
      "4/4 [==============================] - 0s 82ms/step\n",
      "4/4 [==============================] - 0s 98ms/step\n",
      "4/4 [==============================] - 0s 74ms/step\n",
      "4/4 [==============================] - 0s 84ms/step\n",
      "4/4 [==============================] - 0s 81ms/step\n",
      "4/4 [==============================] - 1s 154ms/step\n",
      "4/4 [==============================] - 1s 160ms/step\n",
      "4/4 [==============================] - 0s 109ms/step\n",
      "4/4 [==============================] - 1s 120ms/step\n",
      "4/4 [==============================] - 1s 137ms/step\n",
      "4/4 [==============================] - 1s 248ms/step\n",
      "4/4 [==============================] - 1s 136ms/step\n",
      "4/4 [==============================] - 1s 131ms/step\n",
      "4/4 [==============================] - 0s 93ms/step\n",
      "4/4 [==============================] - 1s 122ms/step\n",
      "4/4 [==============================] - 0s 86ms/step\n",
      "4/4 [==============================] - 0s 85ms/step\n",
      "4/4 [==============================] - 0s 84ms/step\n",
      "4/4 [==============================] - 0s 87ms/step\n",
      "4/4 [==============================] - 0s 83ms/step\n",
      "4/4 [==============================] - 0s 84ms/step\n",
      "4/4 [==============================] - 0s 82ms/step\n",
      "4/4 [==============================] - 0s 81ms/step\n",
      "4/4 [==============================] - 0s 78ms/step\n",
      "4/4 [==============================] - 0s 111ms/step\n",
      "4/4 [==============================] - 0s 106ms/step\n",
      "4/4 [==============================] - 0s 100ms/step\n",
      "1/1 [==============================] - 0s 78ms/step\n"
     ]
    },
    {
     "data": {
      "application/vnd.jupyter.widget-view+json": {
       "model_id": "",
       "version_major": 2,
       "version_minor": 0
      },
      "text/plain": [
       "  0%|          | 0/40 [00:00<?, ?it/s]"
      ]
     },
     "metadata": {},
     "output_type": "display_data"
    },
    {
     "name": "stdout",
     "output_type": "stream",
     "text": [
      "4/4 [==============================] - 0s 91ms/step\n",
      "4/4 [==============================] - 0s 97ms/step\n",
      "4/4 [==============================] - 1s 132ms/step\n",
      "4/4 [==============================] - 0s 125ms/step\n",
      "4/4 [==============================] - 0s 92ms/step\n",
      "4/4 [==============================] - 0s 89ms/step\n",
      "4/4 [==============================] - 0s 91ms/step\n",
      "4/4 [==============================] - 0s 80ms/step\n",
      "4/4 [==============================] - 0s 81ms/step\n",
      "4/4 [==============================] - 0s 94ms/step\n",
      "4/4 [==============================] - 0s 81ms/step\n",
      "4/4 [==============================] - 0s 79ms/step\n",
      "4/4 [==============================] - 0s 79ms/step\n",
      "4/4 [==============================] - 0s 81ms/step\n",
      "4/4 [==============================] - 0s 81ms/step\n",
      "4/4 [==============================] - 0s 88ms/step\n",
      "4/4 [==============================] - 0s 80ms/step\n",
      "4/4 [==============================] - 0s 82ms/step\n",
      "4/4 [==============================] - 0s 85ms/step\n",
      "4/4 [==============================] - 0s 89ms/step\n",
      "4/4 [==============================] - 0s 126ms/step\n",
      "4/4 [==============================] - 0s 105ms/step\n",
      "4/4 [==============================] - 0s 102ms/step\n",
      "4/4 [==============================] - 0s 112ms/step\n",
      "4/4 [==============================] - 0s 109ms/step\n",
      "4/4 [==============================] - 0s 119ms/step\n",
      "4/4 [==============================] - 1s 175ms/step\n",
      "4/4 [==============================] - 0s 82ms/step\n",
      "4/4 [==============================] - 0s 91ms/step\n",
      "4/4 [==============================] - 0s 78ms/step\n",
      "4/4 [==============================] - 0s 94ms/step\n",
      "4/4 [==============================] - 0s 79ms/step\n",
      "4/4 [==============================] - 0s 90ms/step\n",
      "4/4 [==============================] - 0s 84ms/step\n",
      "4/4 [==============================] - 0s 88ms/step\n",
      "4/4 [==============================] - 0s 83ms/step\n",
      "4/4 [==============================] - 0s 80ms/step\n",
      "4/4 [==============================] - 0s 85ms/step\n",
      "4/4 [==============================] - 0s 88ms/step\n",
      "4/4 [==============================] - 0s 83ms/step\n",
      "1/1 [==============================] - 0s 67ms/step\n"
     ]
    },
    {
     "data": {
      "application/vnd.jupyter.widget-view+json": {
       "model_id": "",
       "version_major": 2,
       "version_minor": 0
      },
      "text/plain": [
       "  0%|          | 0/40 [00:00<?, ?it/s]"
      ]
     },
     "metadata": {},
     "output_type": "display_data"
    },
    {
     "name": "stdout",
     "output_type": "stream",
     "text": [
      "4/4 [==============================] - 0s 81ms/step\n",
      "4/4 [==============================] - 0s 87ms/step\n",
      "4/4 [==============================] - 0s 87ms/step\n",
      "4/4 [==============================] - 0s 76ms/step\n",
      "4/4 [==============================] - 0s 76ms/step\n",
      "4/4 [==============================] - 0s 80ms/step\n",
      "4/4 [==============================] - 0s 79ms/step\n",
      "4/4 [==============================] - 1s 129ms/step\n",
      "4/4 [==============================] - 0s 77ms/step\n",
      "4/4 [==============================] - 0s 77ms/step\n",
      "4/4 [==============================] - 0s 79ms/step\n",
      "4/4 [==============================] - 0s 76ms/step\n",
      "4/4 [==============================] - 0s 78ms/step\n",
      "4/4 [==============================] - 0s 79ms/step\n",
      "4/4 [==============================] - 0s 78ms/step\n",
      "4/4 [==============================] - 0s 76ms/step\n",
      "4/4 [==============================] - 0s 83ms/step\n",
      "4/4 [==============================] - 0s 84ms/step\n",
      "4/4 [==============================] - 0s 112ms/step\n",
      "4/4 [==============================] - 0s 114ms/step\n",
      "4/4 [==============================] - 0s 94ms/step\n",
      "4/4 [==============================] - 0s 94ms/step\n",
      "4/4 [==============================] - 0s 96ms/step\n",
      "4/4 [==============================] - 0s 98ms/step\n",
      "4/4 [==============================] - 0s 102ms/step\n",
      "4/4 [==============================] - 0s 84ms/step\n",
      "4/4 [==============================] - 0s 85ms/step\n",
      "4/4 [==============================] - 0s 85ms/step\n",
      "4/4 [==============================] - 0s 83ms/step\n",
      "4/4 [==============================] - 0s 75ms/step\n",
      "4/4 [==============================] - 0s 78ms/step\n",
      "4/4 [==============================] - 0s 90ms/step\n",
      "4/4 [==============================] - 0s 94ms/step\n",
      "4/4 [==============================] - 0s 85ms/step\n",
      "4/4 [==============================] - 0s 83ms/step\n",
      "4/4 [==============================] - 0s 87ms/step\n",
      "4/4 [==============================] - 0s 122ms/step\n",
      "4/4 [==============================] - 0s 93ms/step\n",
      "4/4 [==============================] - 0s 83ms/step\n",
      "4/4 [==============================] - 0s 82ms/step\n",
      "1/1 [==============================] - 0s 67ms/step\n"
     ]
    },
    {
     "data": {
      "application/vnd.jupyter.widget-view+json": {
       "model_id": "",
       "version_major": 2,
       "version_minor": 0
      },
      "text/plain": [
       "  0%|          | 0/40 [00:00<?, ?it/s]"
      ]
     },
     "metadata": {},
     "output_type": "display_data"
    },
    {
     "name": "stdout",
     "output_type": "stream",
     "text": [
      "4/4 [==============================] - 0s 84ms/step\n",
      "4/4 [==============================] - 0s 92ms/step\n",
      "4/4 [==============================] - 0s 82ms/step\n",
      "4/4 [==============================] - 0s 76ms/step\n",
      "4/4 [==============================] - 0s 78ms/step\n",
      "4/4 [==============================] - 0s 79ms/step\n",
      "4/4 [==============================] - 0s 85ms/step\n",
      "4/4 [==============================] - 0s 86ms/step\n",
      "4/4 [==============================] - 0s 80ms/step\n",
      "4/4 [==============================] - 0s 82ms/step\n",
      "4/4 [==============================] - 0s 76ms/step\n",
      "4/4 [==============================] - 0s 79ms/step\n",
      "4/4 [==============================] - 0s 88ms/step\n",
      "4/4 [==============================] - 0s 84ms/step\n",
      "4/4 [==============================] - 0s 85ms/step\n",
      "4/4 [==============================] - 0s 87ms/step\n",
      "4/4 [==============================] - 0s 86ms/step\n",
      "4/4 [==============================] - 0s 85ms/step\n",
      "4/4 [==============================] - 0s 81ms/step\n",
      "4/4 [==============================] - 0s 90ms/step\n",
      "4/4 [==============================] - 0s 90ms/step\n",
      "4/4 [==============================] - 0s 91ms/step\n",
      "4/4 [==============================] - 0s 101ms/step\n",
      "4/4 [==============================] - 0s 82ms/step\n",
      "4/4 [==============================] - 0s 84ms/step\n",
      "4/4 [==============================] - 0s 78ms/step\n",
      "4/4 [==============================] - 0s 79ms/step\n",
      "4/4 [==============================] - 0s 85ms/step\n",
      "4/4 [==============================] - 0s 85ms/step\n",
      "4/4 [==============================] - 0s 80ms/step\n",
      "4/4 [==============================] - 0s 76ms/step\n",
      "4/4 [==============================] - 0s 81ms/step\n",
      "4/4 [==============================] - 0s 83ms/step\n",
      "4/4 [==============================] - 0s 111ms/step\n",
      "4/4 [==============================] - 0s 80ms/step\n",
      "4/4 [==============================] - 0s 86ms/step\n",
      "4/4 [==============================] - 0s 90ms/step\n",
      "4/4 [==============================] - 0s 86ms/step\n",
      "4/4 [==============================] - 0s 86ms/step\n",
      "4/4 [==============================] - 0s 97ms/step\n",
      "1/1 [==============================] - 0s 70ms/step\n"
     ]
    },
    {
     "data": {
      "application/vnd.jupyter.widget-view+json": {
       "model_id": "",
       "version_major": 2,
       "version_minor": 0
      },
      "text/plain": [
       "  0%|          | 0/40 [00:00<?, ?it/s]"
      ]
     },
     "metadata": {},
     "output_type": "display_data"
    },
    {
     "name": "stdout",
     "output_type": "stream",
     "text": [
      "4/4 [==============================] - 0s 81ms/step\n",
      "4/4 [==============================] - 0s 87ms/step\n",
      "4/4 [==============================] - 0s 77ms/step\n",
      "4/4 [==============================] - 0s 80ms/step\n",
      "4/4 [==============================] - 0s 78ms/step\n",
      "4/4 [==============================] - 0s 78ms/step\n",
      "4/4 [==============================] - 0s 79ms/step\n",
      "4/4 [==============================] - 0s 78ms/step\n",
      "4/4 [==============================] - 0s 90ms/step\n",
      "4/4 [==============================] - 0s 77ms/step\n",
      "4/4 [==============================] - 0s 79ms/step\n",
      "4/4 [==============================] - 0s 79ms/step\n",
      "4/4 [==============================] - 0s 79ms/step\n",
      "4/4 [==============================] - 0s 77ms/step\n",
      "4/4 [==============================] - 0s 80ms/step\n",
      "4/4 [==============================] - 0s 76ms/step\n",
      "4/4 [==============================] - 0s 81ms/step\n",
      "4/4 [==============================] - 0s 85ms/step\n",
      "4/4 [==============================] - 0s 85ms/step\n",
      "4/4 [==============================] - 0s 84ms/step\n",
      "4/4 [==============================] - 0s 84ms/step\n",
      "4/4 [==============================] - 0s 85ms/step\n",
      "4/4 [==============================] - 0s 84ms/step\n",
      "4/4 [==============================] - 0s 82ms/step\n",
      "4/4 [==============================] - 0s 79ms/step\n",
      "4/4 [==============================] - 0s 81ms/step\n",
      "4/4 [==============================] - 0s 77ms/step\n",
      "4/4 [==============================] - 0s 76ms/step\n",
      "4/4 [==============================] - 0s 78ms/step\n",
      "4/4 [==============================] - 0s 80ms/step\n",
      "4/4 [==============================] - 0s 76ms/step\n",
      "4/4 [==============================] - 0s 78ms/step\n",
      "4/4 [==============================] - 0s 78ms/step\n",
      "4/4 [==============================] - 0s 79ms/step\n",
      "4/4 [==============================] - 0s 79ms/step\n",
      "4/4 [==============================] - 0s 84ms/step\n",
      "4/4 [==============================] - 0s 79ms/step\n",
      "4/4 [==============================] - 0s 83ms/step\n",
      "4/4 [==============================] - 0s 85ms/step\n",
      "4/4 [==============================] - 0s 84ms/step\n",
      "1/1 [==============================] - 0s 69ms/step\n"
     ]
    },
    {
     "data": {
      "image/png": "[encoded data removed]",
      "text/plain": [
       "<Figure size 800x400 with 32 Axes>"
      ]
     },
     "metadata": {},
     "output_type": "display_data"
    },
    {
     "name": "stdout",
     "output_type": "stream",
     "text": [
      "Якщо генератор і дескрімінатор сбалансовані, точність генератора прямує в 0 або 1:\n",
      "0.5065266927083333\n"
     ]
    },
    {
     "data": {
      "application/vnd.jupyter.widget-view+json": {
       "model_id": "",
       "version_major": 2,
       "version_minor": 0
      },
      "text/plain": [
       "  0%|          | 0/40 [00:00<?, ?it/s]"
      ]
     },
     "metadata": {},
     "output_type": "display_data"
    },
    {
     "name": "stdout",
     "output_type": "stream",
     "text": [
      "4/4 [==============================] - 0s 79ms/step\n",
      "4/4 [==============================] - 0s 86ms/step\n",
      "4/4 [==============================] - 0s 84ms/step\n",
      "4/4 [==============================] - 0s 78ms/step\n",
      "4/4 [==============================] - 0s 78ms/step\n",
      "4/4 [==============================] - 0s 79ms/step\n",
      "4/4 [==============================] - 0s 78ms/step\n",
      "4/4 [==============================] - 0s 79ms/step\n",
      "4/4 [==============================] - 0s 80ms/step\n",
      "4/4 [==============================] - 0s 79ms/step\n",
      "4/4 [==============================] - 0s 78ms/step\n",
      "4/4 [==============================] - 0s 79ms/step\n",
      "4/4 [==============================] - 0s 80ms/step\n",
      "4/4 [==============================] - 0s 79ms/step\n",
      "4/4 [==============================] - 0s 79ms/step\n",
      "4/4 [==============================] - 0s 83ms/step\n",
      "4/4 [==============================] - 0s 80ms/step\n",
      "4/4 [==============================] - 0s 81ms/step\n",
      "4/4 [==============================] - 0s 86ms/step\n",
      "4/4 [==============================] - 0s 85ms/step\n",
      "4/4 [==============================] - 0s 85ms/step\n",
      "4/4 [==============================] - 0s 81ms/step\n",
      "4/4 [==============================] - 0s 85ms/step\n",
      "4/4 [==============================] - 0s 84ms/step\n",
      "4/4 [==============================] - 0s 83ms/step\n",
      "4/4 [==============================] - 0s 77ms/step\n",
      "4/4 [==============================] - 0s 80ms/step\n",
      "4/4 [==============================] - 0s 78ms/step\n",
      "4/4 [==============================] - 0s 79ms/step\n",
      "4/4 [==============================] - 0s 79ms/step\n",
      "4/4 [==============================] - 0s 79ms/step\n",
      "4/4 [==============================] - 0s 81ms/step\n",
      "4/4 [==============================] - 0s 80ms/step\n",
      "4/4 [==============================] - 0s 79ms/step\n",
      "4/4 [==============================] - 0s 77ms/step\n",
      "4/4 [==============================] - 0s 78ms/step\n",
      "4/4 [==============================] - 0s 82ms/step\n",
      "4/4 [==============================] - 0s 79ms/step\n",
      "4/4 [==============================] - 0s 83ms/step\n",
      "4/4 [==============================] - 0s 84ms/step\n",
      "1/1 [==============================] - 0s 68ms/step\n"
     ]
    },
    {
     "data": {
      "application/vnd.jupyter.widget-view+json": {
       "model_id": "",
       "version_major": 2,
       "version_minor": 0
      },
      "text/plain": [
       "  0%|          | 0/40 [00:00<?, ?it/s]"
      ]
     },
     "metadata": {},
     "output_type": "display_data"
    },
    {
     "name": "stdout",
     "output_type": "stream",
     "text": [
      "4/4 [==============================] - 0s 78ms/step\n",
      "4/4 [==============================] - 0s 87ms/step\n",
      "4/4 [==============================] - 0s 85ms/step\n",
      "4/4 [==============================] - 0s 86ms/step\n",
      "4/4 [==============================] - 0s 84ms/step\n",
      "4/4 [==============================] - 0s 79ms/step\n",
      "4/4 [==============================] - 0s 79ms/step\n",
      "4/4 [==============================] - 0s 77ms/step\n",
      "4/4 [==============================] - 0s 77ms/step\n",
      "4/4 [==============================] - 0s 80ms/step\n",
      "4/4 [==============================] - 0s 78ms/step\n",
      "4/4 [==============================] - 0s 77ms/step\n",
      "4/4 [==============================] - 0s 83ms/step\n",
      "4/4 [==============================] - 0s 82ms/step\n",
      "4/4 [==============================] - 0s 78ms/step\n",
      "4/4 [==============================] - 0s 78ms/step\n",
      "4/4 [==============================] - 0s 79ms/step\n",
      "4/4 [==============================] - 0s 79ms/step\n",
      "4/4 [==============================] - 0s 76ms/step\n",
      "4/4 [==============================] - 0s 91ms/step\n",
      "4/4 [==============================] - 0s 86ms/step\n",
      "4/4 [==============================] - 0s 90ms/step\n",
      "4/4 [==============================] - 0s 89ms/step\n",
      "4/4 [==============================] - 0s 86ms/step\n",
      "4/4 [==============================] - 0s 92ms/step\n",
      "4/4 [==============================] - 0s 87ms/step\n",
      "4/4 [==============================] - 0s 86ms/step\n",
      "4/4 [==============================] - 0s 79ms/step\n",
      "4/4 [==============================] - 0s 94ms/step\n",
      "4/4 [==============================] - 0s 79ms/step\n",
      "4/4 [==============================] - 0s 79ms/step\n",
      "4/4 [==============================] - 0s 81ms/step\n",
      "4/4 [==============================] - 0s 81ms/step\n",
      "4/4 [==============================] - 0s 77ms/step\n",
      "4/4 [==============================] - 0s 80ms/step\n",
      "4/4 [==============================] - 0s 79ms/step\n",
      "4/4 [==============================] - 0s 78ms/step\n",
      "4/4 [==============================] - 0s 77ms/step\n",
      "4/4 [==============================] - 0s 79ms/step\n",
      "4/4 [==============================] - 0s 77ms/step\n",
      "1/1 [==============================] - 0s 68ms/step\n"
     ]
    },
    {
     "data": {
      "application/vnd.jupyter.widget-view+json": {
       "model_id": "",
       "version_major": 2,
       "version_minor": 0
      },
      "text/plain": [
       "  0%|          | 0/40 [00:00<?, ?it/s]"
      ]
     },
     "metadata": {},
     "output_type": "display_data"
    },
    {
     "name": "stdout",
     "output_type": "stream",
     "text": [
      "4/4 [==============================] - 0s 79ms/step\n",
      "4/4 [==============================] - 0s 92ms/step\n",
      "4/4 [==============================] - 0s 83ms/step\n",
      "4/4 [==============================] - 0s 84ms/step\n",
      "4/4 [==============================] - 0s 85ms/step\n",
      "4/4 [==============================] - 0s 88ms/step\n",
      "4/4 [==============================] - 0s 81ms/step\n",
      "4/4 [==============================] - 0s 80ms/step\n",
      "4/4 [==============================] - 0s 79ms/step\n",
      "4/4 [==============================] - 0s 79ms/step\n",
      "4/4 [==============================] - 0s 80ms/step\n",
      "4/4 [==============================] - 0s 82ms/step\n",
      "4/4 [==============================] - 0s 82ms/step\n",
      "4/4 [==============================] - 0s 79ms/step\n",
      "4/4 [==============================] - 0s 80ms/step\n",
      "4/4 [==============================] - 0s 79ms/step\n",
      "4/4 [==============================] - 0s 81ms/step\n",
      "4/4 [==============================] - 0s 80ms/step\n",
      "4/4 [==============================] - 0s 78ms/step\n",
      "4/4 [==============================] - 0s 80ms/step\n",
      "4/4 [==============================] - 0s 78ms/step\n",
      "4/4 [==============================] - 0s 83ms/step\n",
      "4/4 [==============================] - 0s 90ms/step\n",
      "4/4 [==============================] - 0s 85ms/step\n",
      "4/4 [==============================] - 0s 86ms/step\n",
      "4/4 [==============================] - 0s 83ms/step\n",
      "4/4 [==============================] - 0s 83ms/step\n",
      "4/4 [==============================] - 0s 83ms/step\n",
      "4/4 [==============================] - 0s 84ms/step\n",
      "4/4 [==============================] - 0s 80ms/step\n",
      "4/4 [==============================] - 0s 79ms/step\n",
      "4/4 [==============================] - 0s 80ms/step\n",
      "4/4 [==============================] - 0s 81ms/step\n",
      "4/4 [==============================] - 0s 78ms/step\n",
      "4/4 [==============================] - 0s 80ms/step\n",
      "4/4 [==============================] - 0s 79ms/step\n",
      "4/4 [==============================] - 0s 80ms/step\n",
      "4/4 [==============================] - 0s 81ms/step\n",
      "4/4 [==============================] - 0s 81ms/step\n",
      "4/4 [==============================] - 0s 79ms/step\n",
      "1/1 [==============================] - 0s 72ms/step\n"
     ]
    },
    {
     "data": {
      "application/vnd.jupyter.widget-view+json": {
       "model_id": "",
       "version_major": 2,
       "version_minor": 0
      },
      "text/plain": [
       "  0%|          | 0/40 [00:00<?, ?it/s]"
      ]
     },
     "metadata": {},
     "output_type": "display_data"
    },
    {
     "name": "stdout",
     "output_type": "stream",
     "text": [
      "4/4 [==============================] - 0s 72ms/step\n",
      "4/4 [==============================] - 0s 92ms/step\n",
      "4/4 [==============================] - 0s 84ms/step\n",
      "4/4 [==============================] - 0s 86ms/step\n",
      "4/4 [==============================] - 0s 88ms/step\n",
      "4/4 [==============================] - 0s 87ms/step\n",
      "4/4 [==============================] - 0s 86ms/step\n",
      "4/4 [==============================] - 0s 85ms/step\n",
      "4/4 [==============================] - 0s 87ms/step\n",
      "4/4 [==============================] - 0s 82ms/step\n",
      "4/4 [==============================] - 0s 80ms/step\n",
      "4/4 [==============================] - 0s 81ms/step\n",
      "4/4 [==============================] - 0s 82ms/step\n",
      "4/4 [==============================] - 0s 81ms/step\n",
      "4/4 [==============================] - 0s 83ms/step\n",
      "4/4 [==============================] - 0s 81ms/step\n",
      "4/4 [==============================] - 0s 83ms/step\n",
      "4/4 [==============================] - 0s 79ms/step\n",
      "4/4 [==============================] - 0s 83ms/step\n",
      "4/4 [==============================] - 0s 80ms/step\n",
      "4/4 [==============================] - 0s 82ms/step\n",
      "4/4 [==============================] - 0s 84ms/step\n",
      "4/4 [==============================] - 0s 88ms/step\n",
      "4/4 [==============================] - 0s 88ms/step\n",
      "4/4 [==============================] - 0s 89ms/step\n",
      "4/4 [==============================] - 0s 84ms/step\n",
      "4/4 [==============================] - 0s 87ms/step\n",
      "4/4 [==============================] - 0s 88ms/step\n",
      "4/4 [==============================] - 0s 89ms/step\n",
      "4/4 [==============================] - 0s 81ms/step\n",
      "4/4 [==============================] - 0s 80ms/step\n",
      "4/4 [==============================] - 0s 81ms/step\n",
      "4/4 [==============================] - 0s 84ms/step\n",
      "4/4 [==============================] - 0s 82ms/step\n",
      "4/4 [==============================] - 0s 83ms/step\n",
      "4/4 [==============================] - 0s 80ms/step\n",
      "4/4 [==============================] - 0s 82ms/step\n",
      "4/4 [==============================] - 0s 80ms/step\n",
      "4/4 [==============================] - 0s 84ms/step\n",
      "4/4 [==============================] - 0s 82ms/step\n",
      "1/1 [==============================] - 0s 70ms/step\n"
     ]
    },
    {
     "data": {
      "application/vnd.jupyter.widget-view+json": {
       "model_id": "",
       "version_major": 2,
       "version_minor": 0
      },
      "text/plain": [
       "  0%|          | 0/40 [00:00<?, ?it/s]"
      ]
     },
     "metadata": {},
     "output_type": "display_data"
    },
    {
     "name": "stdout",
     "output_type": "stream",
     "text": [
      "4/4 [==============================] - 0s 75ms/step\n",
      "4/4 [==============================] - 0s 87ms/step\n",
      "4/4 [==============================] - 0s 102ms/step\n",
      "4/4 [==============================] - 0s 84ms/step\n",
      "4/4 [==============================] - 0s 92ms/step\n",
      "4/4 [==============================] - 0s 90ms/step\n",
      "4/4 [==============================] - 0s 89ms/step\n",
      "4/4 [==============================] - 0s 94ms/step\n",
      "4/4 [==============================] - 0s 88ms/step\n",
      "4/4 [==============================] - 0s 114ms/step\n",
      "4/4 [==============================] - 0s 88ms/step\n",
      "4/4 [==============================] - 0s 84ms/step\n",
      "4/4 [==============================] - 0s 82ms/step\n",
      "4/4 [==============================] - 0s 80ms/step\n",
      "4/4 [==============================] - 0s 84ms/step\n",
      "4/4 [==============================] - 0s 82ms/step\n",
      "4/4 [==============================] - 0s 85ms/step\n",
      "4/4 [==============================] - 0s 80ms/step\n",
      "4/4 [==============================] - 0s 85ms/step\n",
      "4/4 [==============================] - 0s 84ms/step\n",
      "4/4 [==============================] - 0s 89ms/step\n",
      "4/4 [==============================] - 0s 81ms/step\n",
      "4/4 [==============================] - 0s 89ms/step\n",
      "4/4 [==============================] - 0s 101ms/step\n",
      "4/4 [==============================] - 0s 88ms/step\n",
      "4/4 [==============================] - 0s 85ms/step\n",
      "4/4 [==============================] - 0s 83ms/step\n",
      "4/4 [==============================] - 0s 89ms/step\n",
      "4/4 [==============================] - 0s 84ms/step\n",
      "4/4 [==============================] - 0s 86ms/step\n",
      "4/4 [==============================] - 0s 78ms/step\n",
      "4/4 [==============================] - 0s 85ms/step\n",
      "4/4 [==============================] - 0s 80ms/step\n",
      "4/4 [==============================] - 0s 78ms/step\n",
      "4/4 [==============================] - 0s 80ms/step\n",
      "4/4 [==============================] - 0s 81ms/step\n",
      "4/4 [==============================] - 0s 82ms/step\n",
      "4/4 [==============================] - 0s 80ms/step\n",
      "4/4 [==============================] - 0s 83ms/step\n",
      "4/4 [==============================] - 0s 82ms/step\n",
      "1/1 [==============================] - 0s 69ms/step\n"
     ]
    },
    {
     "data": {
      "application/vnd.jupyter.widget-view+json": {
       "model_id": "",
       "version_major": 2,
       "version_minor": 0
      },
      "text/plain": [
       "  0%|          | 0/40 [00:00<?, ?it/s]"
      ]
     },
     "metadata": {},
     "output_type": "display_data"
    },
    {
     "name": "stdout",
     "output_type": "stream",
     "text": [
      "4/4 [==============================] - 0s 84ms/step\n",
      "4/4 [==============================] - 0s 90ms/step\n",
      "4/4 [==============================] - 0s 87ms/step\n",
      "4/4 [==============================] - 0s 84ms/step\n",
      "4/4 [==============================] - 0s 87ms/step\n",
      "4/4 [==============================] - 0s 87ms/step\n",
      "4/4 [==============================] - 0s 88ms/step\n",
      "4/4 [==============================] - 0s 83ms/step\n",
      "4/4 [==============================] - 0s 85ms/step\n",
      "4/4 [==============================] - 0s 81ms/step\n",
      "4/4 [==============================] - 0s 83ms/step\n",
      "4/4 [==============================] - 0s 78ms/step\n",
      "4/4 [==============================] - 0s 81ms/step\n",
      "4/4 [==============================] - 0s 84ms/step\n",
      "4/4 [==============================] - 0s 80ms/step\n",
      "4/4 [==============================] - 0s 83ms/step\n",
      "4/4 [==============================] - 0s 82ms/step\n",
      "4/4 [==============================] - 0s 83ms/step\n",
      "4/4 [==============================] - 0s 79ms/step\n",
      "4/4 [==============================] - 0s 82ms/step\n",
      "4/4 [==============================] - 0s 86ms/step\n",
      "4/4 [==============================] - 0s 81ms/step\n",
      "4/4 [==============================] - 0s 85ms/step\n",
      "4/4 [==============================] - 0s 86ms/step\n",
      "4/4 [==============================] - 0s 86ms/step\n",
      "4/4 [==============================] - 0s 88ms/step\n",
      "4/4 [==============================] - 0s 83ms/step\n",
      "4/4 [==============================] - 0s 85ms/step\n",
      "4/4 [==============================] - 0s 89ms/step\n",
      "4/4 [==============================] - 0s 88ms/step\n",
      "4/4 [==============================] - 0s 79ms/step\n",
      "4/4 [==============================] - 0s 80ms/step\n",
      "4/4 [==============================] - 0s 82ms/step\n",
      "4/4 [==============================] - 0s 86ms/step\n",
      "4/4 [==============================] - 0s 80ms/step\n",
      "4/4 [==============================] - 0s 82ms/step\n",
      "4/4 [==============================] - 0s 82ms/step\n",
      "4/4 [==============================] - 0s 79ms/step\n",
      "4/4 [==============================] - 0s 80ms/step\n",
      "4/4 [==============================] - 0s 81ms/step\n",
      "1/1 [==============================] - 0s 65ms/step\n"
     ]
    },
    {
     "data": {
      "application/vnd.jupyter.widget-view+json": {
       "model_id": "",
       "version_major": 2,
       "version_minor": 0
      },
      "text/plain": [
       "  0%|          | 0/40 [00:00<?, ?it/s]"
      ]
     },
     "metadata": {},
     "output_type": "display_data"
    },
    {
     "name": "stdout",
     "output_type": "stream",
     "text": [
      "4/4 [==============================] - 0s 76ms/step\n",
      "4/4 [==============================] - 0s 92ms/step\n",
      "4/4 [==============================] - 0s 80ms/step\n",
      "4/4 [==============================] - 0s 84ms/step\n",
      "4/4 [==============================] - 0s 86ms/step\n",
      "4/4 [==============================] - 0s 86ms/step\n",
      "4/4 [==============================] - 0s 86ms/step\n",
      "4/4 [==============================] - 0s 83ms/step\n",
      "4/4 [==============================] - 0s 86ms/step\n",
      "4/4 [==============================] - 0s 86ms/step\n",
      "4/4 [==============================] - 0s 93ms/step\n",
      "4/4 [==============================] - 0s 79ms/step\n",
      "4/4 [==============================] - 0s 83ms/step\n",
      "4/4 [==============================] - 0s 82ms/step\n",
      "4/4 [==============================] - 0s 81ms/step\n",
      "4/4 [==============================] - 0s 82ms/step\n",
      "4/4 [==============================] - 0s 82ms/step\n",
      "4/4 [==============================] - 0s 81ms/step\n",
      "4/4 [==============================] - 0s 81ms/step\n",
      "4/4 [==============================] - 0s 80ms/step\n",
      "4/4 [==============================] - 0s 83ms/step\n",
      "4/4 [==============================] - 0s 85ms/step\n",
      "4/4 [==============================] - 0s 82ms/step\n",
      "4/4 [==============================] - 0s 81ms/step\n",
      "4/4 [==============================] - 0s 85ms/step\n",
      "4/4 [==============================] - 0s 86ms/step\n",
      "4/4 [==============================] - 0s 85ms/step\n",
      "4/4 [==============================] - 0s 83ms/step\n",
      "4/4 [==============================] - 0s 88ms/step\n",
      "4/4 [==============================] - 0s 91ms/step\n",
      "4/4 [==============================] - 0s 86ms/step\n",
      "4/4 [==============================] - 0s 89ms/step\n",
      "4/4 [==============================] - 0s 84ms/step\n",
      "4/4 [==============================] - 0s 86ms/step\n",
      "4/4 [==============================] - 0s 81ms/step\n",
      "4/4 [==============================] - 0s 80ms/step\n",
      "4/4 [==============================] - 0s 85ms/step\n",
      "4/4 [==============================] - 0s 81ms/step\n",
      "4/4 [==============================] - 0s 81ms/step\n",
      "4/4 [==============================] - 0s 80ms/step\n",
      "1/1 [==============================] - 0s 72ms/step\n"
     ]
    },
    {
     "data": {
      "application/vnd.jupyter.widget-view+json": {
       "model_id": "",
       "version_major": 2,
       "version_minor": 0
      },
      "text/plain": [
       "  0%|          | 0/40 [00:00<?, ?it/s]"
      ]
     },
     "metadata": {},
     "output_type": "display_data"
    },
    {
     "name": "stdout",
     "output_type": "stream",
     "text": [
      "4/4 [==============================] - 0s 75ms/step\n",
      "4/4 [==============================] - 0s 86ms/step\n",
      "4/4 [==============================] - 0s 86ms/step\n",
      "4/4 [==============================] - 0s 82ms/step\n",
      "4/4 [==============================] - 0s 85ms/step\n",
      "4/4 [==============================] - 0s 88ms/step\n",
      "4/4 [==============================] - 0s 88ms/step\n",
      "4/4 [==============================] - 0s 86ms/step\n",
      "4/4 [==============================] - 0s 83ms/step\n",
      "4/4 [==============================] - 0s 86ms/step\n",
      "4/4 [==============================] - 0s 86ms/step\n",
      "4/4 [==============================] - 0s 83ms/step\n",
      "4/4 [==============================] - 0s 87ms/step\n",
      "4/4 [==============================] - 1s 115ms/step\n",
      "4/4 [==============================] - 0s 81ms/step\n",
      "4/4 [==============================] - 0s 82ms/step\n",
      "4/4 [==============================] - 0s 84ms/step\n",
      "4/4 [==============================] - 0s 80ms/step\n",
      "4/4 [==============================] - 0s 80ms/step\n",
      "4/4 [==============================] - 0s 85ms/step\n",
      "4/4 [==============================] - 0s 82ms/step\n",
      "4/4 [==============================] - 0s 81ms/step\n",
      "4/4 [==============================] - 0s 83ms/step\n",
      "4/4 [==============================] - 0s 84ms/step\n",
      "4/4 [==============================] - 0s 88ms/step\n",
      "4/4 [==============================] - 0s 86ms/step\n",
      "4/4 [==============================] - 0s 84ms/step\n",
      "4/4 [==============================] - 0s 88ms/step\n",
      "4/4 [==============================] - 0s 89ms/step\n",
      "4/4 [==============================] - 0s 87ms/step\n",
      "4/4 [==============================] - 0s 86ms/step\n",
      "4/4 [==============================] - 0s 90ms/step\n",
      "4/4 [==============================] - 0s 87ms/step\n",
      "4/4 [==============================] - 0s 88ms/step\n",
      "4/4 [==============================] - 0s 85ms/step\n",
      "4/4 [==============================] - 0s 92ms/step\n",
      "4/4 [==============================] - 0s 83ms/step\n",
      "4/4 [==============================] - 0s 84ms/step\n",
      "4/4 [==============================] - 0s 82ms/step\n",
      "4/4 [==============================] - 0s 81ms/step\n",
      "1/1 [==============================] - 0s 72ms/step\n"
     ]
    },
    {
     "data": {
      "application/vnd.jupyter.widget-view+json": {
       "model_id": "",
       "version_major": 2,
       "version_minor": 0
      },
      "text/plain": [
       "  0%|          | 0/40 [00:00<?, ?it/s]"
      ]
     },
     "metadata": {},
     "output_type": "display_data"
    },
    {
     "name": "stdout",
     "output_type": "stream",
     "text": [
      "4/4 [==============================] - 0s 73ms/step\n",
      "4/4 [==============================] - 0s 87ms/step\n",
      "4/4 [==============================] - 0s 85ms/step\n",
      "4/4 [==============================] - 0s 81ms/step\n",
      "4/4 [==============================] - 0s 84ms/step\n",
      "4/4 [==============================] - 0s 89ms/step\n",
      "4/4 [==============================] - 0s 89ms/step\n",
      "4/4 [==============================] - 0s 86ms/step\n",
      "4/4 [==============================] - 0s 88ms/step\n",
      "4/4 [==============================] - 0s 85ms/step\n",
      "4/4 [==============================] - 0s 87ms/step\n",
      "4/4 [==============================] - 0s 83ms/step\n",
      "4/4 [==============================] - 0s 81ms/step\n",
      "4/4 [==============================] - 0s 80ms/step\n",
      "4/4 [==============================] - 0s 84ms/step\n",
      "4/4 [==============================] - 0s 82ms/step\n",
      "4/4 [==============================] - 0s 80ms/step\n",
      "4/4 [==============================] - 0s 84ms/step\n",
      "4/4 [==============================] - 0s 86ms/step\n",
      "4/4 [==============================] - 0s 82ms/step\n",
      "4/4 [==============================] - 0s 81ms/step\n",
      "4/4 [==============================] - 0s 82ms/step\n",
      "4/4 [==============================] - 0s 103ms/step\n",
      "4/4 [==============================] - 0s 80ms/step\n",
      "4/4 [==============================] - 0s 85ms/step\n",
      "4/4 [==============================] - 0s 86ms/step\n",
      "4/4 [==============================] - 0s 92ms/step\n",
      "4/4 [==============================] - 0s 88ms/step\n",
      "4/4 [==============================] - 0s 88ms/step\n",
      "4/4 [==============================] - 0s 85ms/step\n",
      "4/4 [==============================] - 0s 87ms/step\n",
      "4/4 [==============================] - 0s 94ms/step\n",
      "4/4 [==============================] - 0s 84ms/step\n",
      "4/4 [==============================] - 0s 80ms/step\n",
      "4/4 [==============================] - 0s 84ms/step\n",
      "4/4 [==============================] - 0s 82ms/step\n",
      "4/4 [==============================] - 0s 79ms/step\n",
      "4/4 [==============================] - 0s 81ms/step\n",
      "4/4 [==============================] - 0s 85ms/step\n",
      "4/4 [==============================] - 0s 81ms/step\n",
      "1/1 [==============================] - 0s 70ms/step\n"
     ]
    },
    {
     "data": {
      "application/vnd.jupyter.widget-view+json": {
       "model_id": "",
       "version_major": 2,
       "version_minor": 0
      },
      "text/plain": [
       "  0%|          | 0/40 [00:00<?, ?it/s]"
      ]
     },
     "metadata": {},
     "output_type": "display_data"
    },
    {
     "name": "stdout",
     "output_type": "stream",
     "text": [
      "4/4 [==============================] - 0s 74ms/step\n",
      "4/4 [==============================] - 0s 86ms/step\n",
      "4/4 [==============================] - 0s 82ms/step\n",
      "4/4 [==============================] - 0s 81ms/step\n",
      "4/4 [==============================] - 0s 84ms/step\n",
      "4/4 [==============================] - 0s 97ms/step\n",
      "4/4 [==============================] - 0s 91ms/step\n",
      "4/4 [==============================] - 0s 87ms/step\n",
      "4/4 [==============================] - 0s 96ms/step\n",
      "4/4 [==============================] - 0s 89ms/step\n",
      "4/4 [==============================] - 0s 86ms/step\n",
      "4/4 [==============================] - 0s 86ms/step\n",
      "4/4 [==============================] - 0s 89ms/step\n",
      "4/4 [==============================] - 0s 92ms/step\n",
      "4/4 [==============================] - 0s 85ms/step\n",
      "4/4 [==============================] - 0s 85ms/step\n",
      "4/4 [==============================] - 0s 84ms/step\n",
      "4/4 [==============================] - 0s 84ms/step\n",
      "4/4 [==============================] - 0s 83ms/step\n",
      "4/4 [==============================] - 0s 79ms/step\n",
      "4/4 [==============================] - 0s 86ms/step\n",
      "4/4 [==============================] - 0s 82ms/step\n",
      "4/4 [==============================] - 0s 81ms/step\n",
      "4/4 [==============================] - 0s 90ms/step\n",
      "4/4 [==============================] - 1s 124ms/step\n",
      "4/4 [==============================] - 0s 90ms/step\n",
      "4/4 [==============================] - 0s 93ms/step\n",
      "4/4 [==============================] - 1s 135ms/step\n",
      "4/4 [==============================] - 0s 91ms/step\n",
      "4/4 [==============================] - 0s 102ms/step\n",
      "4/4 [==============================] - 0s 106ms/step\n",
      "4/4 [==============================] - 0s 99ms/step\n",
      "4/4 [==============================] - 0s 122ms/step\n",
      "4/4 [==============================] - 1s 123ms/step\n",
      "4/4 [==============================] - 0s 101ms/step\n",
      "4/4 [==============================] - 1s 115ms/step\n",
      "4/4 [==============================] - 1s 131ms/step\n",
      "4/4 [==============================] - 0s 109ms/step\n",
      "4/4 [==============================] - 1s 144ms/step\n",
      "4/4 [==============================] - 0s 104ms/step\n",
      "1/1 [==============================] - 0s 78ms/step\n"
     ]
    },
    {
     "data": {
      "application/vnd.jupyter.widget-view+json": {
       "model_id": "",
       "version_major": 2,
       "version_minor": 0
      },
      "text/plain": [
       "  0%|          | 0/40 [00:00<?, ?it/s]"
      ]
     },
     "metadata": {},
     "output_type": "display_data"
    },
    {
     "name": "stdout",
     "output_type": "stream",
     "text": [
      "4/4 [==============================] - 0s 102ms/step\n",
      "4/4 [==============================] - 0s 105ms/step\n",
      "4/4 [==============================] - 1s 123ms/step\n",
      "4/4 [==============================] - 1s 146ms/step\n",
      "4/4 [==============================] - 0s 100ms/step\n",
      "4/4 [==============================] - 0s 101ms/step\n",
      "4/4 [==============================] - 0s 106ms/step\n",
      "4/4 [==============================] - 0s 92ms/step\n",
      "4/4 [==============================] - 0s 98ms/step\n",
      "4/4 [==============================] - 0s 107ms/step\n",
      "4/4 [==============================] - 0s 92ms/step\n",
      "4/4 [==============================] - 0s 90ms/step\n",
      "4/4 [==============================] - 0s 90ms/step\n",
      "4/4 [==============================] - 0s 97ms/step\n",
      "4/4 [==============================] - 0s 91ms/step\n",
      "4/4 [==============================] - 0s 90ms/step\n",
      "4/4 [==============================] - 0s 94ms/step\n",
      "4/4 [==============================] - 0s 103ms/step\n",
      "4/4 [==============================] - 1s 150ms/step\n",
      "4/4 [==============================] - 0s 100ms/step\n",
      "4/4 [==============================] - 0s 95ms/step\n",
      "4/4 [==============================] - 0s 95ms/step\n",
      "4/4 [==============================] - 0s 100ms/step\n",
      "4/4 [==============================] - 0s 104ms/step\n",
      "4/4 [==============================] - 0s 86ms/step\n",
      "4/4 [==============================] - 0s 93ms/step\n",
      "4/4 [==============================] - 0s 91ms/step\n",
      "4/4 [==============================] - 0s 87ms/step\n",
      "4/4 [==============================] - 0s 96ms/step\n",
      "4/4 [==============================] - 0s 89ms/step\n",
      "4/4 [==============================] - 0s 87ms/step\n",
      "4/4 [==============================] - 0s 91ms/step\n",
      "4/4 [==============================] - 0s 94ms/step\n",
      "4/4 [==============================] - 0s 90ms/step\n",
      "4/4 [==============================] - 0s 96ms/step\n",
      "4/4 [==============================] - 0s 110ms/step\n",
      "4/4 [==============================] - 0s 102ms/step\n",
      "4/4 [==============================] - 1s 205ms/step\n",
      "4/4 [==============================] - 0s 117ms/step\n",
      "4/4 [==============================] - 0s 93ms/step\n",
      "1/1 [==============================] - 0s 76ms/step\n"
     ]
    },
    {
     "data": {
      "application/vnd.jupyter.widget-view+json": {
       "model_id": "",
       "version_major": 2,
       "version_minor": 0
      },
      "text/plain": [
       "  0%|          | 0/40 [00:00<?, ?it/s]"
      ]
     },
     "metadata": {},
     "output_type": "display_data"
    },
    {
     "name": "stdout",
     "output_type": "stream",
     "text": [
      "4/4 [==============================] - 0s 89ms/step\n",
      "4/4 [==============================] - 0s 90ms/step\n",
      "4/4 [==============================] - 0s 94ms/step\n",
      "4/4 [==============================] - 0s 89ms/step\n",
      "4/4 [==============================] - 0s 91ms/step\n",
      "4/4 [==============================] - 0s 84ms/step\n",
      "4/4 [==============================] - 0s 90ms/step\n",
      "4/4 [==============================] - 0s 88ms/step\n",
      "4/4 [==============================] - 0s 83ms/step\n",
      "4/4 [==============================] - 0s 84ms/step\n",
      "4/4 [==============================] - 0s 88ms/step\n",
      "4/4 [==============================] - 0s 87ms/step\n",
      "4/4 [==============================] - 0s 93ms/step\n",
      "4/4 [==============================] - 0s 91ms/step\n",
      "4/4 [==============================] - 0s 89ms/step\n",
      "4/4 [==============================] - 0s 97ms/step\n",
      "4/4 [==============================] - 0s 105ms/step\n",
      "4/4 [==============================] - 0s 99ms/step\n",
      "4/4 [==============================] - 0s 101ms/step\n",
      "4/4 [==============================] - 0s 95ms/step\n",
      "4/4 [==============================] - 0s 89ms/step\n",
      "4/4 [==============================] - 0s 91ms/step\n",
      "4/4 [==============================] - 0s 86ms/step\n",
      "4/4 [==============================] - 0s 85ms/step\n",
      "4/4 [==============================] - 0s 86ms/step\n",
      "4/4 [==============================] - 0s 86ms/step\n",
      "4/4 [==============================] - 0s 84ms/step\n",
      "4/4 [==============================] - 0s 84ms/step\n",
      "4/4 [==============================] - 0s 84ms/step\n",
      "4/4 [==============================] - 0s 85ms/step\n",
      "4/4 [==============================] - 0s 85ms/step\n",
      "4/4 [==============================] - 0s 87ms/step\n",
      "4/4 [==============================] - 0s 87ms/step\n",
      "4/4 [==============================] - 0s 96ms/step\n",
      "4/4 [==============================] - 0s 92ms/step\n",
      "4/4 [==============================] - 0s 94ms/step\n",
      "4/4 [==============================] - 0s 90ms/step\n",
      "4/4 [==============================] - 0s 89ms/step\n",
      "4/4 [==============================] - 0s 91ms/step\n",
      "4/4 [==============================] - 0s 87ms/step\n",
      "1/1 [==============================] - 0s 71ms/step\n"
     ]
    },
    {
     "data": {
      "image/png": "[encoded data removed]",
      "text/plain": [
       "<Figure size 800x400 with 32 Axes>"
      ]
     },
     "metadata": {},
     "output_type": "display_data"
    },
    {
     "name": "stdout",
     "output_type": "stream",
     "text": [
      "Якщо генератор і дескрімінатор сбалансовані, точність генератора прямує в 0 або 1:\n",
      "0.5022298177083333\n"
     ]
    },
    {
     "data": {
      "application/vnd.jupyter.widget-view+json": {
       "model_id": "",
       "version_major": 2,
       "version_minor": 0
      },
      "text/plain": [
       "  0%|          | 0/40 [00:00<?, ?it/s]"
      ]
     },
     "metadata": {},
     "output_type": "display_data"
    },
    {
     "name": "stdout",
     "output_type": "stream",
     "text": [
      "4/4 [==============================] - 0s 76ms/step\n",
      "4/4 [==============================] - 0s 85ms/step\n",
      "4/4 [==============================] - 0s 87ms/step\n",
      "4/4 [==============================] - 0s 86ms/step\n",
      "4/4 [==============================] - 0s 83ms/step\n",
      "4/4 [==============================] - 0s 95ms/step\n",
      "4/4 [==============================] - 0s 86ms/step\n",
      "4/4 [==============================] - 0s 87ms/step\n",
      "4/4 [==============================] - 0s 88ms/step\n",
      "4/4 [==============================] - 0s 84ms/step\n",
      "4/4 [==============================] - 0s 101ms/step\n",
      "4/4 [==============================] - 0s 102ms/step\n",
      "4/4 [==============================] - 0s 97ms/step\n",
      "4/4 [==============================] - 0s 100ms/step\n",
      "4/4 [==============================] - 0s 101ms/step\n",
      "4/4 [==============================] - 0s 96ms/step\n",
      "4/4 [==============================] - 0s 97ms/step\n",
      "4/4 [==============================] - 0s 97ms/step\n",
      "4/4 [==============================] - 0s 89ms/step\n",
      "4/4 [==============================] - 0s 94ms/step\n",
      "4/4 [==============================] - 0s 97ms/step\n",
      "4/4 [==============================] - 0s 89ms/step\n",
      "4/4 [==============================] - 0s 89ms/step\n",
      "4/4 [==============================] - 0s 84ms/step\n",
      "4/4 [==============================] - 0s 87ms/step\n",
      "4/4 [==============================] - 0s 87ms/step\n",
      "4/4 [==============================] - 0s 83ms/step\n",
      "4/4 [==============================] - 0s 86ms/step\n",
      "4/4 [==============================] - 0s 86ms/step\n",
      "4/4 [==============================] - 0s 86ms/step\n",
      "4/4 [==============================] - 0s 90ms/step\n",
      "4/4 [==============================] - 0s 88ms/step\n",
      "4/4 [==============================] - 0s 93ms/step\n",
      "4/4 [==============================] - 0s 92ms/step\n",
      "4/4 [==============================] - 0s 92ms/step\n",
      "4/4 [==============================] - 0s 91ms/step\n",
      "4/4 [==============================] - 0s 89ms/step\n",
      "4/4 [==============================] - 0s 87ms/step\n",
      "4/4 [==============================] - 0s 86ms/step\n",
      "4/4 [==============================] - 0s 86ms/step\n",
      "1/1 [==============================] - 0s 68ms/step\n"
     ]
    },
    {
     "data": {
      "application/vnd.jupyter.widget-view+json": {
       "model_id": "",
       "version_major": 2,
       "version_minor": 0
      },
      "text/plain": [
       "  0%|          | 0/40 [00:00<?, ?it/s]"
      ]
     },
     "metadata": {},
     "output_type": "display_data"
    },
    {
     "name": "stdout",
     "output_type": "stream",
     "text": [
      "4/4 [==============================] - 0s 80ms/step\n",
      "4/4 [==============================] - 0s 94ms/step\n",
      "4/4 [==============================] - 0s 82ms/step\n",
      "4/4 [==============================] - 0s 94ms/step\n",
      "4/4 [==============================] - 0s 85ms/step\n",
      "4/4 [==============================] - 0s 87ms/step\n",
      "4/4 [==============================] - 0s 85ms/step\n",
      "4/4 [==============================] - 0s 89ms/step\n",
      "4/4 [==============================] - 0s 98ms/step\n",
      "4/4 [==============================] - 0s 103ms/step\n",
      "4/4 [==============================] - 0s 101ms/step\n",
      "4/4 [==============================] - 0s 97ms/step\n",
      "4/4 [==============================] - 0s 103ms/step\n",
      "4/4 [==============================] - 0s 97ms/step\n",
      "4/4 [==============================] - 0s 95ms/step\n",
      "4/4 [==============================] - 0s 98ms/step\n",
      "4/4 [==============================] - 0s 93ms/step\n",
      "4/4 [==============================] - 0s 93ms/step\n",
      "4/4 [==============================] - 0s 85ms/step\n",
      "4/4 [==============================] - 0s 84ms/step\n",
      "4/4 [==============================] - 0s 83ms/step\n",
      "4/4 [==============================] - 0s 84ms/step\n",
      "4/4 [==============================] - 0s 102ms/step\n",
      "4/4 [==============================] - 0s 89ms/step\n",
      "4/4 [==============================] - 0s 89ms/step\n",
      "4/4 [==============================] - 0s 92ms/step\n",
      "4/4 [==============================] - 0s 94ms/step\n",
      "4/4 [==============================] - 0s 94ms/step\n",
      "4/4 [==============================] - 0s 96ms/step\n",
      "4/4 [==============================] - 0s 90ms/step\n",
      "4/4 [==============================] - 0s 88ms/step\n",
      "4/4 [==============================] - 0s 92ms/step\n",
      "4/4 [==============================] - 0s 92ms/step\n",
      "4/4 [==============================] - 0s 95ms/step\n",
      "4/4 [==============================] - 0s 91ms/step\n",
      "4/4 [==============================] - 0s 86ms/step\n",
      "4/4 [==============================] - 0s 86ms/step\n",
      "4/4 [==============================] - 0s 88ms/step\n",
      "4/4 [==============================] - 0s 85ms/step\n",
      "4/4 [==============================] - 0s 82ms/step\n",
      "1/1 [==============================] - 0s 76ms/step\n"
     ]
    },
    {
     "data": {
      "application/vnd.jupyter.widget-view+json": {
       "model_id": "",
       "version_major": 2,
       "version_minor": 0
      },
      "text/plain": [
       "  0%|          | 0/40 [00:00<?, ?it/s]"
      ]
     },
     "metadata": {},
     "output_type": "display_data"
    },
    {
     "name": "stdout",
     "output_type": "stream",
     "text": [
      "4/4 [==============================] - 1s 107ms/step\n",
      "4/4 [==============================] - 0s 102ms/step\n",
      "4/4 [==============================] - 1s 166ms/step\n",
      "4/4 [==============================] - 0s 118ms/step\n",
      "4/4 [==============================] - 0s 87ms/step\n",
      "4/4 [==============================] - 0s 107ms/step\n",
      "4/4 [==============================] - 0s 91ms/step\n",
      "4/4 [==============================] - 0s 97ms/step\n",
      "4/4 [==============================] - 0s 93ms/step\n",
      "4/4 [==============================] - 0s 90ms/step\n",
      "4/4 [==============================] - 0s 85ms/step\n",
      "4/4 [==============================] - 0s 88ms/step\n",
      "4/4 [==============================] - 0s 86ms/step\n",
      "4/4 [==============================] - 0s 85ms/step\n",
      "4/4 [==============================] - 0s 83ms/step\n",
      "4/4 [==============================] - 0s 82ms/step\n",
      "4/4 [==============================] - 0s 84ms/step\n",
      "4/4 [==============================] - 0s 84ms/step\n",
      "4/4 [==============================] - 0s 83ms/step\n",
      "4/4 [==============================] - 0s 81ms/step\n",
      "4/4 [==============================] - 0s 86ms/step\n",
      "4/4 [==============================] - 0s 85ms/step\n",
      "4/4 [==============================] - 0s 83ms/step\n",
      "4/4 [==============================] - 0s 82ms/step\n",
      "4/4 [==============================] - 0s 87ms/step\n",
      "4/4 [==============================] - 0s 91ms/step\n",
      "4/4 [==============================] - 0s 87ms/step\n",
      "4/4 [==============================] - 0s 88ms/step\n",
      "4/4 [==============================] - 1s 171ms/step\n",
      "4/4 [==============================] - 1s 184ms/step\n",
      "4/4 [==============================] - 1s 141ms/step\n",
      "4/4 [==============================] - 1s 128ms/step\n",
      "4/4 [==============================] - 0s 114ms/step\n",
      "4/4 [==============================] - 0s 107ms/step\n",
      "4/4 [==============================] - 1s 123ms/step\n",
      "4/4 [==============================] - 0s 118ms/step\n",
      "4/4 [==============================] - 1s 125ms/step\n",
      "4/4 [==============================] - 1s 125ms/step\n",
      "4/4 [==============================] - 1s 134ms/step\n",
      "4/4 [==============================] - 1s 147ms/step\n",
      "1/1 [==============================] - 0s 107ms/step\n"
     ]
    },
    {
     "data": {
      "application/vnd.jupyter.widget-view+json": {
       "model_id": "",
       "version_major": 2,
       "version_minor": 0
      },
      "text/plain": [
       "  0%|          | 0/40 [00:00<?, ?it/s]"
      ]
     },
     "metadata": {},
     "output_type": "display_data"
    },
    {
     "name": "stdout",
     "output_type": "stream",
     "text": [
      "4/4 [==============================] - 0s 104ms/step\n",
      "4/4 [==============================] - 0s 104ms/step\n",
      "4/4 [==============================] - 0s 107ms/step\n",
      "4/4 [==============================] - 0s 110ms/step\n",
      "4/4 [==============================] - 0s 101ms/step\n",
      "4/4 [==============================] - 1s 119ms/step\n",
      "4/4 [==============================] - 0s 118ms/step\n",
      "4/4 [==============================] - 0s 116ms/step\n",
      "4/4 [==============================] - 0s 115ms/step\n",
      "4/4 [==============================] - 0s 118ms/step\n",
      "4/4 [==============================] - 0s 118ms/step\n",
      "4/4 [==============================] - 0s 116ms/step\n",
      "4/4 [==============================] - 0s 116ms/step\n",
      "4/4 [==============================] - 1s 126ms/step\n",
      "4/4 [==============================] - 1s 124ms/step\n",
      "4/4 [==============================] - 1s 126ms/step\n",
      "4/4 [==============================] - 1s 124ms/step\n",
      "4/4 [==============================] - 1s 125ms/step\n",
      "4/4 [==============================] - 1s 120ms/step\n",
      "4/4 [==============================] - 1s 122ms/step\n",
      "4/4 [==============================] - 1s 123ms/step\n",
      "4/4 [==============================] - 0s 115ms/step\n",
      "4/4 [==============================] - 0s 113ms/step\n",
      "4/4 [==============================] - 0s 115ms/step\n",
      "4/4 [==============================] - 0s 113ms/step\n",
      "4/4 [==============================] - 0s 114ms/step\n",
      "4/4 [==============================] - 0s 112ms/step\n",
      "4/4 [==============================] - 0s 110ms/step\n",
      "4/4 [==============================] - 0s 116ms/step\n",
      "4/4 [==============================] - 0s 118ms/step\n",
      "4/4 [==============================] - 1s 129ms/step\n",
      "4/4 [==============================] - 0s 116ms/step\n",
      "4/4 [==============================] - 0s 116ms/step\n",
      "4/4 [==============================] - 0s 119ms/step\n",
      "4/4 [==============================] - 0s 117ms/step\n",
      "4/4 [==============================] - 0s 108ms/step\n",
      "4/4 [==============================] - 0s 107ms/step\n",
      "4/4 [==============================] - 0s 105ms/step\n",
      "4/4 [==============================] - 0s 101ms/step\n",
      "4/4 [==============================] - 0s 100ms/step\n",
      "1/1 [==============================] - 0s 84ms/step\n"
     ]
    },
    {
     "data": {
      "application/vnd.jupyter.widget-view+json": {
       "model_id": "",
       "version_major": 2,
       "version_minor": 0
      },
      "text/plain": [
       "  0%|          | 0/40 [00:00<?, ?it/s]"
      ]
     },
     "metadata": {},
     "output_type": "display_data"
    },
    {
     "name": "stdout",
     "output_type": "stream",
     "text": [
      "4/4 [==============================] - 0s 99ms/step\n",
      "4/4 [==============================] - 0s 106ms/step\n",
      "4/4 [==============================] - 0s 106ms/step\n",
      "4/4 [==============================] - 0s 116ms/step\n",
      "4/4 [==============================] - 0s 117ms/step\n",
      "4/4 [==============================] - 0s 116ms/step\n",
      "4/4 [==============================] - 0s 117ms/step\n",
      "4/4 [==============================] - 0s 117ms/step\n",
      "4/4 [==============================] - 0s 114ms/step\n",
      "4/4 [==============================] - 0s 116ms/step\n",
      "4/4 [==============================] - 0s 104ms/step\n",
      "4/4 [==============================] - 0s 110ms/step\n",
      "4/4 [==============================] - 0s 108ms/step\n",
      "4/4 [==============================] - 0s 104ms/step\n",
      "4/4 [==============================] - 0s 106ms/step\n",
      "4/4 [==============================] - 0s 106ms/step\n",
      "4/4 [==============================] - 0s 101ms/step\n",
      "4/4 [==============================] - 0s 108ms/step\n",
      "4/4 [==============================] - 0s 109ms/step\n",
      "4/4 [==============================] - 0s 113ms/step\n",
      "4/4 [==============================] - 0s 111ms/step\n",
      "4/4 [==============================] - 0s 108ms/step\n",
      "4/4 [==============================] - 0s 112ms/step\n",
      "4/4 [==============================] - 0s 114ms/step\n",
      "4/4 [==============================] - 0s 113ms/step\n",
      "4/4 [==============================] - 0s 112ms/step\n",
      "4/4 [==============================] - 0s 102ms/step\n",
      "4/4 [==============================] - 0s 107ms/step\n",
      "4/4 [==============================] - 0s 102ms/step\n",
      "4/4 [==============================] - 0s 104ms/step\n",
      "4/4 [==============================] - 0s 102ms/step\n",
      "4/4 [==============================] - 0s 101ms/step\n",
      "4/4 [==============================] - 0s 108ms/step\n",
      "4/4 [==============================] - 0s 114ms/step\n",
      "4/4 [==============================] - 0s 117ms/step\n",
      "4/4 [==============================] - 0s 116ms/step\n",
      "4/4 [==============================] - 0s 114ms/step\n",
      "4/4 [==============================] - 0s 115ms/step\n",
      "4/4 [==============================] - 0s 116ms/step\n",
      "4/4 [==============================] - 0s 115ms/step\n",
      "1/1 [==============================] - 0s 88ms/step\n"
     ]
    },
    {
     "data": {
      "application/vnd.jupyter.widget-view+json": {
       "model_id": "",
       "version_major": 2,
       "version_minor": 0
      },
      "text/plain": [
       "  0%|          | 0/40 [00:00<?, ?it/s]"
      ]
     },
     "metadata": {},
     "output_type": "display_data"
    },
    {
     "name": "stdout",
     "output_type": "stream",
     "text": [
      "4/4 [==============================] - 0s 104ms/step\n",
      "4/4 [==============================] - 0s 109ms/step\n",
      "4/4 [==============================] - 0s 112ms/step\n",
      "4/4 [==============================] - 0s 105ms/step\n",
      "4/4 [==============================] - 0s 113ms/step\n",
      "4/4 [==============================] - 0s 110ms/step\n",
      "4/4 [==============================] - 0s 104ms/step\n",
      "4/4 [==============================] - 0s 104ms/step\n",
      "4/4 [==============================] - 0s 102ms/step\n",
      "4/4 [==============================] - 0s 117ms/step\n",
      "4/4 [==============================] - 0s 118ms/step\n",
      "4/4 [==============================] - 0s 115ms/step\n",
      "4/4 [==============================] - 0s 116ms/step\n",
      "4/4 [==============================] - 0s 111ms/step\n",
      "4/4 [==============================] - 0s 116ms/step\n",
      "4/4 [==============================] - 0s 117ms/step\n",
      "4/4 [==============================] - 0s 103ms/step\n",
      "4/4 [==============================] - 0s 105ms/step\n",
      "4/4 [==============================] - 0s 114ms/step\n",
      "4/4 [==============================] - 0s 104ms/step\n",
      "4/4 [==============================] - 0s 108ms/step\n",
      "4/4 [==============================] - 0s 106ms/step\n",
      "4/4 [==============================] - 0s 105ms/step\n",
      "4/4 [==============================] - 0s 114ms/step\n",
      "4/4 [==============================] - 0s 107ms/step\n",
      "4/4 [==============================] - 0s 115ms/step\n",
      "4/4 [==============================] - 0s 118ms/step\n",
      "4/4 [==============================] - 0s 116ms/step\n",
      "4/4 [==============================] - 0s 115ms/step\n",
      "4/4 [==============================] - 0s 114ms/step\n",
      "4/4 [==============================] - 0s 114ms/step\n",
      "4/4 [==============================] - 0s 109ms/step\n",
      "4/4 [==============================] - 0s 109ms/step\n",
      "4/4 [==============================] - 0s 109ms/step\n",
      "4/4 [==============================] - 0s 116ms/step\n",
      "4/4 [==============================] - 0s 104ms/step\n",
      "4/4 [==============================] - 0s 99ms/step\n",
      "4/4 [==============================] - 0s 110ms/step\n",
      "4/4 [==============================] - 0s 106ms/step\n",
      "4/4 [==============================] - 0s 106ms/step\n",
      "1/1 [==============================] - 0s 91ms/step\n"
     ]
    },
    {
     "data": {
      "application/vnd.jupyter.widget-view+json": {
       "model_id": "",
       "version_major": 2,
       "version_minor": 0
      },
      "text/plain": [
       "  0%|          | 0/40 [00:00<?, ?it/s]"
      ]
     },
     "metadata": {},
     "output_type": "display_data"
    },
    {
     "name": "stdout",
     "output_type": "stream",
     "text": [
      "4/4 [==============================] - 0s 117ms/step\n",
      "4/4 [==============================] - 1s 176ms/step\n",
      "4/4 [==============================] - 0s 115ms/step\n",
      "4/4 [==============================] - 0s 112ms/step\n",
      "4/4 [==============================] - 0s 117ms/step\n",
      "4/4 [==============================] - 0s 112ms/step\n",
      "4/4 [==============================] - 0s 105ms/step\n",
      "4/4 [==============================] - 0s 104ms/step\n",
      "4/4 [==============================] - 0s 106ms/step\n",
      "4/4 [==============================] - 0s 108ms/step\n",
      "4/4 [==============================] - 1s 127ms/step\n",
      "4/4 [==============================] - 0s 110ms/step\n",
      "4/4 [==============================] - 0s 110ms/step\n",
      "4/4 [==============================] - 0s 110ms/step\n",
      "4/4 [==============================] - 0s 115ms/step\n",
      "4/4 [==============================] - 1s 123ms/step\n",
      "4/4 [==============================] - 0s 119ms/step\n",
      "4/4 [==============================] - 1s 123ms/step\n",
      "4/4 [==============================] - 1s 126ms/step\n",
      "4/4 [==============================] - 1s 120ms/step\n",
      "4/4 [==============================] - 0s 115ms/step\n",
      "4/4 [==============================] - 1s 128ms/step\n",
      "4/4 [==============================] - 0s 111ms/step\n",
      "4/4 [==============================] - 0s 108ms/step\n",
      "4/4 [==============================] - 0s 112ms/step\n",
      "4/4 [==============================] - 0s 105ms/step\n",
      "4/4 [==============================] - 0s 106ms/step\n",
      "4/4 [==============================] - 0s 112ms/step\n",
      "4/4 [==============================] - 0s 109ms/step\n",
      "4/4 [==============================] - 0s 107ms/step\n",
      "4/4 [==============================] - 0s 119ms/step\n",
      "4/4 [==============================] - 0s 120ms/step\n",
      "4/4 [==============================] - 0s 114ms/step\n",
      "4/4 [==============================] - 0s 118ms/step\n",
      "4/4 [==============================] - 0s 116ms/step\n",
      "4/4 [==============================] - 1s 120ms/step\n",
      "4/4 [==============================] - 1s 120ms/step\n",
      "4/4 [==============================] - 0s 111ms/step\n",
      "4/4 [==============================] - 0s 110ms/step\n",
      "4/4 [==============================] - 0s 109ms/step\n",
      "1/1 [==============================] - 0s 89ms/step\n"
     ]
    },
    {
     "data": {
      "application/vnd.jupyter.widget-view+json": {
       "model_id": "",
       "version_major": 2,
       "version_minor": 0
      },
      "text/plain": [
       "  0%|          | 0/40 [00:00<?, ?it/s]"
      ]
     },
     "metadata": {},
     "output_type": "display_data"
    },
    {
     "name": "stdout",
     "output_type": "stream",
     "text": [
      "4/4 [==============================] - 0s 106ms/step\n",
      "4/4 [==============================] - 0s 110ms/step\n",
      "4/4 [==============================] - 0s 111ms/step\n",
      "4/4 [==============================] - 0s 110ms/step\n",
      "4/4 [==============================] - 0s 110ms/step\n",
      "4/4 [==============================] - 0s 117ms/step\n",
      "4/4 [==============================] - 1s 119ms/step\n",
      "4/4 [==============================] - 0s 114ms/step\n",
      "4/4 [==============================] - 0s 117ms/step\n",
      "4/4 [==============================] - 0s 115ms/step\n",
      "4/4 [==============================] - 1s 120ms/step\n",
      "4/4 [==============================] - 0s 117ms/step\n",
      "4/4 [==============================] - 0s 108ms/step\n",
      "4/4 [==============================] - 0s 108ms/step\n",
      "4/4 [==============================] - 0s 102ms/step\n",
      "4/4 [==============================] - 0s 111ms/step\n",
      "4/4 [==============================] - 0s 110ms/step\n",
      "4/4 [==============================] - 0s 111ms/step\n",
      "4/4 [==============================] - 0s 112ms/step\n",
      "4/4 [==============================] - 0s 110ms/step\n",
      "4/4 [==============================] - 0s 117ms/step\n",
      "4/4 [==============================] - 1s 122ms/step\n",
      "4/4 [==============================] - 0s 116ms/step\n",
      "4/4 [==============================] - 0s 114ms/step\n",
      "4/4 [==============================] - 0s 119ms/step\n",
      "4/4 [==============================] - 0s 117ms/step\n",
      "4/4 [==============================] - 0s 119ms/step\n",
      "4/4 [==============================] - 0s 105ms/step\n",
      "4/4 [==============================] - 0s 110ms/step\n",
      "4/4 [==============================] - 0s 109ms/step\n",
      "4/4 [==============================] - 0s 109ms/step\n",
      "4/4 [==============================] - 1s 116ms/step\n",
      "4/4 [==============================] - 0s 107ms/step\n",
      "4/4 [==============================] - 0s 110ms/step\n",
      "4/4 [==============================] - 0s 105ms/step\n",
      "4/4 [==============================] - 0s 117ms/step\n",
      "4/4 [==============================] - 0s 117ms/step\n",
      "4/4 [==============================] - 0s 115ms/step\n",
      "4/4 [==============================] - 1s 118ms/step\n",
      "4/4 [==============================] - 0s 119ms/step\n",
      "1/1 [==============================] - 0s 89ms/step\n"
     ]
    },
    {
     "data": {
      "application/vnd.jupyter.widget-view+json": {
       "model_id": "",
       "version_major": 2,
       "version_minor": 0
      },
      "text/plain": [
       "  0%|          | 0/40 [00:00<?, ?it/s]"
      ]
     },
     "metadata": {},
     "output_type": "display_data"
    },
    {
     "name": "stdout",
     "output_type": "stream",
     "text": [
      "4/4 [==============================] - 0s 107ms/step\n",
      "4/4 [==============================] - 0s 110ms/step\n",
      "4/4 [==============================] - 0s 106ms/step\n",
      "4/4 [==============================] - 0s 107ms/step\n",
      "4/4 [==============================] - 0s 105ms/step\n",
      "4/4 [==============================] - 0s 106ms/step\n",
      "4/4 [==============================] - 0s 107ms/step\n",
      "4/4 [==============================] - 1s 117ms/step\n",
      "4/4 [==============================] - 0s 110ms/step\n",
      "4/4 [==============================] - 0s 106ms/step\n",
      "4/4 [==============================] - 1s 121ms/step\n",
      "4/4 [==============================] - 0s 116ms/step\n",
      "4/4 [==============================] - 0s 116ms/step\n",
      "4/4 [==============================] - 0s 115ms/step\n",
      "4/4 [==============================] - 0s 117ms/step\n",
      "4/4 [==============================] - 1s 121ms/step\n",
      "4/4 [==============================] - 0s 107ms/step\n",
      "4/4 [==============================] - 0s 106ms/step\n",
      "4/4 [==============================] - 0s 103ms/step\n",
      "4/4 [==============================] - 0s 107ms/step\n",
      "4/4 [==============================] - 0s 108ms/step\n",
      "4/4 [==============================] - 0s 106ms/step\n",
      "4/4 [==============================] - 0s 109ms/step\n",
      "4/4 [==============================] - 0s 112ms/step\n",
      "4/4 [==============================] - 0s 115ms/step\n",
      "4/4 [==============================] - 0s 119ms/step\n",
      "4/4 [==============================] - 0s 119ms/step\n",
      "4/4 [==============================] - 1s 119ms/step\n",
      "4/4 [==============================] - 1s 119ms/step\n",
      "4/4 [==============================] - 1s 129ms/step\n",
      "4/4 [==============================] - 0s 119ms/step\n",
      "4/4 [==============================] - 1s 124ms/step\n",
      "4/4 [==============================] - 0s 116ms/step\n",
      "4/4 [==============================] - 0s 113ms/step\n",
      "4/4 [==============================] - 0s 111ms/step\n",
      "4/4 [==============================] - 0s 109ms/step\n",
      "4/4 [==============================] - 0s 111ms/step\n",
      "4/4 [==============================] - 0s 111ms/step\n",
      "4/4 [==============================] - 0s 109ms/step\n",
      "4/4 [==============================] - 0s 105ms/step\n",
      "1/1 [==============================] - 0s 85ms/step\n"
     ]
    },
    {
     "data": {
      "application/vnd.jupyter.widget-view+json": {
       "model_id": "",
       "version_major": 2,
       "version_minor": 0
      },
      "text/plain": [
       "  0%|          | 0/40 [00:00<?, ?it/s]"
      ]
     },
     "metadata": {},
     "output_type": "display_data"
    },
    {
     "name": "stdout",
     "output_type": "stream",
     "text": [
      "4/4 [==============================] - 0s 102ms/step\n",
      "4/4 [==============================] - 1s 116ms/step\n",
      "4/4 [==============================] - 0s 118ms/step\n",
      "4/4 [==============================] - 0s 116ms/step\n",
      "4/4 [==============================] - 0s 118ms/step\n",
      "4/4 [==============================] - 0s 117ms/step\n",
      "4/4 [==============================] - 1s 122ms/step\n",
      "4/4 [==============================] - 0s 110ms/step\n",
      "4/4 [==============================] - 0s 110ms/step\n",
      "4/4 [==============================] - 0s 118ms/step\n",
      "4/4 [==============================] - 0s 106ms/step\n",
      "4/4 [==============================] - 0s 107ms/step\n",
      "4/4 [==============================] - 0s 106ms/step\n",
      "4/4 [==============================] - 0s 103ms/step\n",
      "4/4 [==============================] - 0s 112ms/step\n",
      "4/4 [==============================] - 0s 104ms/step\n",
      "4/4 [==============================] - 0s 117ms/step\n",
      "4/4 [==============================] - 0s 119ms/step\n",
      "4/4 [==============================] - 0s 117ms/step\n",
      "4/4 [==============================] - 1s 119ms/step\n",
      "4/4 [==============================] - 0s 116ms/step\n",
      "4/4 [==============================] - 0s 117ms/step\n",
      "4/4 [==============================] - 0s 117ms/step\n",
      "4/4 [==============================] - 0s 110ms/step\n",
      "4/4 [==============================] - 0s 108ms/step\n",
      "4/4 [==============================] - 0s 110ms/step\n",
      "4/4 [==============================] - 0s 106ms/step\n",
      "4/4 [==============================] - 0s 110ms/step\n",
      "4/4 [==============================] - 0s 105ms/step\n",
      "4/4 [==============================] - 0s 109ms/step\n",
      "4/4 [==============================] - 0s 112ms/step\n",
      "4/4 [==============================] - 1s 122ms/step\n",
      "4/4 [==============================] - 1s 117ms/step\n",
      "4/4 [==============================] - 0s 116ms/step\n",
      "4/4 [==============================] - 0s 116ms/step\n",
      "4/4 [==============================] - 0s 115ms/step\n",
      "4/4 [==============================] - 1s 123ms/step\n",
      "4/4 [==============================] - 0s 117ms/step\n",
      "4/4 [==============================] - 0s 108ms/step\n",
      "4/4 [==============================] - 0s 109ms/step\n",
      "1/1 [==============================] - 0s 87ms/step\n"
     ]
    },
    {
     "data": {
      "application/vnd.jupyter.widget-view+json": {
       "model_id": "",
       "version_major": 2,
       "version_minor": 0
      },
      "text/plain": [
       "  0%|          | 0/40 [00:00<?, ?it/s]"
      ]
     },
     "metadata": {},
     "output_type": "display_data"
    },
    {
     "name": "stdout",
     "output_type": "stream",
     "text": [
      "4/4 [==============================] - 0s 106ms/step\n",
      "4/4 [==============================] - 0s 114ms/step\n",
      "4/4 [==============================] - 0s 111ms/step\n",
      "4/4 [==============================] - 0s 122ms/step\n",
      "4/4 [==============================] - 1s 128ms/step\n",
      "4/4 [==============================] - 0s 119ms/step\n",
      "4/4 [==============================] - 1s 138ms/step\n",
      "4/4 [==============================] - 0s 116ms/step\n",
      "4/4 [==============================] - 0s 118ms/step\n",
      "4/4 [==============================] - 0s 116ms/step\n",
      "4/4 [==============================] - 0s 116ms/step\n",
      "4/4 [==============================] - 0s 119ms/step\n",
      "4/4 [==============================] - 0s 110ms/step\n",
      "4/4 [==============================] - 0s 113ms/step\n",
      "4/4 [==============================] - 0s 106ms/step\n",
      "4/4 [==============================] - 0s 108ms/step\n",
      "4/4 [==============================] - 0s 107ms/step\n",
      "4/4 [==============================] - 0s 115ms/step\n",
      "4/4 [==============================] - 0s 111ms/step\n",
      "4/4 [==============================] - 0s 119ms/step\n",
      "4/4 [==============================] - 0s 119ms/step\n",
      "4/4 [==============================] - 0s 112ms/step\n",
      "4/4 [==============================] - 1s 120ms/step\n",
      "4/4 [==============================] - 1s 122ms/step\n",
      "4/4 [==============================] - 1s 123ms/step\n",
      "4/4 [==============================] - 1s 122ms/step\n",
      "4/4 [==============================] - 1s 125ms/step\n",
      "4/4 [==============================] - 1s 119ms/step\n",
      "4/4 [==============================] - 0s 109ms/step\n",
      "4/4 [==============================] - 0s 114ms/step\n",
      "4/4 [==============================] - 0s 108ms/step\n",
      "4/4 [==============================] - 0s 113ms/step\n",
      "4/4 [==============================] - 0s 116ms/step\n",
      "4/4 [==============================] - 0s 122ms/step\n",
      "4/4 [==============================] - 0s 114ms/step\n",
      "4/4 [==============================] - 0s 113ms/step\n",
      "4/4 [==============================] - 0s 118ms/step\n",
      "4/4 [==============================] - 1s 127ms/step\n",
      "4/4 [==============================] - 1s 123ms/step\n",
      "4/4 [==============================] - 1s 138ms/step\n",
      "1/1 [==============================] - 0s 99ms/step\n"
     ]
    },
    {
     "data": {
      "application/vnd.jupyter.widget-view+json": {
       "model_id": "",
       "version_major": 2,
       "version_minor": 0
      },
      "text/plain": [
       "  0%|          | 0/40 [00:00<?, ?it/s]"
      ]
     },
     "metadata": {},
     "output_type": "display_data"
    },
    {
     "name": "stdout",
     "output_type": "stream",
     "text": [
      "4/4 [==============================] - 0s 116ms/step\n",
      "4/4 [==============================] - 1s 122ms/step\n",
      "4/4 [==============================] - 0s 110ms/step\n",
      "4/4 [==============================] - 0s 112ms/step\n",
      "4/4 [==============================] - 0s 115ms/step\n",
      "4/4 [==============================] - 0s 112ms/step\n",
      "4/4 [==============================] - 0s 116ms/step\n",
      "4/4 [==============================] - 0s 118ms/step\n",
      "4/4 [==============================] - 0s 115ms/step\n",
      "4/4 [==============================] - 0s 116ms/step\n",
      "4/4 [==============================] - 0s 114ms/step\n",
      "4/4 [==============================] - 1s 126ms/step\n",
      "4/4 [==============================] - 1s 121ms/step\n",
      "4/4 [==============================] - 1s 126ms/step\n",
      "4/4 [==============================] - 1s 122ms/step\n",
      "4/4 [==============================] - 1s 121ms/step\n",
      "4/4 [==============================] - 1s 117ms/step\n",
      "4/4 [==============================] - 1s 120ms/step\n",
      "4/4 [==============================] - 0s 116ms/step\n",
      "4/4 [==============================] - 0s 110ms/step\n",
      "4/4 [==============================] - 0s 106ms/step\n",
      "4/4 [==============================] - 0s 107ms/step\n",
      "4/4 [==============================] - 0s 110ms/step\n",
      "4/4 [==============================] - 0s 109ms/step\n",
      "4/4 [==============================] - 0s 111ms/step\n",
      "4/4 [==============================] - 0s 112ms/step\n",
      "4/4 [==============================] - 1s 137ms/step\n",
      "4/4 [==============================] - 1s 121ms/step\n",
      "4/4 [==============================] - 1s 118ms/step\n",
      "4/4 [==============================] - 0s 118ms/step\n",
      "4/4 [==============================] - 0s 117ms/step\n",
      "4/4 [==============================] - 1s 119ms/step\n",
      "4/4 [==============================] - 1s 120ms/step\n",
      "4/4 [==============================] - 0s 113ms/step\n",
      "4/4 [==============================] - 0s 110ms/step\n",
      "4/4 [==============================] - 0s 110ms/step\n",
      "4/4 [==============================] - 0s 107ms/step\n",
      "4/4 [==============================] - 0s 107ms/step\n",
      "4/4 [==============================] - 0s 109ms/step\n",
      "4/4 [==============================] - 0s 110ms/step\n",
      "1/1 [==============================] - 0s 88ms/step\n"
     ]
    },
    {
     "data": {
      "image/png": "[encoded data removed]",
      "text/plain": [
       "<Figure size 800x400 with 32 Axes>"
      ]
     },
     "metadata": {},
     "output_type": "display_data"
    },
    {
     "name": "stdout",
     "output_type": "stream",
     "text": [
      "Якщо генератор і дескрімінатор сбалансовані, точність генератора прямує в 0 або 1:\n",
      "0.503076171875\n"
     ]
    },
    {
     "data": {
      "application/vnd.jupyter.widget-view+json": {
       "model_id": "",
       "version_major": 2,
       "version_minor": 0
      },
      "text/plain": [
       "  0%|          | 0/40 [00:00<?, ?it/s]"
      ]
     },
     "metadata": {},
     "output_type": "display_data"
    },
    {
     "name": "stdout",
     "output_type": "stream",
     "text": [
      "4/4 [==============================] - 0s 111ms/step\n",
      "4/4 [==============================] - 0s 120ms/step\n",
      "4/4 [==============================] - 0s 116ms/step\n",
      "4/4 [==============================] - 0s 120ms/step\n",
      "4/4 [==============================] - 1s 120ms/step\n",
      "4/4 [==============================] - 0s 117ms/step\n",
      "4/4 [==============================] - 1s 120ms/step\n",
      "4/4 [==============================] - 0s 110ms/step\n",
      "4/4 [==============================] - 0s 114ms/step\n",
      "4/4 [==============================] - 0s 110ms/step\n",
      "4/4 [==============================] - 0s 112ms/step\n",
      "4/4 [==============================] - 0s 112ms/step\n",
      "4/4 [==============================] - 0s 111ms/step\n",
      "4/4 [==============================] - 0s 113ms/step\n",
      "4/4 [==============================] - 0s 112ms/step\n",
      "4/4 [==============================] - 0s 116ms/step\n",
      "4/4 [==============================] - 1s 123ms/step\n",
      "4/4 [==============================] - 1s 124ms/step\n",
      "4/4 [==============================] - 1s 120ms/step\n",
      "4/4 [==============================] - 0s 119ms/step\n",
      "4/4 [==============================] - 0s 117ms/step\n",
      "4/4 [==============================] - 1s 124ms/step\n",
      "4/4 [==============================] - 1s 209ms/step\n",
      "4/4 [==============================] - 1s 141ms/step\n",
      "4/4 [==============================] - 1s 134ms/step\n",
      "4/4 [==============================] - 0s 99ms/step\n",
      "4/4 [==============================] - 0s 95ms/step\n",
      "4/4 [==============================] - 0s 95ms/step\n",
      "4/4 [==============================] - 0s 92ms/step\n",
      "4/4 [==============================] - 0s 98ms/step\n",
      "4/4 [==============================] - 0s 101ms/step\n",
      "4/4 [==============================] - 0s 100ms/step\n",
      "4/4 [==============================] - 1s 160ms/step\n",
      "4/4 [==============================] - 1s 142ms/step\n",
      "4/4 [==============================] - 1s 160ms/step\n",
      "4/4 [==============================] - 1s 125ms/step\n",
      "4/4 [==============================] - 1s 133ms/step\n",
      "4/4 [==============================] - 1s 125ms/step\n",
      "4/4 [==============================] - 1s 129ms/step\n",
      "4/4 [==============================] - 1s 125ms/step\n",
      "1/1 [==============================] - 0s 99ms/step\n"
     ]
    },
    {
     "data": {
      "application/vnd.jupyter.widget-view+json": {
       "model_id": "",
       "version_major": 2,
       "version_minor": 0
      },
      "text/plain": [
       "  0%|          | 0/40 [00:00<?, ?it/s]"
      ]
     },
     "metadata": {},
     "output_type": "display_data"
    },
    {
     "name": "stdout",
     "output_type": "stream",
     "text": [
      "4/4 [==============================] - 0s 107ms/step\n",
      "4/4 [==============================] - 0s 114ms/step\n",
      "4/4 [==============================] - 0s 103ms/step\n",
      "4/4 [==============================] - 0s 110ms/step\n",
      "4/4 [==============================] - 1s 158ms/step\n",
      "4/4 [==============================] - 1s 153ms/step\n",
      "4/4 [==============================] - 1s 150ms/step\n",
      "4/4 [==============================] - 1s 149ms/step\n",
      "4/4 [==============================] - 1s 151ms/step\n",
      "4/4 [==============================] - 1s 143ms/step\n",
      "4/4 [==============================] - 1s 144ms/step\n",
      "4/4 [==============================] - 1s 146ms/step\n",
      "4/4 [==============================] - 1s 138ms/step\n",
      "4/4 [==============================] - 1s 134ms/step\n",
      "4/4 [==============================] - 1s 129ms/step\n",
      "4/4 [==============================] - 1s 131ms/step\n",
      "4/4 [==============================] - 1s 128ms/step\n",
      "4/4 [==============================] - 1s 138ms/step\n",
      "4/4 [==============================] - 1s 150ms/step\n",
      "4/4 [==============================] - 1s 204ms/step\n",
      "4/4 [==============================] - 1s 191ms/step\n",
      "4/4 [==============================] - 1s 132ms/step\n",
      "4/4 [==============================] - 1s 129ms/step\n",
      "4/4 [==============================] - 1s 132ms/step\n",
      "4/4 [==============================] - 0s 110ms/step\n",
      "4/4 [==============================] - 1s 126ms/step\n",
      "4/4 [==============================] - 0s 112ms/step\n",
      "4/4 [==============================] - 1s 134ms/step\n",
      "4/4 [==============================] - 0s 113ms/step\n",
      "4/4 [==============================] - 0s 118ms/step\n",
      "4/4 [==============================] - 0s 115ms/step\n",
      "4/4 [==============================] - 1s 130ms/step\n",
      "4/4 [==============================] - 1s 150ms/step\n",
      "4/4 [==============================] - 1s 141ms/step\n",
      "4/4 [==============================] - 1s 163ms/step\n",
      "4/4 [==============================] - 1s 134ms/step\n",
      "4/4 [==============================] - 1s 123ms/step\n",
      "4/4 [==============================] - 1s 119ms/step\n",
      "4/4 [==============================] - 0s 115ms/step\n",
      "4/4 [==============================] - 0s 116ms/step\n",
      "1/1 [==============================] - 0s 91ms/step\n"
     ]
    },
    {
     "data": {
      "application/vnd.jupyter.widget-view+json": {
       "model_id": "",
       "version_major": 2,
       "version_minor": 0
      },
      "text/plain": [
       "  0%|          | 0/40 [00:00<?, ?it/s]"
      ]
     },
     "metadata": {},
     "output_type": "display_data"
    },
    {
     "name": "stdout",
     "output_type": "stream",
     "text": [
      "4/4 [==============================] - 0s 108ms/step\n",
      "4/4 [==============================] - 0s 111ms/step\n",
      "4/4 [==============================] - 0s 114ms/step\n",
      "4/4 [==============================] - 0s 115ms/step\n",
      "4/4 [==============================] - 0s 120ms/step\n",
      "4/4 [==============================] - 1s 122ms/step\n",
      "4/4 [==============================] - 1s 122ms/step\n",
      "4/4 [==============================] - 1s 129ms/step\n",
      "4/4 [==============================] - 1s 133ms/step\n",
      "4/4 [==============================] - 1s 128ms/step\n",
      "4/4 [==============================] - 1s 127ms/step\n",
      "4/4 [==============================] - 0s 112ms/step\n",
      "4/4 [==============================] - 0s 117ms/step\n",
      "4/4 [==============================] - 0s 111ms/step\n",
      "4/4 [==============================] - 0s 112ms/step\n",
      "4/4 [==============================] - 0s 116ms/step\n",
      "4/4 [==============================] - 0s 113ms/step\n",
      "4/4 [==============================] - 0s 114ms/step\n",
      "4/4 [==============================] - 1s 123ms/step\n",
      "4/4 [==============================] - 0s 114ms/step\n",
      "4/4 [==============================] - 1s 125ms/step\n",
      "4/4 [==============================] - 1s 125ms/step\n",
      "4/4 [==============================] - 1s 122ms/step\n",
      "4/4 [==============================] - 1s 132ms/step\n",
      "4/4 [==============================] - 1s 119ms/step\n",
      "4/4 [==============================] - 1s 120ms/step\n",
      "4/4 [==============================] - 1s 123ms/step\n",
      "4/4 [==============================] - 0s 111ms/step\n",
      "4/4 [==============================] - 0s 114ms/step\n",
      "4/4 [==============================] - 0s 114ms/step\n",
      "4/4 [==============================] - 0s 113ms/step\n",
      "4/4 [==============================] - 0s 115ms/step\n",
      "4/4 [==============================] - 0s 111ms/step\n",
      "4/4 [==============================] - 0s 116ms/step\n",
      "4/4 [==============================] - 1s 119ms/step\n",
      "4/4 [==============================] - 1s 121ms/step\n",
      "4/4 [==============================] - 1s 124ms/step\n",
      "4/4 [==============================] - 1s 141ms/step\n",
      "4/4 [==============================] - 1s 127ms/step\n",
      "4/4 [==============================] - 1s 129ms/step\n",
      "1/1 [==============================] - 0s 97ms/step\n"
     ]
    },
    {
     "data": {
      "application/vnd.jupyter.widget-view+json": {
       "model_id": "",
       "version_major": 2,
       "version_minor": 0
      },
      "text/plain": [
       "  0%|          | 0/40 [00:00<?, ?it/s]"
      ]
     },
     "metadata": {},
     "output_type": "display_data"
    },
    {
     "name": "stdout",
     "output_type": "stream",
     "text": [
      "4/4 [==============================] - 0s 118ms/step\n",
      "4/4 [==============================] - 1s 119ms/step\n",
      "4/4 [==============================] - 0s 119ms/step\n",
      "4/4 [==============================] - 0s 116ms/step\n",
      "4/4 [==============================] - 0s 116ms/step\n",
      "4/4 [==============================] - 1s 128ms/step\n",
      "4/4 [==============================] - 1s 119ms/step\n",
      "4/4 [==============================] - 1s 122ms/step\n",
      "4/4 [==============================] - 1s 118ms/step\n",
      "4/4 [==============================] - 1s 129ms/step\n",
      "4/4 [==============================] - 1s 132ms/step\n",
      "4/4 [==============================] - 1s 145ms/step\n",
      "4/4 [==============================] - 1s 141ms/step\n",
      "4/4 [==============================] - 1s 133ms/step\n",
      "4/4 [==============================] - 1s 126ms/step\n",
      "4/4 [==============================] - 1s 121ms/step\n",
      "4/4 [==============================] - 1s 119ms/step\n",
      "4/4 [==============================] - 1s 120ms/step\n",
      "4/4 [==============================] - 1s 121ms/step\n",
      "4/4 [==============================] - 1s 126ms/step\n",
      "4/4 [==============================] - 1s 123ms/step\n",
      "4/4 [==============================] - 1s 120ms/step\n",
      "4/4 [==============================] - 1s 124ms/step\n",
      "4/4 [==============================] - 1s 133ms/step\n",
      "4/4 [==============================] - 1s 132ms/step\n",
      "4/4 [==============================] - 1s 129ms/step\n",
      "4/4 [==============================] - 1s 129ms/step\n",
      "4/4 [==============================] - 1s 130ms/step\n",
      "4/4 [==============================] - 1s 135ms/step\n",
      "4/4 [==============================] - 1s 122ms/step\n",
      "4/4 [==============================] - 1s 123ms/step\n",
      "4/4 [==============================] - 1s 124ms/step\n",
      "4/4 [==============================] - 1s 121ms/step\n",
      "4/4 [==============================] - 1s 121ms/step\n",
      "4/4 [==============================] - 1s 118ms/step\n",
      "4/4 [==============================] - 1s 118ms/step\n",
      "4/4 [==============================] - 1s 122ms/step\n",
      "4/4 [==============================] - 1s 129ms/step\n",
      "4/4 [==============================] - 1s 127ms/step\n",
      "4/4 [==============================] - 1s 131ms/step\n",
      "1/1 [==============================] - 0s 100ms/step\n"
     ]
    },
    {
     "data": {
      "application/vnd.jupyter.widget-view+json": {
       "model_id": "",
       "version_major": 2,
       "version_minor": 0
      },
      "text/plain": [
       "  0%|          | 0/40 [00:00<?, ?it/s]"
      ]
     },
     "metadata": {},
     "output_type": "display_data"
    },
    {
     "name": "stdout",
     "output_type": "stream",
     "text": [
      "4/4 [==============================] - 1s 121ms/step\n",
      "4/4 [==============================] - 1s 130ms/step\n",
      "4/4 [==============================] - 1s 120ms/step\n",
      "4/4 [==============================] - 1s 122ms/step\n",
      "4/4 [==============================] - 1s 120ms/step\n",
      "4/4 [==============================] - 0s 120ms/step\n",
      "4/4 [==============================] - 1s 120ms/step\n",
      "4/4 [==============================] - 1s 119ms/step\n",
      "4/4 [==============================] - 1s 123ms/step\n",
      "4/4 [==============================] - 1s 123ms/step\n",
      "4/4 [==============================] - 1s 124ms/step\n",
      "4/4 [==============================] - 1s 137ms/step\n",
      "4/4 [==============================] - 1s 127ms/step\n",
      "4/4 [==============================] - 1s 128ms/step\n",
      "4/4 [==============================] - 1s 130ms/step\n",
      "4/4 [==============================] - 1s 137ms/step\n",
      "4/4 [==============================] - 1s 133ms/step\n",
      "4/4 [==============================] - 1s 121ms/step\n",
      "4/4 [==============================] - 1s 121ms/step\n",
      "4/4 [==============================] - 1s 126ms/step\n",
      "4/4 [==============================] - 1s 125ms/step\n",
      "4/4 [==============================] - 1s 120ms/step\n",
      "4/4 [==============================] - 0s 117ms/step\n",
      "4/4 [==============================] - 0s 117ms/step\n",
      "4/4 [==============================] - 0s 117ms/step\n",
      "4/4 [==============================] - 1s 120ms/step\n",
      "4/4 [==============================] - 1s 136ms/step\n",
      "4/4 [==============================] - 1s 133ms/step\n",
      "4/4 [==============================] - 1s 129ms/step\n",
      "4/4 [==============================] - 1s 132ms/step\n",
      "4/4 [==============================] - 1s 137ms/step\n",
      "4/4 [==============================] - 1s 125ms/step\n",
      "4/4 [==============================] - 1s 120ms/step\n",
      "4/4 [==============================] - 0s 117ms/step\n",
      "4/4 [==============================] - 0s 119ms/step\n",
      "4/4 [==============================] - 0s 117ms/step\n",
      "4/4 [==============================] - 1s 120ms/step\n",
      "4/4 [==============================] - 1s 123ms/step\n",
      "4/4 [==============================] - 1s 123ms/step\n",
      "4/4 [==============================] - 1s 117ms/step\n",
      "1/1 [==============================] - 0s 103ms/step\n"
     ]
    },
    {
     "data": {
      "application/vnd.jupyter.widget-view+json": {
       "model_id": "",
       "version_major": 2,
       "version_minor": 0
      },
      "text/plain": [
       "  0%|          | 0/40 [00:00<?, ?it/s]"
      ]
     },
     "metadata": {},
     "output_type": "display_data"
    },
    {
     "name": "stdout",
     "output_type": "stream",
     "text": [
      "4/4 [==============================] - 1s 198ms/step\n",
      "4/4 [==============================] - 1s 170ms/step\n",
      "4/4 [==============================] - 1s 157ms/step\n",
      "4/4 [==============================] - 1s 145ms/step\n",
      "4/4 [==============================] - 1s 147ms/step\n",
      "4/4 [==============================] - 1s 119ms/step\n",
      "4/4 [==============================] - 1s 122ms/step\n",
      "4/4 [==============================] - 1s 117ms/step\n",
      "4/4 [==============================] - 1s 122ms/step\n",
      "4/4 [==============================] - 1s 129ms/step\n",
      "4/4 [==============================] - 1s 126ms/step\n",
      "4/4 [==============================] - 1s 129ms/step\n",
      "4/4 [==============================] - 1s 142ms/step\n",
      "4/4 [==============================] - 1s 137ms/step\n",
      "4/4 [==============================] - 1s 135ms/step\n",
      "4/4 [==============================] - 1s 133ms/step\n",
      "4/4 [==============================] - 1s 140ms/step\n",
      "4/4 [==============================] - 1s 136ms/step\n",
      "4/4 [==============================] - 1s 136ms/step\n",
      "4/4 [==============================] - 1s 134ms/step\n",
      "4/4 [==============================] - 0s 116ms/step\n",
      "4/4 [==============================] - 0s 113ms/step\n",
      "4/4 [==============================] - 0s 114ms/step\n",
      "4/4 [==============================] - 0s 115ms/step\n",
      "4/4 [==============================] - 0s 112ms/step\n",
      "4/4 [==============================] - 0s 111ms/step\n",
      "4/4 [==============================] - 1s 127ms/step\n",
      "4/4 [==============================] - 1s 124ms/step\n",
      "4/4 [==============================] - 1s 129ms/step\n",
      "4/4 [==============================] - 1s 128ms/step\n",
      "4/4 [==============================] - 1s 128ms/step\n",
      "4/4 [==============================] - 1s 141ms/step\n",
      "4/4 [==============================] - 1s 122ms/step\n",
      "4/4 [==============================] - 1s 122ms/step\n",
      "4/4 [==============================] - 0s 116ms/step\n",
      "4/4 [==============================] - 0s 113ms/step\n",
      "4/4 [==============================] - 0s 111ms/step\n",
      "4/4 [==============================] - 0s 114ms/step\n",
      "4/4 [==============================] - 0s 118ms/step\n",
      "4/4 [==============================] - 0s 119ms/step\n",
      "1/1 [==============================] - 0s 89ms/step\n"
     ]
    },
    {
     "data": {
      "application/vnd.jupyter.widget-view+json": {
       "model_id": "",
       "version_major": 2,
       "version_minor": 0
      },
      "text/plain": [
       "  0%|          | 0/40 [00:00<?, ?it/s]"
      ]
     },
     "metadata": {},
     "output_type": "display_data"
    },
    {
     "name": "stdout",
     "output_type": "stream",
     "text": [
      "4/4 [==============================] - 0s 118ms/step\n",
      "4/4 [==============================] - 1s 123ms/step\n",
      "4/4 [==============================] - 1s 127ms/step\n",
      "4/4 [==============================] - 1s 131ms/step\n",
      "4/4 [==============================] - 1s 127ms/step\n",
      "4/4 [==============================] - 1s 120ms/step\n",
      "4/4 [==============================] - 1s 121ms/step\n",
      "4/4 [==============================] - 1s 122ms/step\n",
      "4/4 [==============================] - 1s 121ms/step\n",
      "4/4 [==============================] - 1s 133ms/step\n",
      "4/4 [==============================] - 0s 118ms/step\n",
      "4/4 [==============================] - 0s 116ms/step\n",
      "4/4 [==============================] - 1s 120ms/step\n",
      "4/4 [==============================] - 1s 119ms/step\n",
      "4/4 [==============================] - 1s 131ms/step\n",
      "4/4 [==============================] - 1s 128ms/step\n",
      "4/4 [==============================] - 1s 137ms/step\n",
      "4/4 [==============================] - 1s 129ms/step\n",
      "4/4 [==============================] - 1s 122ms/step\n",
      "4/4 [==============================] - 1s 125ms/step\n",
      "4/4 [==============================] - 1s 123ms/step\n",
      "4/4 [==============================] - 0s 116ms/step\n",
      "4/4 [==============================] - 1s 140ms/step\n",
      "4/4 [==============================] - 1s 125ms/step\n",
      "4/4 [==============================] - 1s 164ms/step\n",
      "4/4 [==============================] - 1s 147ms/step\n",
      "4/4 [==============================] - 1s 122ms/step\n",
      "4/4 [==============================] - 1s 127ms/step\n",
      "4/4 [==============================] - 1s 147ms/step\n",
      "4/4 [==============================] - 1s 149ms/step\n",
      "4/4 [==============================] - 1s 152ms/step\n",
      "4/4 [==============================] - 1s 129ms/step\n",
      "4/4 [==============================] - 1s 148ms/step\n",
      "4/4 [==============================] - 1s 140ms/step\n",
      "4/4 [==============================] - 1s 133ms/step\n",
      "4/4 [==============================] - 1s 119ms/step\n",
      "4/4 [==============================] - 1s 153ms/step\n",
      "4/4 [==============================] - 0s 110ms/step\n",
      "4/4 [==============================] - 1s 156ms/step\n",
      "4/4 [==============================] - 1s 165ms/step\n",
      "1/1 [==============================] - 0s 149ms/step\n"
     ]
    },
    {
     "data": {
      "application/vnd.jupyter.widget-view+json": {
       "model_id": "",
       "version_major": 2,
       "version_minor": 0
      },
      "text/plain": [
       "  0%|          | 0/40 [00:00<?, ?it/s]"
      ]
     },
     "metadata": {},
     "output_type": "display_data"
    },
    {
     "name": "stdout",
     "output_type": "stream",
     "text": [
      "4/4 [==============================] - 0s 113ms/step\n",
      "4/4 [==============================] - 1s 136ms/step\n",
      "4/4 [==============================] - 1s 132ms/step\n",
      "4/4 [==============================] - 1s 139ms/step\n",
      "4/4 [==============================] - 1s 145ms/step\n",
      "4/4 [==============================] - 1s 131ms/step\n",
      "4/4 [==============================] - 1s 132ms/step\n",
      "4/4 [==============================] - 0s 117ms/step\n",
      "4/4 [==============================] - 0s 119ms/step\n",
      "4/4 [==============================] - 1s 120ms/step\n",
      "4/4 [==============================] - 0s 117ms/step\n",
      "4/4 [==============================] - 0s 117ms/step\n",
      "4/4 [==============================] - 0s 114ms/step\n",
      "4/4 [==============================] - 1s 123ms/step\n",
      "4/4 [==============================] - 1s 122ms/step\n",
      "4/4 [==============================] - 1s 133ms/step\n",
      "4/4 [==============================] - 1s 131ms/step\n",
      "4/4 [==============================] - 1s 122ms/step\n",
      "4/4 [==============================] - 1s 132ms/step\n",
      "4/4 [==============================] - 1s 128ms/step\n",
      "4/4 [==============================] - 1s 122ms/step\n",
      "4/4 [==============================] - 1s 118ms/step\n",
      "4/4 [==============================] - 0s 116ms/step\n",
      "4/4 [==============================] - 1s 121ms/step\n",
      "4/4 [==============================] - 1s 122ms/step\n",
      "4/4 [==============================] - 0s 117ms/step\n",
      "4/4 [==============================] - 1s 123ms/step\n",
      "4/4 [==============================] - 1s 124ms/step\n",
      "4/4 [==============================] - 1s 124ms/step\n",
      "4/4 [==============================] - 1s 126ms/step\n",
      "4/4 [==============================] - 1s 125ms/step\n",
      "4/4 [==============================] - 1s 125ms/step\n",
      "4/4 [==============================] - 1s 129ms/step\n",
      "4/4 [==============================] - 1s 133ms/step\n",
      "4/4 [==============================] - 1s 128ms/step\n",
      "4/4 [==============================] - 1s 121ms/step\n",
      "4/4 [==============================] - 0s 115ms/step\n",
      "4/4 [==============================] - 0s 117ms/step\n",
      "4/4 [==============================] - 1s 119ms/step\n",
      "4/4 [==============================] - 1s 122ms/step\n",
      "1/1 [==============================] - 0s 92ms/step\n"
     ]
    },
    {
     "data": {
      "application/vnd.jupyter.widget-view+json": {
       "model_id": "",
       "version_major": 2,
       "version_minor": 0
      },
      "text/plain": [
       "  0%|          | 0/40 [00:00<?, ?it/s]"
      ]
     },
     "metadata": {},
     "output_type": "display_data"
    },
    {
     "name": "stdout",
     "output_type": "stream",
     "text": [
      "4/4 [==============================] - 0s 126ms/step\n",
      "4/4 [==============================] - 1s 153ms/step\n",
      "4/4 [==============================] - 1s 152ms/step\n",
      "4/4 [==============================] - 1s 142ms/step\n",
      "4/4 [==============================] - 1s 139ms/step\n",
      "4/4 [==============================] - 1s 144ms/step\n",
      "4/4 [==============================] - 1s 140ms/step\n",
      "4/4 [==============================] - 1s 138ms/step\n",
      "4/4 [==============================] - 1s 137ms/step\n",
      "4/4 [==============================] - 1s 128ms/step\n",
      "4/4 [==============================] - 1s 129ms/step\n",
      "4/4 [==============================] - 1s 129ms/step\n",
      "4/4 [==============================] - 1s 155ms/step\n",
      "4/4 [==============================] - 1s 124ms/step\n",
      "4/4 [==============================] - 1s 125ms/step\n",
      "4/4 [==============================] - 1s 122ms/step\n",
      "4/4 [==============================] - 1s 140ms/step\n",
      "4/4 [==============================] - 1s 144ms/step\n",
      "4/4 [==============================] - 1s 131ms/step\n",
      "4/4 [==============================] - 1s 126ms/step\n",
      "4/4 [==============================] - 1s 128ms/step\n",
      "4/4 [==============================] - 1s 130ms/step\n",
      "4/4 [==============================] - 0s 111ms/step\n",
      "4/4 [==============================] - 0s 115ms/step\n",
      "4/4 [==============================] - 0s 112ms/step\n",
      "4/4 [==============================] - 0s 115ms/step\n",
      "4/4 [==============================] - 0s 116ms/step\n",
      "4/4 [==============================] - 0s 113ms/step\n",
      "4/4 [==============================] - 0s 118ms/step\n",
      "4/4 [==============================] - 0s 116ms/step\n",
      "4/4 [==============================] - 0s 114ms/step\n",
      "4/4 [==============================] - 1s 123ms/step\n",
      "4/4 [==============================] - 1s 128ms/step\n",
      "4/4 [==============================] - 1s 131ms/step\n",
      "4/4 [==============================] - 1s 125ms/step\n",
      "4/4 [==============================] - 1s 134ms/step\n",
      "4/4 [==============================] - 1s 126ms/step\n",
      "4/4 [==============================] - 0s 115ms/step\n",
      "4/4 [==============================] - 0s 113ms/step\n",
      "4/4 [==============================] - 0s 116ms/step\n",
      "1/1 [==============================] - 0s 89ms/step\n"
     ]
    },
    {
     "data": {
      "application/vnd.jupyter.widget-view+json": {
       "model_id": "",
       "version_major": 2,
       "version_minor": 0
      },
      "text/plain": [
       "  0%|          | 0/40 [00:00<?, ?it/s]"
      ]
     },
     "metadata": {},
     "output_type": "display_data"
    },
    {
     "name": "stdout",
     "output_type": "stream",
     "text": [
      "4/4 [==============================] - 0s 114ms/step\n",
      "4/4 [==============================] - 1s 121ms/step\n",
      "4/4 [==============================] - 1s 123ms/step\n",
      "4/4 [==============================] - 1s 119ms/step\n",
      "4/4 [==============================] - 0s 120ms/step\n",
      "4/4 [==============================] - 1s 124ms/step\n",
      "4/4 [==============================] - 1s 126ms/step\n",
      "4/4 [==============================] - 1s 122ms/step\n",
      "4/4 [==============================] - 1s 125ms/step\n",
      "4/4 [==============================] - 1s 123ms/step\n",
      "4/4 [==============================] - 1s 129ms/step\n",
      "4/4 [==============================] - 0s 117ms/step\n",
      "4/4 [==============================] - 0s 117ms/step\n",
      "4/4 [==============================] - 0s 115ms/step\n",
      "4/4 [==============================] - 0s 119ms/step\n",
      "4/4 [==============================] - 1s 121ms/step\n",
      "4/4 [==============================] - 1s 123ms/step\n",
      "4/4 [==============================] - 0s 120ms/step\n",
      "4/4 [==============================] - 1s 126ms/step\n",
      "4/4 [==============================] - 1s 126ms/step\n",
      "4/4 [==============================] - 1s 125ms/step\n",
      "4/4 [==============================] - 1s 126ms/step\n",
      "4/4 [==============================] - 1s 133ms/step\n",
      "4/4 [==============================] - 1s 126ms/step\n",
      "4/4 [==============================] - 1s 134ms/step\n",
      "4/4 [==============================] - 1s 121ms/step\n",
      "4/4 [==============================] - 1s 124ms/step\n",
      "4/4 [==============================] - 1s 121ms/step\n",
      "4/4 [==============================] - 1s 125ms/step\n",
      "4/4 [==============================] - 0s 116ms/step\n",
      "4/4 [==============================] - 0s 115ms/step\n",
      "4/4 [==============================] - 0s 116ms/step\n",
      "4/4 [==============================] - 0s 116ms/step\n",
      "4/4 [==============================] - 1s 126ms/step\n",
      "4/4 [==============================] - 1s 140ms/step\n",
      "4/4 [==============================] - 1s 129ms/step\n",
      "4/4 [==============================] - 1s 130ms/step\n",
      "4/4 [==============================] - 1s 133ms/step\n",
      "4/4 [==============================] - 1s 136ms/step\n",
      "4/4 [==============================] - 1s 124ms/step\n",
      "1/1 [==============================] - 0s 90ms/step\n"
     ]
    },
    {
     "data": {
      "application/vnd.jupyter.widget-view+json": {
       "model_id": "",
       "version_major": 2,
       "version_minor": 0
      },
      "text/plain": [
       "  0%|          | 0/40 [00:00<?, ?it/s]"
      ]
     },
     "metadata": {},
     "output_type": "display_data"
    },
    {
     "name": "stdout",
     "output_type": "stream",
     "text": [
      "4/4 [==============================] - 1s 128ms/step\n",
      "4/4 [==============================] - 0s 117ms/step\n",
      "4/4 [==============================] - 1s 122ms/step\n",
      "4/4 [==============================] - 1s 118ms/step\n",
      "4/4 [==============================] - 0s 118ms/step\n",
      "4/4 [==============================] - 0s 113ms/step\n",
      "4/4 [==============================] - 1s 121ms/step\n",
      "4/4 [==============================] - 0s 120ms/step\n",
      "4/4 [==============================] - 1s 126ms/step\n",
      "4/4 [==============================] - 1s 132ms/step\n",
      "4/4 [==============================] - 1s 132ms/step\n",
      "4/4 [==============================] - 1s 133ms/step\n",
      "4/4 [==============================] - 1s 139ms/step\n",
      "4/4 [==============================] - 1s 123ms/step\n",
      "4/4 [==============================] - 0s 116ms/step\n",
      "4/4 [==============================] - 1s 121ms/step\n",
      "4/4 [==============================] - 0s 117ms/step\n",
      "4/4 [==============================] - 1s 132ms/step\n",
      "4/4 [==============================] - 1s 145ms/step\n",
      "4/4 [==============================] - 0s 117ms/step\n",
      "4/4 [==============================] - 1s 129ms/step\n",
      "4/4 [==============================] - 1s 131ms/step\n",
      "4/4 [==============================] - 1s 132ms/step\n",
      "4/4 [==============================] - 1s 132ms/step\n",
      "4/4 [==============================] - 1s 132ms/step\n",
      "4/4 [==============================] - 1s 131ms/step\n",
      "4/4 [==============================] - 1s 134ms/step\n",
      "4/4 [==============================] - 1s 122ms/step\n",
      "4/4 [==============================] - 1s 120ms/step\n",
      "4/4 [==============================] - 1s 128ms/step\n",
      "4/4 [==============================] - 1s 126ms/step\n",
      "4/4 [==============================] - 1s 120ms/step\n",
      "4/4 [==============================] - 1s 120ms/step\n",
      "4/4 [==============================] - 0s 116ms/step\n",
      "4/4 [==============================] - 0s 116ms/step\n",
      "4/4 [==============================] - 0s 116ms/step\n",
      "4/4 [==============================] - 1s 128ms/step\n",
      "4/4 [==============================] - 1s 135ms/step\n",
      "4/4 [==============================] - 1s 129ms/step\n",
      "4/4 [==============================] - 1s 146ms/step\n",
      "1/1 [==============================] - 0s 98ms/step\n"
     ]
    },
    {
     "data": {
      "application/vnd.jupyter.widget-view+json": {
       "model_id": "",
       "version_major": 2,
       "version_minor": 0
      },
      "text/plain": [
       "  0%|          | 0/40 [00:00<?, ?it/s]"
      ]
     },
     "metadata": {},
     "output_type": "display_data"
    },
    {
     "name": "stdout",
     "output_type": "stream",
     "text": [
      "4/4 [==============================] - 0s 121ms/step\n",
      "4/4 [==============================] - 1s 122ms/step\n",
      "4/4 [==============================] - 1s 126ms/step\n",
      "4/4 [==============================] - 1s 126ms/step\n",
      "4/4 [==============================] - 1s 122ms/step\n",
      "4/4 [==============================] - 0s 115ms/step\n",
      "4/4 [==============================] - 1s 129ms/step\n",
      "4/4 [==============================] - 1s 122ms/step\n",
      "4/4 [==============================] - 1s 123ms/step\n",
      "4/4 [==============================] - 1s 134ms/step\n",
      "4/4 [==============================] - 1s 134ms/step\n",
      "4/4 [==============================] - 1s 135ms/step\n",
      "4/4 [==============================] - 1s 131ms/step\n",
      "4/4 [==============================] - 1s 132ms/step\n",
      "4/4 [==============================] - 1s 128ms/step\n",
      "4/4 [==============================] - 0s 116ms/step\n",
      "4/4 [==============================] - 1s 140ms/step\n",
      "4/4 [==============================] - 1s 146ms/step\n",
      "4/4 [==============================] - 0s 115ms/step\n",
      "4/4 [==============================] - 0s 113ms/step\n",
      "4/4 [==============================] - 0s 117ms/step\n",
      "4/4 [==============================] - 0s 115ms/step\n",
      "4/4 [==============================] - 0s 120ms/step\n",
      "4/4 [==============================] - 1s 139ms/step\n",
      "4/4 [==============================] - 1s 141ms/step\n",
      "4/4 [==============================] - 1s 139ms/step\n",
      "4/4 [==============================] - 1s 143ms/step\n",
      "4/4 [==============================] - 1s 142ms/step\n",
      "4/4 [==============================] - 1s 148ms/step\n",
      "4/4 [==============================] - 1s 130ms/step\n",
      "4/4 [==============================] - 1s 129ms/step\n",
      "4/4 [==============================] - 1s 119ms/step\n",
      "4/4 [==============================] - 1s 120ms/step\n",
      "4/4 [==============================] - 0s 118ms/step\n",
      "4/4 [==============================] - 0s 117ms/step\n",
      "4/4 [==============================] - 1s 124ms/step\n",
      "4/4 [==============================] - 1s 122ms/step\n",
      "4/4 [==============================] - 1s 129ms/step\n",
      "4/4 [==============================] - 1s 131ms/step\n",
      "4/4 [==============================] - 1s 128ms/step\n",
      "1/1 [==============================] - 0s 100ms/step\n"
     ]
    },
    {
     "data": {
      "image/png": "[encoded data removed]",
      "text/plain": [
       "<Figure size 800x400 with 32 Axes>"
      ]
     },
     "metadata": {},
     "output_type": "display_data"
    },
    {
     "name": "stdout",
     "output_type": "stream",
     "text": [
      "Якщо генератор і дескрімінатор сбалансовані, точність генератора прямує в 0 або 1:\n",
      "0.5044108072916667\n"
     ]
    },
    {
     "data": {
      "application/vnd.jupyter.widget-view+json": {
       "model_id": "",
       "version_major": 2,
       "version_minor": 0
      },
      "text/plain": [
       "  0%|          | 0/40 [00:00<?, ?it/s]"
      ]
     },
     "metadata": {},
     "output_type": "display_data"
    },
    {
     "name": "stdout",
     "output_type": "stream",
     "text": [
      "4/4 [==============================] - 1s 125ms/step\n",
      "4/4 [==============================] - 0s 113ms/step\n",
      "4/4 [==============================] - 0s 118ms/step\n",
      "4/4 [==============================] - 0s 116ms/step\n",
      "4/4 [==============================] - 0s 116ms/step\n",
      "4/4 [==============================] - 0s 118ms/step\n",
      "4/4 [==============================] - 1s 119ms/step\n",
      "4/4 [==============================] - 1s 121ms/step\n",
      "4/4 [==============================] - 1s 122ms/step\n",
      "4/4 [==============================] - 1s 125ms/step\n",
      "4/4 [==============================] - 1s 122ms/step\n",
      "4/4 [==============================] - 1s 134ms/step\n",
      "4/4 [==============================] - 1s 148ms/step\n",
      "4/4 [==============================] - 1s 134ms/step\n",
      "4/4 [==============================] - 1s 130ms/step\n",
      "4/4 [==============================] - 1s 130ms/step\n",
      "4/4 [==============================] - 1s 124ms/step\n",
      "4/4 [==============================] - 1s 121ms/step\n",
      "4/4 [==============================] - 1s 121ms/step\n",
      "4/4 [==============================] - 0s 117ms/step\n",
      "4/4 [==============================] - 1s 131ms/step\n",
      "4/4 [==============================] - 1s 124ms/step\n",
      "4/4 [==============================] - 1s 121ms/step\n",
      "4/4 [==============================] - 1s 120ms/step\n",
      "4/4 [==============================] - 1s 129ms/step\n",
      "4/4 [==============================] - 1s 133ms/step\n",
      "4/4 [==============================] - 1s 134ms/step\n",
      "4/4 [==============================] - 1s 167ms/step\n",
      "4/4 [==============================] - 1s 119ms/step\n",
      "4/4 [==============================] - 1s 122ms/step\n",
      "4/4 [==============================] - 0s 119ms/step\n",
      "4/4 [==============================] - 0s 116ms/step\n",
      "4/4 [==============================] - 0s 111ms/step\n",
      "4/4 [==============================] - 1s 127ms/step\n",
      "4/4 [==============================] - 1s 130ms/step\n",
      "4/4 [==============================] - 1s 127ms/step\n",
      "4/4 [==============================] - 1s 127ms/step\n",
      "4/4 [==============================] - 1s 129ms/step\n",
      "4/4 [==============================] - 1s 134ms/step\n",
      "4/4 [==============================] - 1s 138ms/step\n",
      "1/1 [==============================] - 0s 99ms/step\n"
     ]
    },
    {
     "data": {
      "application/vnd.jupyter.widget-view+json": {
       "model_id": "",
       "version_major": 2,
       "version_minor": 0
      },
      "text/plain": [
       "  0%|          | 0/40 [00:00<?, ?it/s]"
      ]
     },
     "metadata": {},
     "output_type": "display_data"
    },
    {
     "name": "stdout",
     "output_type": "stream",
     "text": [
      "4/4 [==============================] - 1s 131ms/step\n",
      "4/4 [==============================] - 1s 137ms/step\n",
      "4/4 [==============================] - 1s 138ms/step\n",
      "4/4 [==============================] - 1s 148ms/step\n",
      "4/4 [==============================] - 0s 117ms/step\n",
      "4/4 [==============================] - 1s 119ms/step\n",
      "4/4 [==============================] - 1s 143ms/step\n",
      "4/4 [==============================] - 1s 119ms/step\n",
      "4/4 [==============================] - 1s 121ms/step\n",
      "4/4 [==============================] - 1s 119ms/step\n",
      "4/4 [==============================] - 0s 116ms/step\n",
      "4/4 [==============================] - 0s 117ms/step\n",
      "4/4 [==============================] - 1s 124ms/step\n",
      "4/4 [==============================] - 1s 129ms/step\n",
      "4/4 [==============================] - 1s 129ms/step\n",
      "4/4 [==============================] - 1s 134ms/step\n",
      "4/4 [==============================] - 1s 133ms/step\n",
      "4/4 [==============================] - 1s 119ms/step\n",
      "4/4 [==============================] - 0s 117ms/step\n",
      "4/4 [==============================] - 1s 120ms/step\n",
      "4/4 [==============================] - 1s 118ms/step\n",
      "4/4 [==============================] - 1s 120ms/step\n",
      "4/4 [==============================] - 1s 120ms/step\n",
      "4/4 [==============================] - 1s 121ms/step\n",
      "4/4 [==============================] - 1s 130ms/step\n",
      "4/4 [==============================] - 1s 133ms/step\n",
      "4/4 [==============================] - 1s 139ms/step\n",
      "4/4 [==============================] - 1s 131ms/step\n",
      "4/4 [==============================] - 1s 125ms/step\n",
      "4/4 [==============================] - 1s 135ms/step\n",
      "4/4 [==============================] - 1s 133ms/step\n",
      "4/4 [==============================] - 1s 121ms/step\n",
      "4/4 [==============================] - 1s 120ms/step\n",
      "4/4 [==============================] - 1s 127ms/step\n",
      "4/4 [==============================] - 1s 127ms/step\n",
      "4/4 [==============================] - 0s 118ms/step\n",
      "4/4 [==============================] - 1s 120ms/step\n",
      "4/4 [==============================] - 1s 125ms/step\n",
      "4/4 [==============================] - 1s 121ms/step\n",
      "4/4 [==============================] - 1s 138ms/step\n",
      "1/1 [==============================] - 0s 112ms/step\n"
     ]
    },
    {
     "data": {
      "application/vnd.jupyter.widget-view+json": {
       "model_id": "",
       "version_major": 2,
       "version_minor": 0
      },
      "text/plain": [
       "  0%|          | 0/40 [00:00<?, ?it/s]"
      ]
     },
     "metadata": {},
     "output_type": "display_data"
    },
    {
     "name": "stdout",
     "output_type": "stream",
     "text": [
      "4/4 [==============================] - 1s 148ms/step\n",
      "4/4 [==============================] - 1s 156ms/step\n",
      "4/4 [==============================] - 1s 146ms/step\n",
      "4/4 [==============================] - 1s 142ms/step\n",
      "4/4 [==============================] - 1s 132ms/step\n",
      "4/4 [==============================] - 1s 137ms/step\n",
      "4/4 [==============================] - 1s 129ms/step\n",
      "4/4 [==============================] - 1s 121ms/step\n",
      "4/4 [==============================] - 0s 118ms/step\n",
      "4/4 [==============================] - 0s 116ms/step\n",
      "4/4 [==============================] - 1s 122ms/step\n",
      "4/4 [==============================] - 1s 129ms/step\n",
      "4/4 [==============================] - 1s 136ms/step\n",
      "4/4 [==============================] - 1s 139ms/step\n",
      "4/4 [==============================] - 1s 136ms/step\n",
      "4/4 [==============================] - 1s 136ms/step\n",
      "4/4 [==============================] - 1s 140ms/step\n",
      "4/4 [==============================] - 1s 124ms/step\n",
      "4/4 [==============================] - 1s 129ms/step\n",
      "4/4 [==============================] - 1s 125ms/step\n",
      "4/4 [==============================] - 1s 121ms/step\n",
      "4/4 [==============================] - 1s 122ms/step\n",
      "4/4 [==============================] - 1s 119ms/step\n",
      "4/4 [==============================] - 1s 124ms/step\n",
      "4/4 [==============================] - 1s 123ms/step\n",
      "4/4 [==============================] - 1s 137ms/step\n",
      "4/4 [==============================] - 1s 139ms/step\n",
      "4/4 [==============================] - 1s 139ms/step\n",
      "4/4 [==============================] - 1s 138ms/step\n",
      "4/4 [==============================] - 1s 133ms/step\n",
      "4/4 [==============================] - 1s 125ms/step\n",
      "4/4 [==============================] - 1s 125ms/step\n",
      "4/4 [==============================] - 1s 126ms/step\n",
      "4/4 [==============================] - 1s 124ms/step\n",
      "4/4 [==============================] - 1s 130ms/step\n",
      "4/4 [==============================] - 1s 124ms/step\n",
      "4/4 [==============================] - 1s 122ms/step\n",
      "4/4 [==============================] - 1s 123ms/step\n",
      "4/4 [==============================] - 1s 129ms/step\n",
      "4/4 [==============================] - 1s 136ms/step\n",
      "1/1 [==============================] - 0s 100ms/step\n"
     ]
    },
    {
     "data": {
      "application/vnd.jupyter.widget-view+json": {
       "model_id": "",
       "version_major": 2,
       "version_minor": 0
      },
      "text/plain": [
       "  0%|          | 0/40 [00:00<?, ?it/s]"
      ]
     },
     "metadata": {},
     "output_type": "display_data"
    },
    {
     "name": "stdout",
     "output_type": "stream",
     "text": [
      "4/4 [==============================] - 1s 143ms/step\n",
      "4/4 [==============================] - 1s 136ms/step\n",
      "4/4 [==============================] - 1s 126ms/step\n",
      "4/4 [==============================] - 1s 145ms/step\n",
      "4/4 [==============================] - 1s 128ms/step\n",
      "4/4 [==============================] - 1s 124ms/step\n",
      "4/4 [==============================] - 1s 132ms/step\n",
      "4/4 [==============================] - 1s 129ms/step\n",
      "4/4 [==============================] - 1s 126ms/step\n",
      "4/4 [==============================] - 1s 124ms/step\n",
      "4/4 [==============================] - 1s 136ms/step\n",
      "4/4 [==============================] - 1s 141ms/step\n",
      "4/4 [==============================] - 1s 139ms/step\n",
      "4/4 [==============================] - 1s 138ms/step\n",
      "4/4 [==============================] - 1s 137ms/step\n",
      "4/4 [==============================] - 1s 126ms/step\n",
      "4/4 [==============================] - 1s 130ms/step\n",
      "4/4 [==============================] - 1s 128ms/step\n",
      "4/4 [==============================] - 1s 124ms/step\n",
      "4/4 [==============================] - 1s 126ms/step\n",
      "4/4 [==============================] - 1s 127ms/step\n",
      "4/4 [==============================] - 1s 129ms/step\n",
      "4/4 [==============================] - 1s 128ms/step\n",
      "4/4 [==============================] - 1s 127ms/step\n",
      "4/4 [==============================] - 1s 145ms/step\n",
      "4/4 [==============================] - 1s 135ms/step\n",
      "4/4 [==============================] - 1s 141ms/step\n",
      "4/4 [==============================] - 1s 140ms/step\n",
      "4/4 [==============================] - 1s 140ms/step\n",
      "4/4 [==============================] - 1s 127ms/step\n",
      "4/4 [==============================] - 1s 125ms/step\n",
      "4/4 [==============================] - 1s 126ms/step\n",
      "4/4 [==============================] - 1s 126ms/step\n",
      "4/4 [==============================] - 1s 126ms/step\n",
      "4/4 [==============================] - 1s 131ms/step\n",
      "4/4 [==============================] - 1s 126ms/step\n",
      "4/4 [==============================] - 1s 130ms/step\n",
      "4/4 [==============================] - 1s 138ms/step\n",
      "4/4 [==============================] - 1s 146ms/step\n",
      "4/4 [==============================] - 1s 143ms/step\n",
      "1/1 [==============================] - 0s 98ms/step\n"
     ]
    },
    {
     "data": {
      "application/vnd.jupyter.widget-view+json": {
       "model_id": "",
       "version_major": 2,
       "version_minor": 0
      },
      "text/plain": [
       "  0%|          | 0/40 [00:00<?, ?it/s]"
      ]
     },
     "metadata": {},
     "output_type": "display_data"
    },
    {
     "name": "stdout",
     "output_type": "stream",
     "text": [
      "4/4 [==============================] - 1s 128ms/step\n",
      "4/4 [==============================] - 1s 124ms/step\n",
      "4/4 [==============================] - 1s 126ms/step\n",
      "4/4 [==============================] - 1s 262ms/step\n",
      "4/4 [==============================] - 1s 130ms/step\n",
      "4/4 [==============================] - 1s 125ms/step\n",
      "4/4 [==============================] - 1s 129ms/step\n",
      "4/4 [==============================] - 1s 128ms/step\n",
      "4/4 [==============================] - 1s 132ms/step\n",
      "4/4 [==============================] - 1s 144ms/step\n",
      "4/4 [==============================] - 1s 142ms/step\n",
      "4/4 [==============================] - 1s 139ms/step\n",
      "4/4 [==============================] - 1s 142ms/step\n",
      "4/4 [==============================] - 1s 131ms/step\n",
      "4/4 [==============================] - 1s 129ms/step\n",
      "4/4 [==============================] - 1s 128ms/step\n",
      "4/4 [==============================] - 1s 123ms/step\n",
      "4/4 [==============================] - 1s 136ms/step\n",
      "4/4 [==============================] - 1s 132ms/step\n",
      "4/4 [==============================] - 1s 131ms/step\n",
      "4/4 [==============================] - 1s 133ms/step\n",
      "4/4 [==============================] - 1s 140ms/step\n",
      "4/4 [==============================] - 1s 143ms/step\n",
      "4/4 [==============================] - 1s 144ms/step\n",
      "4/4 [==============================] - 1s 141ms/step\n",
      "4/4 [==============================] - 1s 138ms/step\n",
      "4/4 [==============================] - 1s 127ms/step\n",
      "4/4 [==============================] - 1s 134ms/step\n",
      "4/4 [==============================] - 1s 130ms/step\n",
      "4/4 [==============================] - 1s 132ms/step\n",
      "4/4 [==============================] - 1s 131ms/step\n",
      "4/4 [==============================] - 1s 125ms/step\n",
      "4/4 [==============================] - 1s 130ms/step\n",
      "4/4 [==============================] - 1s 139ms/step\n",
      "4/4 [==============================] - 1s 146ms/step\n",
      "4/4 [==============================] - 1s 140ms/step\n",
      "4/4 [==============================] - 1s 143ms/step\n",
      "4/4 [==============================] - 1s 143ms/step\n",
      "4/4 [==============================] - 1s 150ms/step\n",
      "4/4 [==============================] - 1s 128ms/step\n",
      "1/1 [==============================] - 0s 98ms/step\n"
     ]
    },
    {
     "data": {
      "application/vnd.jupyter.widget-view+json": {
       "model_id": "",
       "version_major": 2,
       "version_minor": 0
      },
      "text/plain": [
       "  0%|          | 0/40 [00:00<?, ?it/s]"
      ]
     },
     "metadata": {},
     "output_type": "display_data"
    },
    {
     "name": "stdout",
     "output_type": "stream",
     "text": [
      "4/4 [==============================] - 1s 121ms/step\n",
      "4/4 [==============================] - 1s 128ms/step\n",
      "4/4 [==============================] - 1s 136ms/step\n",
      "4/4 [==============================] - 1s 141ms/step\n",
      "4/4 [==============================] - 1s 138ms/step\n",
      "4/4 [==============================] - 1s 135ms/step\n",
      "4/4 [==============================] - 1s 131ms/step\n",
      "4/4 [==============================] - 1s 140ms/step\n",
      "4/4 [==============================] - 1s 143ms/step\n",
      "4/4 [==============================] - 1s 140ms/step\n",
      "4/4 [==============================] - 1s 140ms/step\n",
      "4/4 [==============================] - 1s 138ms/step\n",
      "4/4 [==============================] - 1s 126ms/step\n",
      "4/4 [==============================] - 1s 128ms/step\n",
      "4/4 [==============================] - 1s 124ms/step\n",
      "4/4 [==============================] - 1s 121ms/step\n",
      "4/4 [==============================] - 1s 123ms/step\n",
      "4/4 [==============================] - 1s 123ms/step\n",
      "4/4 [==============================] - 1s 128ms/step\n",
      "4/4 [==============================] - 1s 130ms/step\n",
      "4/4 [==============================] - 1s 138ms/step\n",
      "4/4 [==============================] - 1s 136ms/step\n",
      "4/4 [==============================] - 1s 135ms/step\n",
      "4/4 [==============================] - 1s 150ms/step\n",
      "4/4 [==============================] - 1s 127ms/step\n",
      "4/4 [==============================] - 1s 130ms/step\n",
      "4/4 [==============================] - 1s 131ms/step\n",
      "4/4 [==============================] - 1s 128ms/step\n",
      "4/4 [==============================] - 1s 128ms/step\n",
      "4/4 [==============================] - 1s 131ms/step\n",
      "4/4 [==============================] - 1s 139ms/step\n",
      "4/4 [==============================] - 1s 129ms/step\n",
      "4/4 [==============================] - 1s 135ms/step\n",
      "4/4 [==============================] - 1s 152ms/step\n",
      "4/4 [==============================] - 1s 145ms/step\n",
      "4/4 [==============================] - 1s 138ms/step\n",
      "4/4 [==============================] - 1s 137ms/step\n",
      "4/4 [==============================] - 1s 133ms/step\n",
      "4/4 [==============================] - 1s 156ms/step\n",
      "4/4 [==============================] - 0s 112ms/step\n",
      "1/1 [==============================] - 0s 84ms/step\n"
     ]
    },
    {
     "data": {
      "application/vnd.jupyter.widget-view+json": {
       "model_id": "",
       "version_major": 2,
       "version_minor": 0
      },
      "text/plain": [
       "  0%|          | 0/40 [00:00<?, ?it/s]"
      ]
     },
     "metadata": {},
     "output_type": "display_data"
    },
    {
     "name": "stdout",
     "output_type": "stream",
     "text": [
      "4/4 [==============================] - 0s 120ms/step\n",
      "4/4 [==============================] - 0s 113ms/step\n",
      "4/4 [==============================] - 0s 110ms/step\n",
      "4/4 [==============================] - 0s 112ms/step\n",
      "4/4 [==============================] - 0s 116ms/step\n",
      "4/4 [==============================] - 0s 117ms/step\n",
      "4/4 [==============================] - 1s 119ms/step\n",
      "4/4 [==============================] - 1s 124ms/step\n",
      "4/4 [==============================] - 1s 120ms/step\n",
      "4/4 [==============================] - 1s 120ms/step\n",
      "4/4 [==============================] - 0s 119ms/step\n",
      "4/4 [==============================] - 0s 111ms/step\n",
      "4/4 [==============================] - 0s 110ms/step\n",
      "4/4 [==============================] - 1s 123ms/step\n",
      "4/4 [==============================] - 1s 121ms/step\n",
      "4/4 [==============================] - 0s 120ms/step\n",
      "4/4 [==============================] - 1s 123ms/step\n",
      "4/4 [==============================] - 1s 138ms/step\n",
      "4/4 [==============================] - 1s 149ms/step\n",
      "4/4 [==============================] - 1s 151ms/step\n",
      "4/4 [==============================] - 1s 153ms/step\n",
      "4/4 [==============================] - 1s 154ms/step\n",
      "4/4 [==============================] - 1s 153ms/step\n",
      "4/4 [==============================] - 1s 147ms/step\n",
      "4/4 [==============================] - 1s 148ms/step\n",
      "4/4 [==============================] - 1s 139ms/step\n",
      "4/4 [==============================] - 1s 141ms/step\n",
      "4/4 [==============================] - 1s 140ms/step\n",
      "4/4 [==============================] - 1s 135ms/step\n",
      "4/4 [==============================] - 1s 129ms/step\n",
      "4/4 [==============================] - 1s 130ms/step\n",
      "4/4 [==============================] - 1s 124ms/step\n",
      "4/4 [==============================] - 1s 142ms/step\n",
      "4/4 [==============================] - 1s 143ms/step\n",
      "4/4 [==============================] - 1s 141ms/step\n",
      "4/4 [==============================] - 1s 143ms/step\n",
      "4/4 [==============================] - 1s 139ms/step\n",
      "4/4 [==============================] - 1s 129ms/step\n",
      "4/4 [==============================] - 1s 132ms/step\n",
      "4/4 [==============================] - 1s 127ms/step\n",
      "1/1 [==============================] - 0s 100ms/step\n"
     ]
    },
    {
     "data": {
      "application/vnd.jupyter.widget-view+json": {
       "model_id": "",
       "version_major": 2,
       "version_minor": 0
      },
      "text/plain": [
       "  0%|          | 0/40 [00:00<?, ?it/s]"
      ]
     },
     "metadata": {},
     "output_type": "display_data"
    },
    {
     "name": "stdout",
     "output_type": "stream",
     "text": [
      "4/4 [==============================] - 1s 128ms/step\n",
      "4/4 [==============================] - 1s 130ms/step\n",
      "4/4 [==============================] - 1s 127ms/step\n",
      "4/4 [==============================] - 1s 125ms/step\n",
      "4/4 [==============================] - 1s 127ms/step\n",
      "4/4 [==============================] - 1s 147ms/step\n",
      "4/4 [==============================] - 1s 144ms/step\n",
      "4/4 [==============================] - 1s 140ms/step\n",
      "4/4 [==============================] - 1s 151ms/step\n",
      "4/4 [==============================] - 1s 136ms/step\n",
      "4/4 [==============================] - 1s 132ms/step\n",
      "4/4 [==============================] - 1s 132ms/step\n",
      "4/4 [==============================] - 1s 127ms/step\n",
      "4/4 [==============================] - 1s 132ms/step\n",
      "4/4 [==============================] - 1s 130ms/step\n",
      "4/4 [==============================] - 1s 135ms/step\n",
      "4/4 [==============================] - 1s 128ms/step\n",
      "4/4 [==============================] - 1s 126ms/step\n",
      "4/4 [==============================] - 1s 147ms/step\n",
      "4/4 [==============================] - 1s 140ms/step\n",
      "4/4 [==============================] - 1s 142ms/step\n",
      "4/4 [==============================] - 1s 144ms/step\n",
      "4/4 [==============================] - 1s 135ms/step\n",
      "4/4 [==============================] - 1s 130ms/step\n",
      "4/4 [==============================] - 1s 132ms/step\n",
      "4/4 [==============================] - 1s 132ms/step\n",
      "4/4 [==============================] - 1s 133ms/step\n",
      "4/4 [==============================] - 1s 132ms/step\n",
      "4/4 [==============================] - 1s 134ms/step\n",
      "4/4 [==============================] - 1s 132ms/step\n",
      "4/4 [==============================] - 1s 132ms/step\n",
      "4/4 [==============================] - 1s 144ms/step\n",
      "4/4 [==============================] - 1s 150ms/step\n",
      "4/4 [==============================] - 1s 147ms/step\n",
      "4/4 [==============================] - 1s 148ms/step\n",
      "4/4 [==============================] - 1s 134ms/step\n",
      "4/4 [==============================] - 1s 136ms/step\n",
      "4/4 [==============================] - 1s 128ms/step\n",
      "4/4 [==============================] - 1s 134ms/step\n",
      "4/4 [==============================] - 1s 126ms/step\n",
      "1/1 [==============================] - 0s 98ms/step\n"
     ]
    },
    {
     "data": {
      "application/vnd.jupyter.widget-view+json": {
       "model_id": "",
       "version_major": 2,
       "version_minor": 0
      },
      "text/plain": [
       "  0%|          | 0/40 [00:00<?, ?it/s]"
      ]
     },
     "metadata": {},
     "output_type": "display_data"
    },
    {
     "name": "stdout",
     "output_type": "stream",
     "text": [
      "4/4 [==============================] - 1s 123ms/step\n",
      "4/4 [==============================] - 1s 130ms/step\n",
      "4/4 [==============================] - 1s 137ms/step\n",
      "4/4 [==============================] - 1s 145ms/step\n",
      "4/4 [==============================] - 1s 143ms/step\n",
      "4/4 [==============================] - 1s 170ms/step\n",
      "4/4 [==============================] - 1s 151ms/step\n",
      "4/4 [==============================] - 1s 138ms/step\n",
      "4/4 [==============================] - 1s 140ms/step\n",
      "4/4 [==============================] - 1s 132ms/step\n",
      "4/4 [==============================] - 1s 132ms/step\n",
      "4/4 [==============================] - 1s 130ms/step\n",
      "4/4 [==============================] - 1s 128ms/step\n",
      "4/4 [==============================] - 1s 133ms/step\n",
      "4/4 [==============================] - 1s 131ms/step\n",
      "4/4 [==============================] - 1s 154ms/step\n",
      "4/4 [==============================] - 1s 144ms/step\n",
      "4/4 [==============================] - 1s 144ms/step\n",
      "4/4 [==============================] - 1s 154ms/step\n",
      "4/4 [==============================] - 1s 155ms/step\n",
      "4/4 [==============================] - 1s 133ms/step\n",
      "4/4 [==============================] - 1s 137ms/step\n",
      "4/4 [==============================] - 1s 135ms/step\n",
      "4/4 [==============================] - 1s 136ms/step\n",
      "4/4 [==============================] - 1s 134ms/step\n",
      "4/4 [==============================] - 1s 131ms/step\n",
      "4/4 [==============================] - 1s 136ms/step\n",
      "4/4 [==============================] - 1s 129ms/step\n",
      "4/4 [==============================] - 1s 153ms/step\n",
      "4/4 [==============================] - 1s 147ms/step\n",
      "4/4 [==============================] - 1s 151ms/step\n",
      "4/4 [==============================] - 1s 145ms/step\n",
      "4/4 [==============================] - 1s 139ms/step\n",
      "4/4 [==============================] - 1s 133ms/step\n",
      "4/4 [==============================] - 1s 129ms/step\n",
      "4/4 [==============================] - 1s 135ms/step\n",
      "4/4 [==============================] - 1s 135ms/step\n",
      "4/4 [==============================] - 1s 132ms/step\n",
      "4/4 [==============================] - 1s 131ms/step\n",
      "4/4 [==============================] - 1s 131ms/step\n",
      "1/1 [==============================] - 0s 101ms/step\n"
     ]
    },
    {
     "data": {
      "application/vnd.jupyter.widget-view+json": {
       "model_id": "",
       "version_major": 2,
       "version_minor": 0
      },
      "text/plain": [
       "  0%|          | 0/40 [00:00<?, ?it/s]"
      ]
     },
     "metadata": {},
     "output_type": "display_data"
    },
    {
     "name": "stdout",
     "output_type": "stream",
     "text": [
      "4/4 [==============================] - 1s 145ms/step\n",
      "4/4 [==============================] - 1s 148ms/step\n",
      "4/4 [==============================] - 1s 145ms/step\n",
      "4/4 [==============================] - 1s 158ms/step\n",
      "4/4 [==============================] - 1s 147ms/step\n",
      "4/4 [==============================] - 1s 136ms/step\n",
      "4/4 [==============================] - 1s 136ms/step\n",
      "4/4 [==============================] - 1s 129ms/step\n",
      "4/4 [==============================] - 1s 131ms/step\n",
      "4/4 [==============================] - 1s 139ms/step\n",
      "4/4 [==============================] - 1s 134ms/step\n",
      "4/4 [==============================] - 1s 133ms/step\n",
      "4/4 [==============================] - 1s 133ms/step\n",
      "4/4 [==============================] - 1s 146ms/step\n",
      "4/4 [==============================] - 1s 153ms/step\n",
      "4/4 [==============================] - 1s 145ms/step\n",
      "4/4 [==============================] - 1s 151ms/step\n",
      "4/4 [==============================] - 1s 138ms/step\n",
      "4/4 [==============================] - 1s 133ms/step\n",
      "4/4 [==============================] - 1s 131ms/step\n",
      "4/4 [==============================] - 1s 131ms/step\n",
      "4/4 [==============================] - 1s 136ms/step\n",
      "4/4 [==============================] - 1s 175ms/step\n",
      "4/4 [==============================] - 1s 135ms/step\n",
      "4/4 [==============================] - 1s 134ms/step\n",
      "4/4 [==============================] - 1s 135ms/step\n",
      "4/4 [==============================] - 1s 153ms/step\n",
      "4/4 [==============================] - 1s 153ms/step\n",
      "4/4 [==============================] - 1s 153ms/step\n",
      "4/4 [==============================] - 1s 152ms/step\n",
      "4/4 [==============================] - 1s 130ms/step\n",
      "4/4 [==============================] - 1s 133ms/step\n",
      "4/4 [==============================] - 1s 135ms/step\n",
      "4/4 [==============================] - 1s 138ms/step\n",
      "4/4 [==============================] - 1s 137ms/step\n",
      "4/4 [==============================] - 1s 139ms/step\n",
      "4/4 [==============================] - 1s 139ms/step\n",
      "4/4 [==============================] - 1s 141ms/step\n",
      "4/4 [==============================] - 1s 148ms/step\n",
      "4/4 [==============================] - 1s 148ms/step\n",
      "1/1 [==============================] - 0s 115ms/step\n"
     ]
    },
    {
     "data": {
      "application/vnd.jupyter.widget-view+json": {
       "model_id": "",
       "version_major": 2,
       "version_minor": 0
      },
      "text/plain": [
       "  0%|          | 0/40 [00:00<?, ?it/s]"
      ]
     },
     "metadata": {},
     "output_type": "display_data"
    },
    {
     "name": "stdout",
     "output_type": "stream",
     "text": [
      "4/4 [==============================] - 1s 142ms/step\n",
      "4/4 [==============================] - 1s 154ms/step\n",
      "4/4 [==============================] - 1s 141ms/step\n",
      "4/4 [==============================] - 1s 136ms/step\n",
      "4/4 [==============================] - 1s 136ms/step\n",
      "4/4 [==============================] - 1s 138ms/step\n",
      "4/4 [==============================] - 1s 134ms/step\n",
      "4/4 [==============================] - 1s 138ms/step\n",
      "4/4 [==============================] - 1s 128ms/step\n",
      "4/4 [==============================] - 1s 134ms/step\n",
      "4/4 [==============================] - 1s 146ms/step\n",
      "4/4 [==============================] - 1s 150ms/step\n",
      "4/4 [==============================] - 1s 147ms/step\n",
      "4/4 [==============================] - 1s 149ms/step\n",
      "4/4 [==============================] - 1s 137ms/step\n",
      "4/4 [==============================] - 1s 136ms/step\n",
      "4/4 [==============================] - 1s 136ms/step\n",
      "4/4 [==============================] - 1s 137ms/step\n",
      "4/4 [==============================] - 1s 141ms/step\n",
      "4/4 [==============================] - 1s 142ms/step\n",
      "4/4 [==============================] - 1s 133ms/step\n",
      "4/4 [==============================] - 1s 138ms/step\n",
      "4/4 [==============================] - 1s 148ms/step\n",
      "4/4 [==============================] - 1s 144ms/step\n",
      "4/4 [==============================] - 1s 152ms/step\n",
      "4/4 [==============================] - 1s 148ms/step\n",
      "4/4 [==============================] - 1s 155ms/step\n",
      "4/4 [==============================] - 1s 134ms/step\n",
      "4/4 [==============================] - 1s 138ms/step\n",
      "4/4 [==============================] - 1s 136ms/step\n",
      "4/4 [==============================] - 1s 178ms/step\n",
      "4/4 [==============================] - 1s 186ms/step\n",
      "4/4 [==============================] - 1s 176ms/step\n",
      "4/4 [==============================] - 1s 212ms/step\n",
      "4/4 [==============================] - 1s 174ms/step\n",
      "4/4 [==============================] - 1s 175ms/step\n",
      "4/4 [==============================] - 1s 165ms/step\n",
      "4/4 [==============================] - 1s 151ms/step\n",
      "4/4 [==============================] - 1s 164ms/step\n",
      "4/4 [==============================] - 1s 154ms/step\n",
      "1/1 [==============================] - 0s 115ms/step\n"
     ]
    },
    {
     "data": {
      "application/vnd.jupyter.widget-view+json": {
       "model_id": "",
       "version_major": 2,
       "version_minor": 0
      },
      "text/plain": [
       "  0%|          | 0/40 [00:00<?, ?it/s]"
      ]
     },
     "metadata": {},
     "output_type": "display_data"
    },
    {
     "name": "stdout",
     "output_type": "stream",
     "text": [
      "4/4 [==============================] - 1s 164ms/step\n",
      "4/4 [==============================] - 1s 169ms/step\n",
      "4/4 [==============================] - 1s 190ms/step\n",
      "4/4 [==============================] - 1s 203ms/step\n",
      "4/4 [==============================] - 1s 199ms/step\n",
      "4/4 [==============================] - 1s 194ms/step\n",
      "4/4 [==============================] - 1s 186ms/step\n",
      "4/4 [==============================] - 1s 183ms/step\n",
      "4/4 [==============================] - 1s 168ms/step\n",
      "4/4 [==============================] - 1s 176ms/step\n",
      "4/4 [==============================] - 1s 173ms/step\n",
      "4/4 [==============================] - 1s 192ms/step\n",
      "4/4 [==============================] - 1s 190ms/step\n",
      "4/4 [==============================] - 1s 193ms/step\n",
      "4/4 [==============================] - 1s 167ms/step\n",
      "4/4 [==============================] - 1s 178ms/step\n",
      "4/4 [==============================] - 1s 173ms/step\n",
      "4/4 [==============================] - 1s 173ms/step\n",
      "4/4 [==============================] - 1s 176ms/step\n",
      "4/4 [==============================] - 1s 182ms/step\n",
      "4/4 [==============================] - 1s 172ms/step\n",
      "4/4 [==============================] - 1s 186ms/step\n",
      "4/4 [==============================] - 1s 189ms/step\n",
      "4/4 [==============================] - 1s 173ms/step\n",
      "4/4 [==============================] - 1s 186ms/step\n",
      "4/4 [==============================] - 1s 184ms/step\n",
      "4/4 [==============================] - 1s 183ms/step\n",
      "4/4 [==============================] - 1s 183ms/step\n",
      "4/4 [==============================] - 1s 177ms/step\n",
      "4/4 [==============================] - 1s 175ms/step\n",
      "4/4 [==============================] - 1s 189ms/step\n",
      "4/4 [==============================] - 1s 191ms/step\n",
      "4/4 [==============================] - 1s 177ms/step\n",
      "4/4 [==============================] - 1s 176ms/step\n",
      "4/4 [==============================] - 1s 183ms/step\n",
      "4/4 [==============================] - 1s 186ms/step\n",
      "4/4 [==============================] - 1s 180ms/step\n",
      "4/4 [==============================] - 1s 184ms/step\n",
      "4/4 [==============================] - 1s 203ms/step\n",
      "4/4 [==============================] - 1s 197ms/step\n",
      "1/1 [==============================] - 0s 128ms/step\n"
     ]
    },
    {
     "data": {
      "image/png": "[encoded data removed]",
      "text/plain": [
       "<Figure size 800x400 with 32 Axes>"
      ]
     },
     "metadata": {},
     "output_type": "display_data"
    },
    {
     "name": "stdout",
     "output_type": "stream",
     "text": [
      "Якщо генератор і дескрімінатор сбалансовані, точність генератора прямує в 0 або 1:\n",
      "0.5076497395833334\n"
     ]
    },
    {
     "data": {
      "application/vnd.jupyter.widget-view+json": {
       "model_id": "",
       "version_major": 2,
       "version_minor": 0
      },
      "text/plain": [
       "  0%|          | 0/40 [00:00<?, ?it/s]"
      ]
     },
     "metadata": {},
     "output_type": "display_data"
    },
    {
     "name": "stdout",
     "output_type": "stream",
     "text": [
      "4/4 [==============================] - 1s 219ms/step\n",
      "4/4 [==============================] - 1s 185ms/step\n",
      "4/4 [==============================] - 1s 193ms/step\n",
      "4/4 [==============================] - 1s 180ms/step\n",
      "4/4 [==============================] - 1s 188ms/step\n",
      "4/4 [==============================] - 1s 181ms/step\n",
      "4/4 [==============================] - 1s 185ms/step\n",
      "4/4 [==============================] - 1s 192ms/step\n",
      "4/4 [==============================] - 1s 200ms/step\n",
      "4/4 [==============================] - 1s 182ms/step\n",
      "4/4 [==============================] - 1s 183ms/step\n",
      "4/4 [==============================] - 1s 178ms/step\n",
      "4/4 [==============================] - 1s 186ms/step\n",
      "4/4 [==============================] - 1s 180ms/step\n",
      "4/4 [==============================] - 1s 173ms/step\n",
      "4/4 [==============================] - 1s 195ms/step\n",
      "4/4 [==============================] - 1s 194ms/step\n",
      "4/4 [==============================] - 1s 197ms/step\n",
      "4/4 [==============================] - 1s 180ms/step\n",
      "4/4 [==============================] - 1s 182ms/step\n",
      "4/4 [==============================] - 1s 179ms/step\n",
      "4/4 [==============================] - 1s 183ms/step\n",
      "4/4 [==============================] - 1s 196ms/step\n",
      "4/4 [==============================] - 1s 174ms/step\n",
      "4/4 [==============================] - 1s 203ms/step\n",
      "4/4 [==============================] - 1s 192ms/step\n",
      "4/4 [==============================] - 1s 188ms/step\n",
      "4/4 [==============================] - 1s 192ms/step\n",
      "4/4 [==============================] - 1s 190ms/step\n",
      "4/4 [==============================] - 1s 188ms/step\n",
      "4/4 [==============================] - 1s 201ms/step\n",
      "4/4 [==============================] - 1s 185ms/step\n",
      "4/4 [==============================] - 1s 180ms/step\n",
      "4/4 [==============================] - 1s 195ms/step\n",
      "4/4 [==============================] - 1s 198ms/step\n",
      "4/4 [==============================] - 1s 187ms/step\n",
      "4/4 [==============================] - 1s 182ms/step\n",
      "4/4 [==============================] - 1s 180ms/step\n",
      "4/4 [==============================] - 1s 192ms/step\n",
      "4/4 [==============================] - 1s 181ms/step\n",
      "1/1 [==============================] - 0s 124ms/step\n"
     ]
    },
    {
     "data": {
      "application/vnd.jupyter.widget-view+json": {
       "model_id": "",
       "version_major": 2,
       "version_minor": 0
      },
      "text/plain": [
       "  0%|          | 0/40 [00:00<?, ?it/s]"
      ]
     },
     "metadata": {},
     "output_type": "display_data"
    },
    {
     "name": "stdout",
     "output_type": "stream",
     "text": [
      "4/4 [==============================] - 1s 194ms/step\n",
      "4/4 [==============================] - 1s 200ms/step\n",
      "4/4 [==============================] - 1s 197ms/step\n",
      "4/4 [==============================] - 1s 178ms/step\n",
      "4/4 [==============================] - 1s 180ms/step\n",
      "4/4 [==============================] - 1s 191ms/step\n",
      "4/4 [==============================] - 1s 184ms/step\n",
      "4/4 [==============================] - 1s 184ms/step\n",
      "4/4 [==============================] - 1s 195ms/step\n",
      "4/4 [==============================] - 1s 185ms/step\n",
      "4/4 [==============================] - 1s 192ms/step\n",
      "4/4 [==============================] - 1s 200ms/step\n",
      "4/4 [==============================] - 1s 198ms/step\n",
      "4/4 [==============================] - 1s 182ms/step\n",
      "4/4 [==============================] - 1s 179ms/step\n",
      "4/4 [==============================] - 1s 183ms/step\n",
      "4/4 [==============================] - 1s 194ms/step\n",
      "4/4 [==============================] - 1s 187ms/step\n",
      "4/4 [==============================] - 1s 192ms/step\n",
      "4/4 [==============================] - 1s 200ms/step\n",
      "4/4 [==============================] - 1s 187ms/step\n",
      "4/4 [==============================] - 1s 185ms/step\n",
      "4/4 [==============================] - 1s 186ms/step\n",
      "4/4 [==============================] - 1s 182ms/step\n",
      "4/4 [==============================] - 1s 192ms/step\n",
      "4/4 [==============================] - 1s 194ms/step\n",
      "4/4 [==============================] - 1s 184ms/step\n",
      "4/4 [==============================] - 1s 192ms/step\n",
      "4/4 [==============================] - 1s 197ms/step\n",
      "4/4 [==============================] - 1s 189ms/step\n",
      "4/4 [==============================] - 1s 183ms/step\n",
      "4/4 [==============================] - 1s 184ms/step\n",
      "4/4 [==============================] - 1s 178ms/step\n",
      "4/4 [==============================] - 1s 187ms/step\n",
      "4/4 [==============================] - 1s 187ms/step\n",
      "4/4 [==============================] - 1s 204ms/step\n",
      "4/4 [==============================] - 1s 202ms/step\n",
      "4/4 [==============================] - 1s 206ms/step\n",
      "4/4 [==============================] - 1s 204ms/step\n",
      "4/4 [==============================] - 1s 193ms/step\n",
      "1/1 [==============================] - 0s 117ms/step\n"
     ]
    },
    {
     "data": {
      "application/vnd.jupyter.widget-view+json": {
       "model_id": "",
       "version_major": 2,
       "version_minor": 0
      },
      "text/plain": [
       "  0%|          | 0/40 [00:00<?, ?it/s]"
      ]
     },
     "metadata": {},
     "output_type": "display_data"
    },
    {
     "name": "stdout",
     "output_type": "stream",
     "text": [
      "4/4 [==============================] - 1s 192ms/step\n",
      "4/4 [==============================] - 1s 183ms/step\n",
      "4/4 [==============================] - 1s 193ms/step\n",
      "4/4 [==============================] - 1s 185ms/step\n",
      "4/4 [==============================] - 1s 197ms/step\n",
      "4/4 [==============================] - 1s 198ms/step\n",
      "4/4 [==============================] - 1s 180ms/step\n",
      "4/4 [==============================] - 1s 192ms/step\n",
      "4/4 [==============================] - 1s 188ms/step\n",
      "4/4 [==============================] - 1s 186ms/step\n",
      "4/4 [==============================] - 1s 186ms/step\n",
      "4/4 [==============================] - 1s 189ms/step\n",
      "4/4 [==============================] - 1s 198ms/step\n",
      "4/4 [==============================] - 1s 200ms/step\n",
      "4/4 [==============================] - 1s 182ms/step\n",
      "4/4 [==============================] - 1s 186ms/step\n",
      "4/4 [==============================] - 1s 189ms/step\n",
      "4/4 [==============================] - 1s 186ms/step\n",
      "4/4 [==============================] - 1s 188ms/step\n",
      "4/4 [==============================] - 1s 188ms/step\n",
      "4/4 [==============================] - 1s 183ms/step\n",
      "4/4 [==============================] - 1s 194ms/step\n",
      "4/4 [==============================] - 1s 195ms/step\n",
      "4/4 [==============================] - 1s 183ms/step\n",
      "4/4 [==============================] - 1s 192ms/step\n",
      "4/4 [==============================] - 1s 188ms/step\n",
      "4/4 [==============================] - 1s 190ms/step\n",
      "4/4 [==============================] - 1s 189ms/step\n",
      "4/4 [==============================] - 1s 185ms/step\n",
      "4/4 [==============================] - 1s 204ms/step\n",
      "4/4 [==============================] - 1s 204ms/step\n",
      "4/4 [==============================] - 1s 188ms/step\n",
      "4/4 [==============================] - 1s 194ms/step\n",
      "4/4 [==============================] - 1s 196ms/step\n",
      "4/4 [==============================] - 1s 181ms/step\n",
      "4/4 [==============================] - 1s 205ms/step\n",
      "4/4 [==============================] - 1s 187ms/step\n",
      "4/4 [==============================] - 1s 183ms/step\n",
      "4/4 [==============================] - 1s 202ms/step\n",
      "4/4 [==============================] - 1s 199ms/step\n",
      "1/1 [==============================] - 0s 130ms/step\n"
     ]
    },
    {
     "data": {
      "application/vnd.jupyter.widget-view+json": {
       "model_id": "",
       "version_major": 2,
       "version_minor": 0
      },
      "text/plain": [
       "  0%|          | 0/40 [00:00<?, ?it/s]"
      ]
     },
     "metadata": {},
     "output_type": "display_data"
    },
    {
     "name": "stdout",
     "output_type": "stream",
     "text": [
      "4/4 [==============================] - 1s 195ms/step\n",
      "4/4 [==============================] - 1s 183ms/step\n",
      "4/4 [==============================] - 1s 181ms/step\n",
      "4/4 [==============================] - 1s 187ms/step\n",
      "4/4 [==============================] - 1s 185ms/step\n",
      "4/4 [==============================] - 1s 191ms/step\n",
      "4/4 [==============================] - 1s 203ms/step\n",
      "4/4 [==============================] - 1s 195ms/step\n",
      "4/4 [==============================] - 1s 180ms/step\n",
      "4/4 [==============================] - 1s 197ms/step\n",
      "4/4 [==============================] - 1s 192ms/step\n",
      "4/4 [==============================] - 1s 191ms/step\n",
      "4/4 [==============================] - 1s 189ms/step\n",
      "4/4 [==============================] - 1s 183ms/step\n",
      "4/4 [==============================] - 1s 183ms/step\n",
      "4/4 [==============================] - 1s 196ms/step\n",
      "4/4 [==============================] - 1s 198ms/step\n",
      "4/4 [==============================] - 1s 182ms/step\n",
      "4/4 [==============================] - 1s 189ms/step\n",
      "4/4 [==============================] - 1s 189ms/step\n",
      "4/4 [==============================] - 1s 182ms/step\n",
      "4/4 [==============================] - 1s 185ms/step\n",
      "4/4 [==============================] - 1s 183ms/step\n",
      "4/4 [==============================] - 1s 204ms/step\n",
      "4/4 [==============================] - 1s 200ms/step\n",
      "4/4 [==============================] - 1s 188ms/step\n",
      "4/4 [==============================] - 1s 191ms/step\n",
      "4/4 [==============================] - 1s 178ms/step\n",
      "4/4 [==============================] - 1s 190ms/step\n",
      "4/4 [==============================] - 1s 204ms/step\n",
      "4/4 [==============================] - 1s 199ms/step\n",
      "4/4 [==============================] - 1s 179ms/step\n",
      "4/4 [==============================] - 1s 208ms/step\n",
      "4/4 [==============================] - 1s 200ms/step\n",
      "4/4 [==============================] - 1s 184ms/step\n",
      "4/4 [==============================] - 1s 192ms/step\n",
      "4/4 [==============================] - 1s 188ms/step\n",
      "4/4 [==============================] - 1s 196ms/step\n",
      "4/4 [==============================] - 1s 187ms/step\n",
      "4/4 [==============================] - 1s 194ms/step\n",
      "1/1 [==============================] - 0s 128ms/step\n"
     ]
    },
    {
     "data": {
      "application/vnd.jupyter.widget-view+json": {
       "model_id": "",
       "version_major": 2,
       "version_minor": 0
      },
      "text/plain": [
       "  0%|          | 0/40 [00:00<?, ?it/s]"
      ]
     },
     "metadata": {},
     "output_type": "display_data"
    },
    {
     "name": "stdout",
     "output_type": "stream",
     "text": [
      "4/4 [==============================] - 1s 200ms/step\n",
      "4/4 [==============================] - 1s 198ms/step\n",
      "4/4 [==============================] - 1s 191ms/step\n",
      "4/4 [==============================] - 1s 198ms/step\n",
      "4/4 [==============================] - 1s 185ms/step\n",
      "4/4 [==============================] - 1s 190ms/step\n",
      "4/4 [==============================] - 1s 178ms/step\n",
      "4/4 [==============================] - 1s 193ms/step\n",
      "4/4 [==============================] - 1s 188ms/step\n",
      "4/4 [==============================] - 1s 196ms/step\n",
      "4/4 [==============================] - 1s 198ms/step\n",
      "4/4 [==============================] - 1s 188ms/step\n",
      "4/4 [==============================] - 1s 188ms/step\n",
      "4/4 [==============================] - 1s 188ms/step\n",
      "4/4 [==============================] - 1s 192ms/step\n",
      "4/4 [==============================] - 1s 185ms/step\n",
      "4/4 [==============================] - 1s 180ms/step\n",
      "4/4 [==============================] - 1s 195ms/step\n",
      "4/4 [==============================] - 1s 191ms/step\n",
      "4/4 [==============================] - 1s 182ms/step\n",
      "4/4 [==============================] - 1s 186ms/step\n",
      "4/4 [==============================] - 1s 191ms/step\n",
      "4/4 [==============================] - 1s 178ms/step\n",
      "4/4 [==============================] - 1s 200ms/step\n",
      "4/4 [==============================] - 1s 181ms/step\n",
      "4/4 [==============================] - 1s 189ms/step\n",
      "4/4 [==============================] - 1s 195ms/step\n",
      "4/4 [==============================] - 1s 198ms/step\n",
      "4/4 [==============================] - 1s 219ms/step\n",
      "4/4 [==============================] - 1s 250ms/step\n",
      "4/4 [==============================] - 1s 206ms/step\n",
      "4/4 [==============================] - 1s 184ms/step\n",
      "4/4 [==============================] - 1s 191ms/step\n",
      "4/4 [==============================] - 1s 198ms/step\n",
      "4/4 [==============================] - 1s 209ms/step\n",
      "4/4 [==============================] - 1s 205ms/step\n",
      "4/4 [==============================] - 1s 181ms/step\n",
      "4/4 [==============================] - 1s 173ms/step\n",
      "4/4 [==============================] - 1s 183ms/step\n",
      "4/4 [==============================] - 1s 194ms/step\n",
      "1/1 [==============================] - 0s 119ms/step\n"
     ]
    },
    {
     "data": {
      "application/vnd.jupyter.widget-view+json": {
       "model_id": "",
       "version_major": 2,
       "version_minor": 0
      },
      "text/plain": [
       "  0%|          | 0/40 [00:00<?, ?it/s]"
      ]
     },
     "metadata": {},
     "output_type": "display_data"
    },
    {
     "name": "stdout",
     "output_type": "stream",
     "text": [
      "4/4 [==============================] - 1s 178ms/step\n",
      "4/4 [==============================] - 1s 184ms/step\n",
      "4/4 [==============================] - 1s 201ms/step\n",
      "4/4 [==============================] - 1s 207ms/step\n",
      "4/4 [==============================] - 1s 186ms/step\n",
      "4/4 [==============================] - 1s 180ms/step\n",
      "4/4 [==============================] - 1s 191ms/step\n",
      "4/4 [==============================] - 1s 191ms/step\n",
      "4/4 [==============================] - 1s 190ms/step\n",
      "4/4 [==============================] - 1s 187ms/step\n",
      "4/4 [==============================] - 1s 187ms/step\n",
      "4/4 [==============================] - 1s 196ms/step\n",
      "4/4 [==============================] - 1s 202ms/step\n",
      "4/4 [==============================] - 1s 189ms/step\n",
      "4/4 [==============================] - 1s 189ms/step\n",
      "4/4 [==============================] - 1s 188ms/step\n",
      "4/4 [==============================] - 1s 181ms/step\n",
      "4/4 [==============================] - 1s 188ms/step\n",
      "4/4 [==============================] - 1s 177ms/step\n",
      "4/4 [==============================] - 1s 200ms/step\n",
      "4/4 [==============================] - 1s 204ms/step\n",
      "4/4 [==============================] - 1s 180ms/step\n",
      "4/4 [==============================] - 1s 198ms/step\n",
      "4/4 [==============================] - 1s 182ms/step\n",
      "4/4 [==============================] - 1s 202ms/step\n",
      "4/4 [==============================] - 1s 197ms/step\n",
      "4/4 [==============================] - 1s 182ms/step\n",
      "4/4 [==============================] - 1s 199ms/step\n",
      "4/4 [==============================] - 1s 202ms/step\n",
      "4/4 [==============================] - 1s 202ms/step\n",
      "4/4 [==============================] - 1s 185ms/step\n",
      "4/4 [==============================] - 1s 196ms/step\n",
      "4/4 [==============================] - 1s 180ms/step\n",
      "4/4 [==============================] - 1s 186ms/step\n",
      "4/4 [==============================] - 1s 190ms/step\n",
      "4/4 [==============================] - 1s 186ms/step\n",
      "4/4 [==============================] - 1s 194ms/step\n",
      "4/4 [==============================] - 1s 208ms/step\n",
      "4/4 [==============================] - 1s 195ms/step\n",
      "4/4 [==============================] - 1s 188ms/step\n",
      "1/1 [==============================] - 0s 120ms/step\n"
     ]
    },
    {
     "data": {
      "application/vnd.jupyter.widget-view+json": {
       "model_id": "37e2f730037d4f4a9acc23ca84b75ef7",
       "version_major": 2,
       "version_minor": 0
      },
      "text/plain": [
       "  0%|          | 0/40 [00:00<?, ?it/s]"
      ]
     },
     "metadata": {},
     "output_type": "display_data"
    },
    {
     "name": "stdout",
     "output_type": "stream",
     "text": [
      "4/4 [==============================] - 1s 187ms/step\n",
      "4/4 [==============================] - 1s 187ms/step\n",
      "4/4 [==============================] - 1s 196ms/step\n",
      "4/4 [==============================] - 1s 196ms/step\n",
      "4/4 [==============================] - 1s 189ms/step\n",
      "4/4 [==============================] - 1s 209ms/step\n",
      "4/4 [==============================] - 1s 203ms/step\n",
      "4/4 [==============================] - 1s 192ms/step\n",
      "4/4 [==============================] - 1s 190ms/step\n",
      "4/4 [==============================] - 1s 193ms/step\n",
      "4/4 [==============================] - 1s 179ms/step\n",
      "4/4 [==============================] - 1s 188ms/step\n",
      "4/4 [==============================] - 1s 190ms/step\n",
      "4/4 [==============================] - 1s 189ms/step\n",
      "4/4 [==============================] - 1s 198ms/step\n",
      "4/4 [==============================] - 1s 208ms/step\n",
      "4/4 [==============================] - 1s 179ms/step\n",
      "4/4 [==============================] - 1s 196ms/step\n",
      "4/4 [==============================] - 1s 199ms/step\n",
      "4/4 [==============================] - 1s 187ms/step\n",
      "4/4 [==============================] - 1s 192ms/step\n",
      "4/4 [==============================] - 1s 192ms/step\n",
      "4/4 [==============================] - 1s 192ms/step\n",
      "4/4 [==============================] - 1s 204ms/step\n",
      "4/4 [==============================] - 1s 206ms/step\n",
      "4/4 [==============================] - 1s 186ms/step\n",
      "4/4 [==============================] - 1s 184ms/step\n",
      "4/4 [==============================] - 1s 189ms/step\n",
      "4/4 [==============================] - 1s 202ms/step\n",
      "4/4 [==============================] - 1s 193ms/step\n",
      "4/4 [==============================] - 1s 221ms/step\n",
      "4/4 [==============================] - 1s 199ms/step\n",
      "4/4 [==============================] - 1s 200ms/step\n",
      "4/4 [==============================] - 1s 191ms/step\n",
      "4/4 [==============================] - 1s 192ms/step\n",
      "4/4 [==============================] - 1s 204ms/step\n",
      "4/4 [==============================] - 1s 181ms/step\n",
      "4/4 [==============================] - 1s 182ms/step\n"
     ]
    }
   ],
   "source": [
    "%%time\n",
    "EPOCHS = 500\n",
    "BATCH_SIZE = 128\n",
    "data = DataGenerator(train_images, train_labels, batches_per_epoch=40, batch_size=BATCH_SIZE)\n",
    "# масив для відслідковування стабільності навчання\n",
    "generator_acc_follow = []\n",
    "for epoch in tqdm(range(1, EPOCHS+1)):\n",
    "    for images_batch, labels_batch in data:\n",
    "        # Навчання дискримінатора\n",
    "        noise = data.rand_batch()\n",
    "        generated_images = generator.predict(noise)\n",
    "        X = np.concatenate([images_batch, generated_images])\n",
    "        # Згладжування цільових значень\n",
    "        y_real = np.random.uniform(0.8, 1, size=[BATCH_SIZE])\n",
    "        y_fake = np.random.uniform(0, 0.2, size=[BATCH_SIZE])\n",
    "        y_real_fake = np.concatenate([y_real, y_fake])\n",
    "        # Цільові значення міток\n",
    "        y_labels = np.concatenate([labels_batch, np.zeros((BATCH_SIZE, DEPTH))])\n",
    "        # навчаємо дискрімінатор\n",
    "        discriminator.train_on_batch(X, [y_real_fake, y_labels])\n",
    "        \n",
    "        # Навчання генератора\n",
    "        noise = data.rand_batch()\n",
    "        # Вказуємо цільові значення\n",
    "        y_real_fake = np.ones(BATCH_SIZE)\n",
    "        # Навчаємо GAN і зберігаємо точність у масив\n",
    "        generator_acc_follow.append(gan.train_on_batch(noise, [y_real_fake, noise[1]])[-1])\n",
    "\n",
    "    # Будуємо зображення і зберігаємо його для створення .gif\n",
    "    title = f\"DCGAN training process {epoch} over {EPOCHS} epochs\"\n",
    "    if epoch%int(EPOCHS/40)==0:\n",
    "        plot_generated_images(FIXED_NOISE, folder_name, title, show=True)\n",
    "        print('Якщо генератор і дескрімінатор сбалансовані, точність генератора прямує в 0 або 1:')\n",
    "        print(np.mean(generator_acc_follow))\n",
    "        generator_acc_follow = []\n",
    "    else:\n",
    "        plot_generated_images(FIXED_NOISE, folder_name, title)\n",
    "        \n",
    "generator.save('generator_trained.h5')"
   ]
  },
  {
   "cell_type": "code",
   "execution_count": 3,
   "id": "80c59531",
   "metadata": {},
   "outputs": [],
   "source": [
    "for folder_data in os.walk(os.path.join(folder_name)):\n",
    "    all_pics_filenames = sorted(folder_data[2], key=lambda x: int(x.split()[3]))\n",
    "\n",
    "with imageio.get_writer('DCGAN training.gif', mode='I', fps=60) as writer:\n",
    "    for filename in tqdm(all_pics_filenames):\n",
    "        image = imageio.imread(os.path.join(folder_name, filename))\n",
    "        writer.append_data(image)\n",
    "        \n",
    "with open('DCGAN training.gif','rb') as f:\n",
    "    display(Image(data=f.read(), format='png'))"
   ]
  },
  {
   "cell_type": "code",
   "execution_count": null,
   "id": "75d3e9d6",
   "metadata": {},
   "outputs": [],
   "source": []
  },
  {
   "cell_type": "code",
   "execution_count": null,
   "id": "524fdfa6",
   "metadata": {},
   "outputs": [],
   "source": []
  }
 ],
 "metadata": {
  "kernelspec": {
   "display_name": "Python 3 (ipykernel)",
   "language": "python",
   "name": "python3"
  },
  "language_info": {
   "codemirror_mode": {
    "name": "ipython",
    "version": 3
   },
   "file_extension": ".py",
   "mimetype": "text/x-python",
   "name": "python",
   "nbconvert_exporter": "python",
   "pygments_lexer": "ipython3",
   "version": "3.10.8"
  }
 },
 "nbformat": 4,
 "nbformat_minor": 5
}
